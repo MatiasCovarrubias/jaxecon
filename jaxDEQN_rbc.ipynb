{
  "cells": [
    {
      "cell_type": "markdown",
      "metadata": {
        "id": "view-in-github",
        "colab_type": "text"
      },
      "source": [
        "<a href=\"https://colab.research.google.com/github/MatiasCovarrubias/jaxecon/blob/main/jaxDEQN_rbc.ipynb\" target=\"_parent\"><img src=\"https://colab.research.google.com/assets/colab-badge.svg\" alt=\"Open In Colab\"/></a>"
      ]
    },
    {
      "cell_type": "markdown",
      "metadata": {
        "id": "zmNe6o_4tTEy"
      },
      "source": [
        "# DEQN Solver in Jax: Prelims\n",
        "\n",
        "This notebook trains a neural net to output the optimal policy of a nonlinear Rbc model.\n",
        "\n"
      ]
    },
    {
      "cell_type": "code",
      "execution_count": null,
      "metadata": {
        "colab": {
          "base_uri": "https://localhost:8080/"
        },
        "id": "Ue0dX6Q14A1Q",
        "outputId": "4f6d4918-f222-4e51-c4e6-ae1fe9f3d6c5"
      },
      "outputs": [
        {
          "output_type": "stream",
          "name": "stdout",
          "text": [
            "Wed Feb 21 16:11:52 2024       \n",
            "+---------------------------------------------------------------------------------------+\n",
            "| NVIDIA-SMI 535.104.05             Driver Version: 535.104.05   CUDA Version: 12.2     |\n",
            "|-----------------------------------------+----------------------+----------------------+\n",
            "| GPU  Name                 Persistence-M | Bus-Id        Disp.A | Volatile Uncorr. ECC |\n",
            "| Fan  Temp   Perf          Pwr:Usage/Cap |         Memory-Usage | GPU-Util  Compute M. |\n",
            "|                                         |                      |               MIG M. |\n",
            "|=========================================+======================+======================|\n",
            "|   0  Tesla T4                       Off | 00000000:00:04.0 Off |                    0 |\n",
            "| N/A   61C    P8              10W /  70W |      0MiB / 15360MiB |      0%      Default |\n",
            "|                                         |                      |                  N/A |\n",
            "+-----------------------------------------+----------------------+----------------------+\n",
            "                                                                                         \n",
            "+---------------------------------------------------------------------------------------+\n",
            "| Processes:                                                                            |\n",
            "|  GPU   GI   CI        PID   Type   Process name                            GPU Memory |\n",
            "|        ID   ID                                                             Usage      |\n",
            "|=======================================================================================|\n",
            "|  No running processes found                                                           |\n",
            "+---------------------------------------------------------------------------------------+\n",
            "Mounted at /content/drive\n"
          ]
        }
      ],
      "source": [
        "# BACKEND RELATED: the default backend is CPU (change in Edit -> Notebook settings)\n",
        "GPU = True # set True if using GPU (only to see GPU)\n",
        "if GPU:\n",
        "  !nvidia-smi\n",
        "\n",
        "# precision\n",
        "from jax import numpy as jnp, lax, random, config\n",
        "double_precision = True\n",
        "if double_precision:\n",
        "  config.update(\"jax_enable_x64\", True)\n",
        "  precision = jnp.float64\n",
        "else:\n",
        "  precision = jnp.float32\n",
        "\n",
        "# Imports\n",
        "import matplotlib.pyplot as plt, jax, flax, optax, os, json\n",
        "import flax.linen as nn\n",
        "from flax.training.train_state import TrainState  # Useful dataclass to keep train state\n",
        "from flax.training import checkpoints\n",
        "from flax.core import freeze, unfreeze\n",
        "import optax\n",
        "from time import time\n",
        "from typing import Sequence\n",
        "config.update(\"jax_debug_nans\", True)\n",
        "\n",
        "# Mount Google Drive to store results (a pop up will appear, follow instructions)\n",
        "from google.colab import drive\n",
        "drive.mount('/content/drive')\n"
      ]
    },
    {
      "cell_type": "markdown",
      "metadata": {
        "id": "rIQLSPJLvaPE"
      },
      "source": [
        "# Create Neural Net Policy\n",
        "\n",
        "First, we use Flax to create the Neural Net, Notice that we activate the last layer using Softplus to guarantee that we get possitive outputs.\n",
        "\n",
        "See https://flax.readthedocs.io/en/latest/getting_started.html"
      ]
    },
    {
      "cell_type": "code",
      "execution_count": null,
      "metadata": {
        "id": "NVGY1ZCnvtXh"
      },
      "outputs": [],
      "source": [
        "class NeuralNet(nn.Module):\n",
        "  features: Sequence[int]\n",
        "  param_dtype = precision\n",
        "\n",
        "  @nn.compact\n",
        "  def __call__(self, x):\n",
        "    for feat in self.features[:-1]:\n",
        "      x = nn.relu(nn.Dense(feat, param_dtype=precision)(x))\n",
        "    x = nn.softplus(nn.Dense(self.features[-1], param_dtype=precision)(x))\n",
        "    return x"
      ]
    },
    {
      "cell_type": "markdown",
      "metadata": {
        "id": "7LXEca1NwAiC"
      },
      "source": [
        "# Create Economic Model\n",
        "\n",
        "We will represent our model as clas with four main methods (or functions): initial_obs to get first observation; step to advance a period, expectation to get the expectation term given a state, policy, and shock; and a loss funciton that gets as the loss given a state, policy and expectation term."
      ]
    },
    {
      "cell_type": "code",
      "source": [
        "class Model():\n",
        "  \"\"\"A JAX implementation of an RBC model.\"\"\"\n",
        "\n",
        "  def __init__(self):\n",
        "    # set parameters\n",
        "    self.beta = jnp.array(0.96, dtype=precision)\n",
        "    self.alpha = jnp.array(0.3, dtype=precision)\n",
        "    self.delta = jnp.array(0.1, dtype=precision)\n",
        "    self.rho = jnp.array(0.9, dtype=precision)\n",
        "    self.shock_sd = jnp.array(0.02, dtype=precision)\n",
        "\n",
        "\n",
        "    # set steady state and standard deviations for normalization\n",
        "    self.k_ss = jnp.log((self.alpha/(1/self.beta-1+self.delta))**(1/(1-self.alpha)))\n",
        "    self.a_ss = jnp.array(0, dtype=precision)\n",
        "    self.obs_ss = jnp.array([self.k_ss, 0], dtype=precision)\n",
        "    self.obs_sd = jnp.array([1, 1], dtype=precision)  # use 1 if you don't have an estimate\n",
        "    self.policy_ss = self.k_ss\n",
        "\n",
        "    # number of policies\n",
        "    self.n_actions = 1\n",
        "\n",
        "  def initial_obs(self, rng):\n",
        "    \"\"\" Get initial obs given first shock \"\"\"\n",
        "    rng_k, rng_a = random.split(rng,2)\n",
        "    K = random.uniform(\n",
        "            rng_k, minval=0.9 * jnp.exp(self.k_ss), maxval=1.1 * jnp.exp(self.k_ss), dtype=precision\n",
        "        )  # get uniform draw around the steady state\n",
        "    A = random.uniform(\n",
        "            rng_a, minval=0.9 * jnp.exp(self.a_ss), maxval=1.1 * jnp.exp(self.a_ss), dtype=precision\n",
        "        )  # get uniform draw around the steady state\n",
        "\n",
        "    obs_init_notnorm = jnp.array([jnp.log(K), jnp.log(A)], dtype=precision)\n",
        "    obs_init = (obs_init_notnorm-self.obs_ss)/self.obs_sd # normalize\n",
        "    return obs_init\n",
        "\n",
        "  def step(self, obs, policy, shock):\n",
        "    \"\"\" A period step of the model, given current obs, the shock and policy \"\"\"\n",
        "\n",
        "    obs_notnorm = obs*self.obs_sd + self.obs_ss # denormalize\n",
        "    K = jnp.exp(obs_notnorm[0])                 # Kt in levels\n",
        "    a = obs_notnorm[1]                    # a_{t}\n",
        "    a_tplus1 = self.rho * a + self.shock_sd*shock[0]   # recover a_{t+1}\n",
        "    policy_notnorm = policy*jnp.exp(self.policy_ss)             # multiply by stst pols in level\n",
        "    # K_tplus1 = (1-self.delta)*K + policy_notnorm[0]             #get K_{t+1}\n",
        "    K_tplus1 = policy_notnorm[0]             #get K_{t+1}\n",
        "    obs_next_notnorm = jnp.array([jnp.log(K_tplus1),a_tplus1])  #concatenate observation\n",
        "    obs_next = (obs_next_notnorm-self.obs_ss)/self.obs_sd        # normalize\n",
        "\n",
        "    return obs_next\n",
        "\n",
        "\n",
        "  def expect_realization(self, obs_next, policy_next):\n",
        "    \"\"\" A realization (given a shock) of the expectation terms in system of equation \"\"\"\n",
        "\n",
        "    policy_notnorm = policy_next*jnp.exp(self.policy_ss) # multiply by stst pols in levels\n",
        "    K_tplus1 = policy_notnorm[0]                                # define investment\n",
        "\n",
        "    # Process observation\n",
        "    obs_notnorm = obs_next*self.obs_sd + self.obs_ss     # denormalize obs\n",
        "    K = jnp.exp(obs_notnorm[0])                          # K_{t+1} in levels\n",
        "    a = obs_notnorm[1]                             # a_{t}\n",
        "    I = K_tplus1 - (1-self.delta)*K\n",
        "    # Rest of variables\n",
        "    A = jnp.exp(a)\n",
        "    Y = A * K**self.alpha\n",
        "    C = Y-I\n",
        "\n",
        "    # Calculate the FOC for Pk\n",
        "    expect_realization = (1/C) * (1+ A * self.alpha * K**(self.alpha-1)-self.delta)\n",
        "\n",
        "    return expect_realization\n",
        "\n",
        "  def loss(self, obs, expect, policy):\n",
        "    \"\"\" Calculate loss associated with observing obs, having policy_params, and expectation exp \"\"\"\n",
        "\n",
        "    policy_notnorm = policy*jnp.exp(self.policy_ss)\n",
        "    K_tplus1 = policy_notnorm[0]\n",
        "\n",
        "    # Process observation\n",
        "    obs_notnorm = obs*self.obs_sd + self.obs_ss        # denormalize\n",
        "    K = jnp.exp(obs_notnorm[0])                        # put in levels\n",
        "    a = obs_notnorm[1]\n",
        "\n",
        "    # Rest of variables\n",
        "    I = K_tplus1-(1-self.delta)*K\n",
        "    A = jnp.exp(a)\n",
        "    Y = A * K**self.alpha\n",
        "    C = Y-I\n",
        "\n",
        "    # Calculate the FOC for Pk\n",
        "    FOC_loss = (1/C)/(self.beta*expect) - 1\n",
        "    mean_loss = jnp.mean(jnp.array([FOC_loss**2])) # here there is just one, but more gemore generally.\n",
        "    mean_accuracy = jnp.mean(jnp.array([1-jnp.abs(FOC_loss)]))\n",
        "    min_accuracy = jnp.min(jnp.array([1-jnp.abs(FOC_loss)]))\n",
        "    return mean_loss, mean_accuracy, min_accuracy\n",
        "\n",
        "  def sample_shock(self, rng, n_draws=1):\n",
        "    \"\"\" sample one realization of the shock.\n",
        "    Uncomment second line for continuous shocks instead of grid \"\"\"\n",
        "    # return random.choice(rng, jnp.array([-1.2816,-0.6745,0,0.6745, 1.2816]))\n",
        "    return random.normal(rng, shape=(n_draws,), dtype=precision)\n",
        "\n",
        "  def mc_shocks(self, rng=random.PRNGKey(0), mc_draws=8):\n",
        "    \"\"\" sample omc_draws realizations of the shock (for monte-carlo)\n",
        "    Uncomment second line for continuous shocks instead of grid \"\"\"\n",
        "    # return  jnp.array([-1.2816,-0.6745,0,0.6745, 1.2816])\n",
        "    return random.normal(rng, shape=(mc_draws,1), dtype = precision)\n",
        "\n",
        "  def ir_shocks(self):\n",
        "    \"\"\" (Optional) Define a set of shocks sequences that are of interest\"\"\"\n",
        "    # ir_shock_1 = jnp.array([-1]+[0 for i in range(40)])\n",
        "    # ir_shock_2 = jnp.array([1]+[0 for i in range(40)])\n",
        "    ir_shock_1 = jnp.zeros(shape=(40,1), dtype = precision).at[0,:].set(-1)\n",
        "    ir_shock_2 = jnp.zeros(shape=(40,1), dtype = precision).at[0,:].set(1)\n",
        "\n",
        "    return jnp.array([ir_shock_1, ir_shock_2])\n",
        "\n",
        "  def get_econ_stats(self, obs, policy):\n",
        "\n",
        "    policy_notnorm = policy*jnp.exp(self.policy_ss)\n",
        "    I = policy_notnorm[0]\n",
        "\n",
        "    # Process observation\n",
        "    obs_notnorm = obs*self.obs_sd + self.obs_ss        # denormalize\n",
        "    K = jnp.exp(obs_notnorm[0])                        # put in levels\n",
        "    a = obs_notnorm[1]\n",
        "\n",
        "    # Rest of variables\n",
        "    A = jnp.exp(a)\n",
        "    Y = A * K**self.alpha\n",
        "    C = Y-I\n",
        "\n",
        "    return jnp.array([K,I,Y,C])"
      ],
      "metadata": {
        "id": "9ueaQPW4GbcR"
      },
      "execution_count": null,
      "outputs": []
    },
    {
      "cell_type": "markdown",
      "source": [
        "## Test the environment\n",
        "We are going to make sure that the functions in our model are correct"
      ],
      "metadata": {
        "id": "Fz-RH8Wt23Rz"
      }
    },
    {
      "cell_type": "code",
      "source": [
        "env = Model()\n",
        "rng_test = random.PRNGKey(2)\n",
        "\n",
        "# test steady state policies with random params\n",
        "obs_ss = jnp.zeros_like(env.obs_ss, dtype=precision)\n",
        "nn_test = NeuralNet([2,2] + [env.n_actions])\n",
        "nn_policy_test = nn_test.apply\n",
        "params_test = nn_test.init(rng_test, obs_ss) # we initialize random params\n",
        "policy_ss = nn_policy_test(params_test,obs_ss)\n",
        "\n",
        "# intialize env\n",
        "obs_init = env.initial_obs(rng_test)\n",
        "\n",
        "# apply a step\n",
        "policy_firststep = nn_policy_test(params_test,obs_init)\n",
        "shock_firststep = env.sample_shock(rng_test)\n",
        "next_obs_firststep = env.step(obs_init, policy_firststep, shock_firststep)\n",
        "\n",
        "# calculate loss in first step.\n",
        "\n",
        "#First, we calculate expectations\n",
        "mc_shocks = env.mc_shocks(rng_test)\n",
        "mc_nextobs = jax.vmap(env.step, in_axes = (None,None,0))(obs_init, policy_firststep, mc_shocks) # next obs given policy and for each shock in mc_shocks\n",
        "\n",
        "mc_nextpols = nn_policy_test(params_test, mc_nextobs)\n",
        "expect_firststep = jnp.mean(jax.vmap(env.expect_realization)(mc_nextobs, mc_nextpols))\n",
        "\n",
        "# Second, we calculate loss given expectations and policy\n",
        "mean_loss, mean_accuracy, min_accuracy = env.loss(obs_init, expect_firststep, policy_firststep)\n",
        "print(\"test first step: \\n\",\n",
        "      \", Mean_loss:\", mean_loss,\n",
        "      \", Mean_accuracy:\", mean_accuracy,\n",
        "      \", Min_accuracy:\", min_accuracy)\n",
        "\n",
        "# calculate loss with policy = 1\n",
        "policy_ones = jnp.ones_like(policy_firststep)\n",
        "mc_nextobs = jax.vmap(env.step, in_axes = (None,None,0))(obs_ss, policy_ones, jnp.zeros_like(mc_shocks)) # next obs given policy and for each shock in mc_shocks\n",
        "print(\"next obs for montecarlo with policies =1 (should be an array with multiple obs =0)\", mc_nextobs)\n",
        "\n",
        "mc_nextpols = jnp.ones_like(mc_nextpols)\n",
        "expect = jnp.mean(jax.vmap(env.expect_realization)(mc_nextobs, mc_nextpols))\n",
        "print(\"expectation\", expect)\n",
        "\n",
        "mean_loss, mean_accuracy, min_accuracy = env.loss(obs_ss, expect, policy_ones)\n",
        "print(\"test that StSt. policies give 0 loss in StSt. obs: \\n\",\n",
        "      \", Mean_loss:\", mean_loss,\n",
        "      \", Mean_accuracy:\", mean_accuracy,\n",
        "      \", Min_accuracy:\", min_accuracy)\n"
      ],
      "metadata": {
        "colab": {
          "base_uri": "https://localhost:8080/"
        },
        "id": "-g60VDRJ-Zx_",
        "outputId": "ff4b4831-f127-42e0-9502-c35a486df634"
      },
      "execution_count": null,
      "outputs": [
        {
          "output_type": "stream",
          "name": "stdout",
          "text": [
            "test first step: \n",
            " , Mean_loss: 0.08757804310517178 , Mean_accuracy: 0.7040641233220079 , Min_accuracy: 0.7040641233220079\n",
            "next obs for montecarlo with policies =1 (should be an array with multiple obs =0) [[0. 0.]\n",
            " [0. 0.]\n",
            " [0. 0.]\n",
            " [0. 0.]\n",
            " [0. 0.]\n",
            " [0. 0.]\n",
            " [0. 0.]\n",
            " [0. 0.]]\n",
            "expectation 0.958123199223544\n",
            "test that StSt. policies give 0 loss in StSt. obs: \n",
            " , Mean_loss: 0.0 , Mean_accuracy: 1.0 , Min_accuracy: 1.0\n"
          ]
        }
      ]
    },
    {
      "cell_type": "markdown",
      "source": [
        "# Create Simulation function"
      ],
      "metadata": {
        "id": "Xf6Ond64MCsp"
      }
    },
    {
      "cell_type": "code",
      "source": [
        "def create_episode_simul_fn(env, config):\n",
        "\n",
        "  def sample_epis_obs(train_state, epis_rng):\n",
        "    \"sample obs of an episode\"\n",
        "    init_obs = env.initial_obs(epis_rng)\n",
        "    period_rngs = random.split(epis_rng, config[\"periods_per_epis\"])\n",
        "    def period_step(env_obs, period_rng):\n",
        "      policy = train_state.apply_fn(train_state.params, env_obs)                 # calculate policy\n",
        "      period_shock = config[\"simul_vol_scale\"]*env.sample_shock(period_rng)         # Sample next obs\n",
        "      obs_next = env.step(env_obs, policy, period_shock)  # apply period steps.\n",
        "      return obs_next, obs_next # we pass it two times because of the syntax of the lax.scan loop\n",
        "    _, epis_obs = lax.scan(period_step, init_obs, jnp.stack(period_rngs)) # we get the obs_batch\n",
        "    # init_obs = init_obs.reshape(1,init_obs.shape[0])\n",
        "    # epis_obs =jnp.concatenate([init_obs,epis_obs])\n",
        "    return epis_obs\n",
        "\n",
        "  return sample_epis_obs"
      ],
      "metadata": {
        "id": "1K6CZbSNMIWy"
      },
      "execution_count": null,
      "outputs": []
    },
    {
      "cell_type": "markdown",
      "source": [
        "## Test simulation function"
      ],
      "metadata": {
        "id": "cygQcsHYIiDN"
      }
    },
    {
      "cell_type": "code",
      "source": [
        "#CREATE ENV,  TRAIN_STATE AND RNG\n",
        "env_test = Model()\n",
        "nn_test = NeuralNet([2,2] + [env_test.n_actions])\n",
        "rng_test = random.PRNGKey(1)\n",
        "\n",
        "# CREATE CONFIG\n",
        "config_test = {\n",
        "    \"periods_per_epis\": 4,      # periods per episode\n",
        "    \"simul_vol_scale\": 1,        # scale of volatility while simul\n",
        "}\n",
        "\n",
        "# GET FUNCTIONS\n",
        "episode_simul_fn = create_episode_simul_fn(env_test, config_test)\n",
        "train_state_test = TrainState.create(apply_fn=nn_test.apply, params=nn_test.init(rng_test, env_test.initial_obs(rng_test)), tx=optax.adam(0.05))\n",
        "epis_rng, loss_rng = random.split(rng_test, 2)\n",
        "epis_obs = episode_simul_fn(train_state_test, epis_rng)\n",
        "print(epis_obs)"
      ],
      "metadata": {
        "colab": {
          "base_uri": "https://localhost:8080/"
        },
        "id": "BwozvI7BImR3",
        "outputId": "97c72f57-868c-4634-c997-6843207f8584"
      },
      "execution_count": null,
      "outputs": [
        {
          "output_type": "stream",
          "name": "stdout",
          "text": [
            "[[-0.3655886   0.03784751]\n",
            " [-0.33945239  0.02578569]\n",
            " [-0.34034204  0.00378591]\n",
            " [-0.33782834 -0.0035688 ]]\n"
          ]
        }
      ]
    },
    {
      "cell_type": "markdown",
      "source": [
        "# Create Loss function"
      ],
      "metadata": {
        "id": "e6qLf-4qM4GN"
      }
    },
    {
      "cell_type": "code",
      "source": [
        "def create_batch_loss_fn(env, config):\n",
        "\n",
        "  def batch_loss_fn(params, train_state, batch_obs, loss_rng):\n",
        "    \"\"\"Loss function of a batch of obs.\"\"\"\n",
        "    period_mc_rngs = random.split(loss_rng, batch_obs.shape[0])\n",
        "    batch_policies = train_state.apply_fn(params, batch_obs) # get the policies for the entire obs batch.\n",
        "\n",
        "    def period_loss(obs, policy, period_mc_rng):\n",
        "      \"\"\"Loss function for an individual period.\"\"\"\n",
        "      mc_shocks = env.mc_shocks(period_mc_rng, config[\"mc_draws\"])\n",
        "      mc_nextobs = jax.vmap(env.step, in_axes = (None,None,0))(obs, policy, mc_shocks)\n",
        "      mc_nextpols = train_state.apply_fn(params, mc_nextobs)\n",
        "      expect = jnp.mean(jax.vmap(env.expect_realization)(mc_nextobs, mc_nextpols))\n",
        "      mean_loss, mean_accuracy, min_accuracy = env.loss(obs, expect, policy) # calculate loss\n",
        "      return mean_loss, mean_accuracy, min_accuracy\n",
        "\n",
        "    # parallelize callculation of period_loss for the entire batch\n",
        "    mean_losses, mean_accuracies, min_accuracies = jax.vmap(period_loss)(batch_obs, batch_policies, jnp.stack(period_mc_rngs))\n",
        "    mean_loss = jnp.mean(mean_losses)                   # average accross periods\n",
        "    mean_accuracy = jnp.mean(mean_accuracies)           # average accross periods\n",
        "    min_accuracy = jnp.min(min_accuracies)              # min accross periods and across eqs within period\n",
        "    metrics = jnp.array([mean_loss, mean_accuracy, min_accuracy]) # pass as auxiliary info\n",
        "    # metrics = jnp.array([mean_losses, mean_accuracies, min_accuracies]) # pass as auxiliary info\n",
        "    return mean_loss, metrics\n",
        "\n",
        "  return batch_loss_fn"
      ],
      "metadata": {
        "id": "TcoKxR5xM8CL"
      },
      "execution_count": null,
      "outputs": []
    },
    {
      "cell_type": "markdown",
      "source": [
        "## Test loss fn\n",
        "\n",
        "We calculate the loss and metrics of a single epsiode. To do so, we set batch_size equal to periods_per_epis"
      ],
      "metadata": {
        "id": "1pceB-eSEbcG"
      }
    },
    {
      "cell_type": "code",
      "source": [
        "#CREATE ENV,  TRAIN_STATE AND RNG\n",
        "env_test = Model()\n",
        "nn_test = NeuralNet([2,2] + [env_test.n_actions])\n",
        "rng_test = random.PRNGKey(1)\n",
        "\n",
        "# CREATE CONFIG\n",
        "config_test = {\n",
        "    \"periods_per_epis\": 8,      # periods per episode\n",
        "    \"simul_vol_scale\": 1,        # scale of volatility while simul\n",
        "    \"mc_draws\": 32,             # only applies if shock is continuous\n",
        "}\n",
        "config_test[\"batch_size\"] = config_test[\"periods_per_epis\"]\n",
        "\n",
        "# GET FUNCTIONS\n",
        "episode_simul_fn = create_episode_simul_fn(env_test, config_test)\n",
        "episode_loss_fn = create_batch_loss_fn(env_test, config_test)\n",
        "\n",
        "train_state_test = TrainState.create(apply_fn=nn_test.apply, params=nn_test.init(rng_test, env_test.initial_obs(rng_test)), tx=optax.adam(0.05))\n",
        "epis_rng, loss_rng = random.split(rng_test, 2)\n",
        "epis_obs = episode_simul_fn(train_state_test, epis_rng)\n",
        "\n",
        "loss, epis_metrics = episode_loss_fn(train_state_test.params, train_state_test, epis_obs, loss_rng)\n",
        "print(\"loss:\", loss)\n",
        "print(\"epis_metrics:\", epis_metrics)"
      ],
      "metadata": {
        "colab": {
          "base_uri": "https://localhost:8080/"
        },
        "id": "_MLBUEcHEgdY",
        "outputId": "56c9c039-569d-49c7-8722-90510b067f99"
      },
      "execution_count": null,
      "outputs": [
        {
          "output_type": "stream",
          "name": "stdout",
          "text": [
            "loss: 0.0011850035778332838\n",
            "epis_metrics: [0.001185   0.96803212 0.94555273]\n"
          ]
        }
      ]
    },
    {
      "cell_type": "markdown",
      "source": [
        "# Create Epoch Training function\n",
        "\n"
      ],
      "metadata": {
        "id": "mjl96ePdNvjb"
      }
    },
    {
      "cell_type": "code",
      "source": [
        "def get_epoch_train_fn(env, config):\n",
        "  episode_simul_fn = create_episode_simul_fn(env, config)\n",
        "  episode_loss_fn = create_batch_loss_fn(env, config)\n",
        "\n",
        "  def batch_train_fn(train_state, batch_obs, loss_rng):\n",
        "    grad_fn = jax.value_and_grad(episode_loss_fn, has_aux=True)\n",
        "    (_, epis_metrics), grads = grad_fn(train_state.params, train_state, batch_obs, loss_rng)\n",
        "    grads = jax.lax.pmean(grads, axis_name=\"batch\")\n",
        "    train_state = train_state.apply_gradients(grads=grads)\n",
        "    return train_state, epis_metrics\n",
        "\n",
        "  def step_train_fn(train_state, step_rng):\n",
        "    epis_rng = random.split(step_rng, config[\"epis_per_step\"])\n",
        "    loss_rng = random.split(step_rng, config[\"n_batches\"])\n",
        "    step_obs = jax.vmap(episode_simul_fn, in_axes=(None,0))(train_state, jnp.stack(epis_rng))\n",
        "    step_obs = step_obs.reshape(config[\"periods_per_step\"], env.obs_ss.shape[0]) # combine all periods in one axis\n",
        "    step_obs = random.permutation(step_rng, step_obs, axis=0)                   # reshuffle obs at random\n",
        "    step_obs = step_obs.reshape(config[\"n_batches\"], config[\"batch_size\"] ,env.obs_ss.shape[0]) # reshape to into batches\n",
        "    train_state, batch_metrics = jax.vmap(batch_train_fn, in_axes=(None,0,0), out_axes=(None,0), axis_name=\"batch\")(train_state, step_obs, jnp.stack(loss_rng))\n",
        "    batch_metrics = jnp.mean(batch_metrics,axis=0)\n",
        "    return train_state, batch_metrics\n",
        "\n",
        "  def epoch_train_fn(train_state, epoch_rng):\n",
        "    \"\"\"Vectorise and repeat the update to complete an epoch, made aout of steps_per_epoch episodes.\"\"\"\n",
        "    epoch_rng, *step_rngs = random.split(epoch_rng, config[\"steps_per_epoch\"] + 1)\n",
        "    train_state, epoch_metrics = lax.scan(step_train_fn, train_state, jnp.stack(step_rngs))\n",
        "    return train_state, epoch_rng, epoch_metrics\n",
        "\n",
        "  return epoch_train_fn"
      ],
      "metadata": {
        "id": "Lacb6dyKN7hi"
      },
      "execution_count": null,
      "outputs": []
    },
    {
      "cell_type": "markdown",
      "source": [
        "## Test the training function\n",
        "\n",
        "We can run one epoch and see the results. Play with the parameters of the epoch to evaluate how good is the starting point. You can also add prints inside the update function to check internal values. An important check is to print the grads inside the epis_update_fn and make sure they are not zero for an entire layer. This is especially relevant when using pre-trained models."
      ],
      "metadata": {
        "id": "JYEia3OD-Lij"
      }
    },
    {
      "cell_type": "code",
      "source": [
        "config_test = {\n",
        "    \"periods_per_epis\": 16,      # periods per episode\n",
        "    \"epis_per_step\": 8,         # epoch per steps\n",
        "    \"steps_per_epoch\": 100,       # steps per epoch\n",
        "    \"batch_size\": 4,\n",
        "    \"n_epochs\": 1,              # number of epochs\n",
        "    \"mc_draws\": 32,             # only applies if shock is continuous\n",
        "    \"simul_vol_scale\": 1,        # scale of volatility while simul\n",
        "}\n",
        "\n",
        "config_test[\"periods_per_step\"] =config_test[\"periods_per_epis\"]*config_test[\"epis_per_step\"]\n",
        "config_test[\"n_batches\"] = config_test[\"periods_per_step\"]//config_test[\"batch_size\"]\n",
        "env_test = Model()\n",
        "epoch_update_test = get_epoch_train_fn(env_test, config_test)\n",
        "\n",
        "#CREATE TRAIN_STATE AND RNG\n",
        "nn_test = NeuralNet([2,2] + [env_test.n_actions])\n",
        "rng_test_init = random.PRNGKey(1)\n",
        "train_state_test = TrainState.create(apply_fn=nn_test.apply, params=nn_test.init(rng_test, env_test.initial_obs(rng_test)), tx=optax.adam(0.05))\n",
        "\n",
        "# RUN UPDATE FUNCTION\n",
        "new_train_state, new_rng_test, metrics_test = epoch_update_test(train_state_test, rng_test_init)\n",
        "print(len(metrics_test))\n",
        "print(len(metrics_test[0]))\n",
        "\n",
        "print(\"test epoch: \\n\",\n",
        "      \"Mean_loss:\", metrics_test[-1][0], \"\\n\",\n",
        "      \"Mean_accuracy:\", metrics_test[-1][1], \"\\n\",\n",
        "      \"Min_accuracy:\", metrics_test[-1][2],)\n"
      ],
      "metadata": {
        "colab": {
          "base_uri": "https://localhost:8080/"
        },
        "id": "hicUBLteIjCP",
        "outputId": "ba790989-6090-4d45-d1c4-78ddd14f07da"
      },
      "execution_count": null,
      "outputs": [
        {
          "output_type": "stream",
          "name": "stdout",
          "text": [
            "100\n",
            "3\n",
            "test epoch: \n",
            " Mean_loss: 6.320878721404735e-05 \n",
            " Mean_accuracy: 0.9943174139625349 \n",
            " Min_accuracy: 0.9880704039107062\n"
          ]
        }
      ]
    },
    {
      "cell_type": "markdown",
      "source": [
        "# Create Evaluation function"
      ],
      "metadata": {
        "id": "fJ5nxqwWwPTU"
      }
    },
    {
      "cell_type": "code",
      "source": [
        "def get_eval_fn(env, config):\n",
        "  config = config[\"config_eval\"]\n",
        "  episode_simul_fn = create_episode_simul_fn(env, config)\n",
        "  batch_loss_fn = create_batch_loss_fn(env, config)\n",
        "\n",
        "  def episode_eval_fn(train_state, epis_rng):\n",
        "    epis_rng, loss_rng = random.split(epis_rng, 2)\n",
        "    epis_obs = episode_simul_fn(train_state, epis_rng)\n",
        "    _, epis_metrics = batch_loss_fn(train_state.params, train_state, epis_obs, loss_rng)\n",
        "    return epis_metrics\n",
        "\n",
        "  def eval_fn(train_state, step_rng):\n",
        "    epis_rng = random.split(step_rng, config[\"eval_n_epis\"])\n",
        "    eval_metrics = jax.vmap(episode_eval_fn, in_axes=(None,0))(train_state, jnp.stack(epis_rng))\n",
        "    eval_metrics = jnp.mean(eval_metrics,axis=0)\n",
        "    return eval_metrics\n",
        "\n",
        "  return eval_fn"
      ],
      "metadata": {
        "id": "Tt-0bBX9wUIe"
      },
      "execution_count": null,
      "outputs": []
    },
    {
      "cell_type": "markdown",
      "source": [
        "## Test Evaluation function\n",
        "\n"
      ],
      "metadata": {
        "id": "wEG-xLNZQJLY"
      }
    },
    {
      "cell_type": "code",
      "source": [
        "config_test = {\n",
        "    \"periods_per_epis\": 16,      # periods per episode\n",
        "    \"epis_per_step\": 8,         # epoch per steps\n",
        "    \"steps_per_epoch\": 10,       # steps per epoch\n",
        "    \"batch_size\": 4,\n",
        "    \"n_epochs\": 1,              # number of epochs\n",
        "    \"mc_draws\": 32,             # only applies if shock is continuous\n",
        "    \"simul_vol_scale\": 1,        # scale of volatility while simul\n",
        "    \"config_eval\": {\n",
        "      \"periods_per_epis\": 16,      # periods per episode\n",
        "      \"mc_draws\": 128,         # number of mc draws\n",
        "      \"simul_vol_scale\": 1,        # scale of volatility while simul\n",
        "      \"eval_n_epis\": 128,           # episodes to sample for eval\n",
        "    }\n",
        "}\n",
        "\n",
        "config_test[\"periods_per_step\"] =config_test[\"periods_per_epis\"]*config_test[\"epis_per_step\"]\n",
        "config_test[\"n_batches\"] = config_test[\"periods_per_step\"]//config_test[\"batch_size\"]\n",
        "env_test = Model()\n",
        "epoch_train_fn_test = get_epoque_train_fn(env_test, config_test)\n",
        "eval_fn_test = get_eval_fn(env_test, config_test)\n",
        "\n",
        "#CREATE TRAIN_STATE AND RNG\n",
        "nn_test = NeuralNet([2,2] + [env_test.n_actions])\n",
        "rng_test_init = random.PRNGKey(1)\n",
        "train_state_test = TrainState.create(apply_fn=nn_test.apply, params=nn_test.init(rng_test, env_test.initial_obs(rng_test)), tx=optax.adam(0.05))\n",
        "\n",
        "# RUN UPDATE FUNCTION\n",
        "new_train_state, new_rng_test, train_metrics_test = epoch_train_fn_test(train_state_test, rng_test_init)\n",
        "print(\"Training Metrics:\", train_metrics_test)\n",
        "eval_metrics_test = eval_fn_test(new_train_state, rng_test)\n",
        "print(\"Evaluation Metrics:\", eval_metrics_test)"
      ],
      "metadata": {
        "colab": {
          "base_uri": "https://localhost:8080/"
        },
        "id": "IGKZvG6AQTnA",
        "outputId": "9ae78197-b97c-4e2e-d6d2-8a33c62da16c"
      },
      "execution_count": null,
      "outputs": [
        {
          "output_type": "stream",
          "name": "stdout",
          "text": [
            "Training Metrics: [[1.38475564e-03 9.66976272e-01 9.48431888e-01]\n",
            " [1.19806105e-03 9.71585892e-01 9.51370903e-01]\n",
            " [1.04816352e-03 9.79465775e-01 9.57080891e-01]\n",
            " [7.50678550e-04 9.81448469e-01 9.61906280e-01]\n",
            " [6.61230761e-04 9.83211500e-01 9.65042923e-01]\n",
            " [2.47831286e-03 9.72843243e-01 9.39768301e-01]\n",
            " [2.68937543e-03 9.75473590e-01 9.40545072e-01]\n",
            " [1.47142798e-03 9.80667488e-01 9.58113524e-01]\n",
            " [2.03047028e-03 9.77668665e-01 9.39700270e-01]\n",
            " [2.06233660e-03 9.75692128e-01 9.39352488e-01]]\n",
            "Evaluation Metrics: [0.00119602 0.98035572 0.89911972]\n"
          ]
        }
      ]
    },
    {
      "cell_type": "markdown",
      "metadata": {
        "id": "PlXarixBjTC2"
      },
      "source": [
        "# Configure experiment"
      ]
    },
    {
      "cell_type": "code",
      "execution_count": null,
      "metadata": {
        "id": "3zWgbr0HjQua",
        "colab": {
          "base_uri": "https://localhost:8080/"
        },
        "outputId": "cbe40148-7a14-4a53-a1ee-185447496e1b"
      },
      "outputs": [
        {
          "output_type": "stream",
          "name": "stdout",
          "text": [
            "Number of parameters:\n",
            "\n",
            "\u001b[3m                               NeuralNet Summary                                \u001b[0m\n",
            "┏━━━━━━━━━┳━━━━━━━━━━━┳━━━━━━━━━━━━━━┳━━━━━━━━━━━━━━┳━━━━━━━━━━━━━━━━━━━━━━━━━━┓\n",
            "┃\u001b[1m \u001b[0m\u001b[1mpath   \u001b[0m\u001b[1m \u001b[0m┃\u001b[1m \u001b[0m\u001b[1mmodule   \u001b[0m\u001b[1m \u001b[0m┃\u001b[1m \u001b[0m\u001b[1minputs      \u001b[0m\u001b[1m \u001b[0m┃\u001b[1m \u001b[0m\u001b[1moutputs     \u001b[0m\u001b[1m \u001b[0m┃\u001b[1m \u001b[0m\u001b[1mparams                  \u001b[0m\u001b[1m \u001b[0m┃\n",
            "┡━━━━━━━━━╇━━━━━━━━━━━╇━━━━━━━━━━━━━━╇━━━━━━━━━━━━━━╇━━━━━━━━━━━━━━━━━━━━━━━━━━┩\n",
            "│         │ NeuralNet │ \u001b[2mfloat64\u001b[0m[2]   │ \u001b[2mfloat64\u001b[0m[1]   │                          │\n",
            "├─────────┼───────────┼──────────────┼──────────────┼──────────────────────────┤\n",
            "│ Dense_0 │ Dense     │ \u001b[2mfloat64\u001b[0m[2]   │ \u001b[2mfloat64\u001b[0m[128] │ bias: \u001b[2mfloat64\u001b[0m[128]       │\n",
            "│         │           │              │              │ kernel: \u001b[2mfloat64\u001b[0m[2,128]   │\n",
            "│         │           │              │              │                          │\n",
            "│         │           │              │              │ \u001b[1m384 \u001b[0m\u001b[1;2m(3.1 KB)\u001b[0m             │\n",
            "├─────────┼───────────┼──────────────┼──────────────┼──────────────────────────┤\n",
            "│ Dense_1 │ Dense     │ \u001b[2mfloat64\u001b[0m[128] │ \u001b[2mfloat64\u001b[0m[128] │ bias: \u001b[2mfloat64\u001b[0m[128]       │\n",
            "│         │           │              │              │ kernel: \u001b[2mfloat64\u001b[0m[128,128] │\n",
            "│         │           │              │              │                          │\n",
            "│         │           │              │              │ \u001b[1m16,512 \u001b[0m\u001b[1;2m(132.1 KB)\u001b[0m        │\n",
            "├─────────┼───────────┼──────────────┼──────────────┼──────────────────────────┤\n",
            "│ Dense_2 │ Dense     │ \u001b[2mfloat64\u001b[0m[128] │ \u001b[2mfloat64\u001b[0m[128] │ bias: \u001b[2mfloat64\u001b[0m[128]       │\n",
            "│         │           │              │              │ kernel: \u001b[2mfloat64\u001b[0m[128,128] │\n",
            "│         │           │              │              │                          │\n",
            "│         │           │              │              │ \u001b[1m16,512 \u001b[0m\u001b[1;2m(132.1 KB)\u001b[0m        │\n",
            "├─────────┼───────────┼──────────────┼──────────────┼──────────────────────────┤\n",
            "│ Dense_3 │ Dense     │ \u001b[2mfloat64\u001b[0m[128] │ \u001b[2mfloat64\u001b[0m[1]   │ bias: \u001b[2mfloat64\u001b[0m[1]         │\n",
            "│         │           │              │              │ kernel: \u001b[2mfloat64\u001b[0m[128,1]   │\n",
            "│         │           │              │              │                          │\n",
            "│         │           │              │              │ \u001b[1m129 \u001b[0m\u001b[1;2m(1.0 KB)\u001b[0m             │\n",
            "├─────────┼───────────┼──────────────┼──────────────┼──────────────────────────┤\n",
            "│\u001b[1m \u001b[0m\u001b[1m       \u001b[0m\u001b[1m \u001b[0m│\u001b[1m \u001b[0m\u001b[1m         \u001b[0m\u001b[1m \u001b[0m│\u001b[1m \u001b[0m\u001b[1m            \u001b[0m\u001b[1m \u001b[0m│\u001b[1m \u001b[0m\u001b[1m       Total\u001b[0m\u001b[1m \u001b[0m│\u001b[1m \u001b[0m\u001b[1m33,537 \u001b[0m\u001b[1;2m(268.3 KB)\u001b[0m\u001b[1m       \u001b[0m\u001b[1m \u001b[0m│\n",
            "└─────────┴───────────┴──────────────┴──────────────┴──────────────────────────┘\n",
            "\u001b[1m                                                                                \u001b[0m\n",
            "\u001b[1m                      Total Parameters: 33,537 \u001b[0m\u001b[1;2m(268.3 KB)\u001b[0m\u001b[1m                       \u001b[0m\n",
            "\n",
            "\n",
            "TOTAL Number of steps (NN updates): 10000 episodes \n",
            "\n"
          ]
        }
      ],
      "source": [
        "'''Config dictionary'''\n",
        "\n",
        "# CREATE CONFIG DICT\n",
        "config = {\n",
        "    # general\n",
        "    \"seed\": 48,\n",
        "    \"run_name\": \"rbc_xlargeNNv2\",\n",
        "    \"date\": \"Feb20_24\",\n",
        "    \"working_dir\": \"/content/drive/MyDrive/Jaxecon/Rbc/Training/\",\n",
        "    \"restore\": False,                                                            # True if start from restored checkpoint\n",
        "    \"restore_run_name\": None,\n",
        "\n",
        "    # neural net\n",
        "    \"layers\": [128,128,128],              # layers of the NN\n",
        "\n",
        "    # learning rate schedule\n",
        "    \"lr_sch_values\": [0.001,0.001],                                        # values (from the last, we do cosine decay to 0)\n",
        "    \"lr_sch_transitions\": [5000],\n",
        "\n",
        "    # simulation\n",
        "    \"periods_per_epis\": 32,\n",
        "    \"simul_vol_scale\": 1,        # scale of volatility while simul\n",
        "\n",
        "    # loss calculation\n",
        "    \"mc_draws\": 64,               # monte-carlo draws\n",
        "\n",
        "    # training\n",
        "    \"epis_per_step\": 8,         # epoch per steps\n",
        "    \"steps_per_epoch\": 500,       # steps per epoch\n",
        "    \"n_epochs\": 20,               # number of epochs\n",
        "    \"batch_size\": 16,             # size of batch of obs to calculate grads\n",
        "\n",
        "    \"config_eval\": {\n",
        "      \"periods_per_epis\": 64,      # periods per episode\n",
        "      \"mc_draws\": 128,         # number of mc draws\n",
        "      \"simul_vol_scale\": 1,        # scale of volatility while simul\n",
        "      \"eval_n_epis\": 128,           # episodes to sample for eval\n",
        "    }\n",
        "}\n",
        "\n",
        "#create auxiliary config variables for readability\n",
        "config[\"periods_per_step\"] =config[\"periods_per_epis\"]*config[\"epis_per_step\"]\n",
        "config[\"n_batches\"] = config[\"periods_per_step\"]//config[\"batch_size\"]\n",
        "\n",
        "# PRINT AND PLOT KEY CONFIGS\n",
        "print(\"Number of parameters:\")\n",
        "print(NeuralNet(config[\"layers\"] + [Model().n_actions]).tabulate(\n",
        "    random.PRNGKey(0),\n",
        "    Model().initial_obs(random.PRNGKey(0))\n",
        "    ))\n",
        "\n",
        "print(\"TOTAL Number of steps (NN updates):\", config[\"steps_per_epoch\"]*config[\"n_epochs\"], \"episodes \\n\")\n"
      ]
    },
    {
      "cell_type": "markdown",
      "metadata": {
        "id": "CEAiCNRxC1AJ"
      },
      "source": [
        "# Create experiment\n",
        "Now we the entire experiment workflow as a function to call later."
      ]
    },
    {
      "cell_type": "code",
      "source": [
        "def run_experiment(env, config):\n",
        "  \"\"\"Runs experiment.\"\"\"\n",
        "\n",
        "  n_cores = len(jax.devices())\n",
        "\n",
        "  # CREATE NN, RNGS, TRAIN_STATE AND EPOQUE UPDATE\n",
        "  nn = NeuralNet(config[\"layers\"] + [env.n_actions])\n",
        "  rng, rng_pol, rng_env, rng_epoch, rng_eval = random.split(random.PRNGKey(config[\"seed\"]), num=5)  # random number generator\n",
        "\n",
        "  # CREATE LR SCHEDULE\n",
        "  lr_schedule = optax.join_schedules(\n",
        "    schedules= [optax.constant_schedule(i) for i in config[\"lr_sch_values\"][:-1]]\n",
        "                  + [optax.warmup_cosine_decay_schedule(\n",
        "                    init_value=config[\"lr_sch_values\"][-1],\n",
        "                    peak_value=config[\"lr_sch_values\"][-1],\n",
        "                    warmup_steps=0,\n",
        "                    decay_steps=config[\"n_epochs\"]*config[\"steps_per_epoch\"]-config[\"lr_sch_transitions\"][-1],\n",
        "                    end_value=0.0000001,)],\n",
        "      boundaries=config[\"lr_sch_transitions\"] # the number of episodes at which to switch\n",
        "      )\n",
        "\n",
        "  # INITIALIZE OR RESTORE FULL NN TRAIN STATE\n",
        "  if not config[\"restore\"]:\n",
        "    params=nn.init(rng_pol, jnp.zeros_like(env.initial_obs(rng_env)))\n",
        "    train_state = TrainState.create(apply_fn=nn.apply, params=params, tx=optax.adam(lr_schedule))\n",
        "  else:\n",
        "    train_state_restored = checkpoints.restore_checkpoint(ckpt_dir=config[\"working_dir\"]+config[\"restore_run_name\"], target = None)\n",
        "    params = train_state_restored[\"params\"]\n",
        "    opt_state = train_state_restored[\"opt_state\"]\n",
        "    train_state = TrainState.create(apply_fn=nn.apply, params=params, tx=optax.adam(lr_schedule))\n",
        "    train_state.replace(opt_state=opt_state)\n",
        "\n",
        "  # GET TRAIN AND EVAL FUNCTIONS\n",
        "  train_epoch_fn  = jax.jit(get_epoch_train_fn(env, config))\n",
        "  eval_fn  = jax.jit(get_eval_fn(env, config))\n",
        "\n",
        "  # COMPILE CODE\n",
        "  time_start = time()\n",
        "  train_epoch_fn(train_state, rng_epoch)  # compiles\n",
        "  eval_fn(train_state, rng_epoch) # compiles\n",
        "  time_compilation = time() - time_start\n",
        "  print(\"Time Elapsed for Compilation:\", time_compilation, \"seconds\")\n",
        "\n",
        "  # RUN AN EPOCH TO GET TIME STATS\n",
        "  time_start = time()\n",
        "  train_epoch_fn(train_state, rng_epoch) # run one epoque\n",
        "  time_epoch = time() - time_start\n",
        "  print(\"Time Elapsed for epoch:\", time_epoch, \"seconds\")\n",
        "\n",
        "  time_start = time()\n",
        "  eval_fn(train_state, rng_epoch) # run one epoque\n",
        "  time_eval = time() - time_start\n",
        "  print(\"Time Elapsed for eval:\", time_eval, \"seconds\")\n",
        "\n",
        "  time_experiment = (time_epoch + time_eval)*config[\"n_epochs\"]/60\n",
        "  print(\"Estimated time for full experiment\", time_experiment, \"minutes\")\n",
        "\n",
        "  steps_per_second = config[\"steps_per_epoch\"]*config[\"periods_per_step\"]/time_epoch\n",
        "  print(\"Steps per second:\", steps_per_second, \"st/s\")\n",
        "\n",
        "  # CREATE LISTS TO STORE METRICS\n",
        "  mean_losses, mean_accuracy, min_accuracy = [], [], []\n",
        "\n",
        "  # RUN ALL THE EPOCHS\n",
        "  time_start = time()\n",
        "  for i in range(1,config[\"n_epochs\"]+1):\n",
        "\n",
        "    # run epoch\n",
        "    train_state, rng_epoch, epoch_metrics = train_epoch_fn(train_state, rng_epoch)\n",
        "    print('TRAINING:\\n',\n",
        "          'Iteration:', train_state.step,\n",
        "          \", Mean_loss:\", jnp.mean(epoch_metrics[:,0]),\n",
        "          \", Mean_accuracy:\", jnp.mean(epoch_metrics[:,1]),\n",
        "          \", Min_accuracy:\", jnp.min(epoch_metrics[:,2]),\n",
        "          \", Learning rate:\", lr_schedule(train_state.step),\n",
        "          \"\\n\"\n",
        "          )\n",
        "\n",
        "    # eval\n",
        "    eval_metrics = eval_fn(train_state, rng_eval)\n",
        "    print('EVALUATION:\\n',\n",
        "      'Iteration:', train_state.step,\n",
        "      \"Mean_loss:\", eval_metrics[0],\n",
        "      \", Mean Acc:\", eval_metrics[1],\n",
        "      \", Min Acc:\", eval_metrics[2],\n",
        "      \"\\n\")\n",
        "\n",
        "    # checkpoint\n",
        "    if train_state.step>1000 and float(eval_metrics[0])<min(mean_losses):\n",
        "      checkpoints.save_checkpoint(ckpt_dir=config['working_dir']+config['run_name'], target=train_state, step=train_state.step)\n",
        "\n",
        "    # store results\n",
        "    mean_losses.append(float(eval_metrics[0]))\n",
        "    mean_accuracy.append(float(eval_metrics[1]))\n",
        "    min_accuracy.append(float(eval_metrics[2]))\n",
        "\n",
        "    #end of inner loop\n",
        "\n",
        "\n",
        "  # PRINT RESULTS\n",
        "  print(\"Minimum loss attained in evaluation:\", min(mean_losses))\n",
        "  print(\"Maximum mean accuracy attained in evaluation:\", max(mean_accuracy))\n",
        "  print(\"Maximum min accuracy attained in evaluation:\", max(min_accuracy))\n",
        "  time_fullexp = (time() - time_start)/60\n",
        "  print(\"Time Elapsed for Full Experiment:\", time_fullexp, \"minutes\")\n",
        "\n",
        "  # STORE RESULTS\n",
        "  results = {\n",
        "    \"min_loss\":  min(mean_losses),\n",
        "    \"max_mean_acc\": max(mean_accuracy),\n",
        "    \"max_min_acc\": max(min_accuracy),\n",
        "    \"Time for Full Experiment (m)\": time_fullexp,\n",
        "    \"Time for epoch (s)\": time_epoch,\n",
        "    \"Time for Compilation (s)\": time_compilation,\n",
        "    \"Steps per second\": steps_per_second,\n",
        "    \"Losses_list\": mean_losses,\n",
        "    \"mean_accuracy_list\": mean_accuracy,\n",
        "    \"min_accuracy_list\": min_accuracy,\n",
        "    \"config\": config,\n",
        "  }\n",
        "\n",
        "  if not os.path.exists(config['working_dir']+config['run_name']):\n",
        "    os.mkdir(config['working_dir']+config['run_name'])\n",
        "  with open(config['working_dir']+config['run_name']+\"/results.json\", \"w\") as write_file:\n",
        "    json.dump(results, write_file)\n",
        "\n",
        "  # PLOT LEARNING\n",
        "\n",
        "  # Mean Losses\n",
        "  plt.plot([(i)*config[\"steps_per_epoch\"] for i in range(len(mean_losses))], mean_losses)\n",
        "  plt.xlabel('Steps (NN updates)')\n",
        "  plt.ylabel('Mean Losses')\n",
        "  plt.savefig(config['working_dir']+config['run_name']+'/mean_losses.jpg')\n",
        "  plt.close()\n",
        "\n",
        "  # Mean Accuracy\n",
        "  plt.plot([(i)*config[\"steps_per_epoch\"] for i in range(len(mean_accuracy))], mean_accuracy)\n",
        "  plt.xlabel('Steps (NN updates)')\n",
        "  plt.ylabel('Mean Accuracy (%)')\n",
        "  plt.savefig(config['working_dir']+config['run_name']+'/mean_accuracy.jpg')\n",
        "  plt.close()\n",
        "\n",
        "  # Min Accuracy\n",
        "  plt.plot([(i)*config[\"steps_per_epoch\"] for i in range(len(min_accuracy))], min_accuracy)\n",
        "  plt.xlabel('Steps (NN updates)')\n",
        "  plt.ylabel('Minimum Accuracy (%)')\n",
        "  plt.savefig(config['working_dir']+config['run_name']+'/min_accuracy.jpg')\n",
        "  plt.close()\n",
        "\n",
        "  # Learning rate schedule\n",
        "  plt.plot([i*config[\"steps_per_epoch\"] for i in range(len(mean_losses))], [lr_schedule(i*config[\"steps_per_epoch\"]) for i in range(len(mean_losses))])\n",
        "  plt.xlabel('Steps (NN updates)')\n",
        "  plt.ylabel('Learning Rate')\n",
        "  plt.savefig(config['working_dir']+config['run_name']+'/learning_rate.jpg')\n",
        "  plt.close()\n",
        "\n",
        "  return train_state"
      ],
      "metadata": {
        "id": "tw69_Ic-dcVr"
      },
      "execution_count": null,
      "outputs": []
    },
    {
      "cell_type": "markdown",
      "source": [
        "# Run experiment\n",
        "*Finally*, we run the experiment abd get the trained parameter plus useful info."
      ],
      "metadata": {
        "id": "WdkzmdmHk_Il"
      }
    },
    {
      "cell_type": "code",
      "execution_count": null,
      "metadata": {
        "id": "awmY1xXgDOcU",
        "colab": {
          "base_uri": "https://localhost:8080/"
        },
        "outputId": "74d6eaf8-d9b8-4b0c-b05b-2916557bbe81"
      },
      "outputs": [
        {
          "output_type": "stream",
          "name": "stdout",
          "text": [
            "Time Elapsed for Compilation: 15.465006113052368 seconds\n",
            "Time Elapsed for epoch: 10.172770500183105 seconds\n",
            "Time Elapsed for eval: 0.34877800941467285 seconds\n",
            "Estimated time for full experiment 3.5071828365325928 minutes\n",
            "Steps per second: 12582.60962416247 st/s\n",
            "TRAINING:\n",
            " Iteration: 500 , Mean_loss: 0.00040228542213468436 , Mean_accuracy: 0.9938218751429517 , Min_accuracy: 0.6816197821813761 , Learning rate: 0.001 \n",
            "\n",
            "EVALUATION:\n",
            " Iteration: 500 Mean_loss: 1.6218765270332445e-06 , Mean Acc: 0.999112837322851 , Min Acc: 0.9965883830197872 \n",
            "\n",
            "TRAINING:\n",
            " Iteration: 1000 , Mean_loss: 1.5166081845247973e-06 , Mean_accuracy: 0.9990452089098902 , Min_accuracy: 0.9934833490317083 , Learning rate: 0.001 \n",
            "\n",
            "EVALUATION:\n",
            " Iteration: 1000 Mean_loss: 1.0555975230374851e-06 , Mean Acc: 0.9992772661936953 , Min Acc: 0.9973315214974074 \n",
            "\n",
            "TRAINING:\n",
            " Iteration: 1500 , Mean_loss: 1.265739740047699e-06 , Mean_accuracy: 0.9991184916118898 , Min_accuracy: 0.9956525469637831 , Learning rate: 0.001 \n",
            "\n",
            "EVALUATION:\n",
            " Iteration: 1500 Mean_loss: 9.308622704565366e-07 , Mean Acc: 0.9993006788385077 , Min Acc: 0.9974891351215793 \n",
            "\n",
            "TRAINING:\n",
            " Iteration: 2000 , Mean_loss: 1.3028202313858502e-06 , Mean_accuracy: 0.999103101502362 , Min_accuracy: 0.9954713664446367 , Learning rate: 0.001 \n",
            "\n",
            "EVALUATION:\n",
            " Iteration: 2000 Mean_loss: 7.819046135910572e-07 , Mean Acc: 0.9993390327161995 , Min Acc: 0.9976394410554005 \n",
            "\n",
            "TRAINING:\n",
            " Iteration: 2500 , Mean_loss: 1.159011970101636e-06 , Mean_accuracy: 0.9991505677686453 , Min_accuracy: 0.9955041602940476 , Learning rate: 0.001 \n",
            "\n",
            "EVALUATION:\n",
            " Iteration: 2500 Mean_loss: 7.483978699303902e-07 , Mean Acc: 0.9993271054499484 , Min Acc: 0.9976593267738777 \n",
            "\n",
            "TRAINING:\n",
            " Iteration: 3000 , Mean_loss: 1.3618400792530196e-06 , Mean_accuracy: 0.9990823865122344 , Min_accuracy: 0.9954242690866094 , Learning rate: 0.001 \n",
            "\n",
            "EVALUATION:\n",
            " Iteration: 3000 Mean_loss: 1.03664100604396e-06 , Mean Acc: 0.9991773692738594 , Min Acc: 0.9975347620422663 \n",
            "\n",
            "TRAINING:\n",
            " Iteration: 3500 , Mean_loss: 1.3169331644377111e-06 , Mean_accuracy: 0.9990927083125785 , Min_accuracy: 0.9963252076186364 , Learning rate: 0.001 \n",
            "\n",
            "EVALUATION:\n",
            " Iteration: 3500 Mean_loss: 7.78963427165683e-07 , Mean Acc: 0.9993115356566268 , Min Acc: 0.9976652726946467 \n",
            "\n",
            "TRAINING:\n",
            " Iteration: 4000 , Mean_loss: 1.440673270580852e-06 , Mean_accuracy: 0.9990510003623554 , Min_accuracy: 0.9957658692860084 , Learning rate: 0.001 \n",
            "\n",
            "EVALUATION:\n",
            " Iteration: 4000 Mean_loss: 7.572092474197786e-07 , Mean Acc: 0.9993094182126867 , Min Acc: 0.9976783178396271 \n",
            "\n",
            "TRAINING:\n",
            " Iteration: 4500 , Mean_loss: 1.5501541558113718e-06 , Mean_accuracy: 0.9990259588915791 , Min_accuracy: 0.9945617820319852 , Learning rate: 0.001 \n",
            "\n",
            "EVALUATION:\n",
            " Iteration: 4500 Mean_loss: 6.059051906113383e-07 , Mean Acc: 0.9993921449616485 , Min Acc: 0.9978720988266909 \n",
            "\n",
            "TRAINING:\n",
            " Iteration: 5000 , Mean_loss: 1.4972765266192662e-06 , Mean_accuracy: 0.9990345141587343 , Min_accuracy: 0.994343908102855 , Learning rate: 0.001 \n",
            "\n",
            "EVALUATION:\n",
            " Iteration: 5000 Mean_loss: 4.886270182910521e-06 , Mean Acc: 0.9981709313491891 , Min Acc: 0.9952388925580795 \n",
            "\n",
            "TRAINING:\n",
            " Iteration: 5500 , Mean_loss: 2.655155495351457e-06 , Mean_accuracy: 0.998771397033501 , Min_accuracy: 0.9911394715879223 , Learning rate: 0.0009755307053217621 \n",
            "\n",
            "EVALUATION:\n",
            " Iteration: 5500 Mean_loss: 5.874984232780596e-07 , Mean Acc: 0.9993932068775495 , Min Acc: 0.9979672884110741 \n",
            "\n",
            "TRAINING:\n",
            " Iteration: 6000 , Mean_loss: 1.963914633583976e-06 , Mean_accuracy: 0.9989274832961038 , Min_accuracy: 0.9935443061002637 , Learning rate: 0.000904518046337755 \n",
            "\n",
            "EVALUATION:\n",
            " Iteration: 6000 Mean_loss: 7.026340557762194e-07 , Mean Acc: 0.9993304875919873 , Min Acc: 0.9978505354785198 \n",
            "\n",
            "TRAINING:\n",
            " Iteration: 6500 , Mean_loss: 1.4790170494215146e-06 , Mean_accuracy: 0.9990453946350644 , Min_accuracy: 0.9946064788646819 , Learning rate: 0.000793913236883622 \n",
            "\n",
            "EVALUATION:\n",
            " Iteration: 6500 Mean_loss: 1.093347174522143e-06 , Mean Acc: 0.9991563273884093 , Min Acc: 0.9973996725257043 \n",
            "\n",
            "TRAINING:\n",
            " Iteration: 7000 , Mean_loss: 1.4764091271380697e-06 , Mean_accuracy: 0.9990479839115372 , Min_accuracy: 0.99502613051897 , Learning rate: 0.000654543046337755 \n",
            "\n",
            "EVALUATION:\n",
            " Iteration: 7000 Mean_loss: 5.324042165906541e-07 , Mean Acc: 0.9994242198072067 , Min Acc: 0.99805705052434 \n",
            "\n",
            "TRAINING:\n",
            " Iteration: 7500 , Mean_loss: 1.1087097774213359e-06 , Mean_accuracy: 0.9991625117532483 , Min_accuracy: 0.9965764190617401 , Learning rate: 0.00050005 \n",
            "\n",
            "EVALUATION:\n",
            " Iteration: 7500 Mean_loss: 5.457065781769006e-07 , Mean Acc: 0.9994159307655768 , Min Acc: 0.9980350417542634 \n",
            "\n",
            "TRAINING:\n",
            " Iteration: 8000 , Mean_loss: 1.119936544916549e-06 , Mean_accuracy: 0.9991591217440293 , Min_accuracy: 0.9961467139245069 , Learning rate: 0.00034555695366224516 \n",
            "\n",
            "EVALUATION:\n",
            " Iteration: 8000 Mean_loss: 6.600898380544331e-07 , Mean Acc: 0.9993583991741705 , Min Acc: 0.9979285735854783 \n",
            "\n",
            "TRAINING:\n",
            " Iteration: 8500 , Mean_loss: 9.90549636920039e-07 , Mean_accuracy: 0.9992065221173312 , Min_accuracy: 0.9974002088803403 , Learning rate: 0.0002061867631163781 \n",
            "\n",
            "EVALUATION:\n",
            " Iteration: 8500 Mean_loss: 5.275839826797949e-07 , Mean Acc: 0.9994246279796054 , Min Acc: 0.9980748597008717 \n",
            "\n",
            "TRAINING:\n",
            " Iteration: 9000 , Mean_loss: 9.450162574133321e-07 , Mean_accuracy: 0.9992250975197546 , Min_accuracy: 0.9970114289889666 , Learning rate: 9.558195366224507e-05 \n",
            "\n",
            "EVALUATION:\n",
            " Iteration: 9000 Mean_loss: 5.132566330631634e-07 , Mean Acc: 0.9994306091454718 , Min Acc: 0.9981250172194258 \n",
            "\n",
            "TRAINING:\n",
            " Iteration: 9500 , Mean_loss: 9.150196065344468e-07 , Mean_accuracy: 0.9992378108998724 , Min_accuracy: 0.9975016217494942 , Learning rate: 2.4569294678237992e-05 \n",
            "\n",
            "EVALUATION:\n",
            " Iteration: 9500 Mean_loss: 4.820503217262202e-07 , Mean Acc: 0.9994496934181533 , Min Acc: 0.998180354039943 \n",
            "\n",
            "TRAINING:\n",
            " Iteration: 10000 , Mean_loss: 9.051964037273122e-07 , Mean_accuracy: 0.9992407680996036 , Min_accuracy: 0.9957338597308342 , Learning rate: 1e-07 \n",
            "\n",
            "EVALUATION:\n",
            " Iteration: 10000 Mean_loss: 4.688631412955199e-07 , Mean Acc: 0.9994574035151457 , Min Acc: 0.9981930051979163 \n",
            "\n",
            "Minimum loss attained in evaluation: 4.688631412955199e-07\n",
            "Maximum mean accuracy attained in evaluation: 0.9994574035151457\n",
            "Maximum min accuracy attained in evaluation: 0.9981930051979163\n",
            "Time Elapsed for Full Experiment: 3.5465205828348796 minutes\n"
          ]
        }
      ],
      "source": [
        "final_train_state = run_experiment(Model(), config)\n",
        "\n",
        "# DISCONNECT SESSION (uncomment next 2 lines if you do large run)\n",
        "# from google.colab import runtime\n",
        "# runtime.unassign()"
      ]
    },
    {
      "cell_type": "markdown",
      "source": [
        "# Simulate with results"
      ],
      "metadata": {
        "id": "uCl6x_gesykv"
      }
    },
    {
      "cell_type": "code",
      "source": [
        "# CONFIG SIMUL FUNCTION\n",
        "config_simul = {\n",
        "    \"periods_per_epis\": 10000,      # periods\n",
        "    \"simul_vol_scale\": 1,\n",
        "\n",
        "    \"mc_draws\": 256,               # only applies if shock is continuous\n",
        "}\n",
        "\n",
        "# CREATE SIMUL FUNCTION\n",
        "def get_simul_fn(env, config):\n",
        "  episode_simul_fn = create_episode_simul_fn(env, config)\n",
        "  episode_loss_fn = create_episode_loss_fn(env, config)\n",
        "\n",
        "  def simul_fn(train_state, simul_rng):\n",
        "    \"\"\"Get obs for simul and then calculate loss function\"\"\"\n",
        "    simul_obs = episode_simul_fn(train_state, simul_rng)\n",
        "    loss, simul_metrics = episode_loss_fn(train_state.params, train_state, simul_obs, simul_rng)\n",
        "    return simul_obs, simul_metrics\n",
        "\n",
        "  return simul_fn\n",
        "\n",
        "# RUN SIMUL\n",
        "rng_simul = random.PRNGKey(1)\n",
        "env_simul = Model()\n",
        "simul_fn = jax.jit(get_simul_fn(env_simul, config_simul))\n",
        "simul_obs, simul_metrics = simul_fn(final_train_state, rng_simul)\n",
        "print(simul_metrics)\n",
        "# # GET STATISTICS\n",
        "obs_quantiles = jnp.quantile(simul_obs, jnp.array([0.1,0.25,0.5,0.75,0.9]), axis=0)\n",
        "acc_quantiles = jnp.quantile(simul_metrics[1], jnp.array([0.1,0.25,0.4, 0.75,0.9]))\n",
        "print('Observations Quantiles (10%,25%,50%,75%,90%)', obs_quantiles)\n",
        "print('Minimum Accuracy', jnp.min(simul_metrics[1]))\n",
        "print('Accuracies Quantiles (10%,25%,50%,75%,90%)', acc_quantiles)\n",
        "\n",
        "# HISTOGRAM OF ACCURACIES\n",
        "counts, bins = jnp.histogram(simul_metrics[1])\n",
        "freqs = counts/config_simul[\"periods_per_epis\"]\n",
        "fig = plt.figure()\n",
        "ax = fig.add_axes([0,0,1,1])\n",
        "ax.hist(bins[:-1], bins, weights=freqs)\n",
        "plt.xlabel('Accuracy')\n",
        "plt.ylabel('Frequency')\n",
        "# plt.show\n",
        "fig.savefig(config['working_dir']+config['run_name']+'/acurracy_hists.jpg', bbox_inches=\"tight\", pad_inches=1)\n"
      ],
      "metadata": {
        "id": "zdt21KpZs8B7",
        "colab": {
          "base_uri": "https://localhost:8080/",
          "height": 786
        },
        "outputId": "9f278f23-b4cc-4826-f7a6-0606085ceb59"
      },
      "execution_count": null,
      "outputs": [
        {
          "output_type": "stream",
          "name": "stdout",
          "text": [
            "[[3.30633661e-09 1.13429177e-06 1.17986610e-07 ... 8.93429474e-09\n",
            "  5.95990699e-08 1.37959386e-06]\n",
            " [9.99942499e-01 9.98934969e-01 9.99656508e-01 ... 9.99905479e-01\n",
            "  9.99755871e-01 9.98825439e-01]\n",
            " [9.99942499e-01 9.98934969e-01 9.99656508e-01 ... 9.99905479e-01\n",
            "  9.99755871e-01 9.98825439e-01]]\n",
            "Observations Quantiles (10%,25%,50%,75%,90%) [[-0.08291141 -0.05778573]\n",
            " [-0.04264142 -0.02934612]\n",
            " [ 0.00818631  0.00198456]\n",
            " [ 0.04973345  0.03295673]\n",
            " [ 0.08652259  0.06168493]]\n",
            "Minimum Accuracy 0.98872558000645\n",
            "Accuracies Quantiles (10%,25%,50%,75%,90%) [0.99847131 0.99901628 0.99929079 0.99972735 0.99989329]\n"
          ]
        },
        {
          "output_type": "display_data",
          "data": {
            "text/plain": [
              "<Figure size 640x480 with 1 Axes>"
            ],
            "image/png": "[encoded data removed]"
          },
          "metadata": {}
        }
      ]
    },
    {
      "cell_type": "markdown",
      "source": [
        "# Evaluate Accuracy of MC Estimation"
      ],
      "metadata": {
        "id": "aJDp4kuLHqyO"
      }
    },
    {
      "cell_type": "code",
      "source": [
        "# evaluate montecarlo estimation of expectation\n",
        "env = Model()\n",
        "rng_mc = random.PRNGKey(0)\n",
        "params_test = final_train_state.params # Choose parameteres to test\n",
        "nn_policy_test = final_train_state.apply_fn\n",
        "\n",
        "def get_expectation_fn(nn_policy, params, env):\n",
        "  def expectation(n_draws, rng,  obs):\n",
        "    policy = nn_policy(params, obs)\n",
        "    mc_obs = env.mc_shocks(rng, mc_draws=n_draws)\n",
        "    mc_nextobs = jax.vmap(env.step, in_axes=(None, None,0))(obs, policy, mc_obs)\n",
        "    mc_nextpols = nn_policy(params,jnp.stack(mc_nextobs))\n",
        "    exp = jnp.mean(jax.vmap(env.expect_realization)(mc_nextobs, mc_nextpols))\n",
        "    return exp\n",
        "  return expectation\n",
        "\n",
        "rng_mc, *mc_rngs = jax.random.split(rng_mc, 100 + 1)\n",
        "\n",
        "# obs_list = list(obs_quantiles)\n",
        "obs_list = [env.initial_obs(rng_mc)]\n",
        "n_draws_list = [1,4,16,64,256]\n",
        "# n_draws_list = [500, 1000]\n",
        "rng_list =list(mc_rngs)\n",
        "\n",
        "mc_explist = {n_draws_list[i]: [] for i in range(len(n_draws_list))}\n",
        "mc_error = {f\"error_{n_draws_list[i]}_draws\": [] for i in range(len(n_draws_list))}\n",
        "for i in range(len(n_draws_list)):\n",
        "  for j in range(len(rng_list)):\n",
        "    for k in range(len(obs_list)):\n",
        "      # exp_jitted = jax.jit(get_expectation_fn(nn_forward, params, env)).lower(n_draws_list[i], rng_list[j], obs_list[k]).compile\n",
        "      mc_explist[n_draws_list[i]].append(get_expectation_fn(nn_policy_test, params_test, env)(n_draws_list[i], rng_list[j],  obs_list[k]))\n",
        "      # mc_eval[(i,j,k)] = exp_jitted(n_draws_list[i], rng_list[j],  obs_list[k])\n",
        "  mc_error[f\"error_{n_draws_list[i]}_draws\"] = jnp.std(jnp.array(mc_explist[n_draws_list[i]]))\n",
        "print(mc_error)\n",
        "\n",
        "error_list = [float(mc_error[f\"error_{n_draws_list[i]}_draws\"]) for i in range(len(n_draws_list))]\n",
        "print(error_list)\n",
        "n_drawsstr_list = [str(n_draws_list[i]) for i in range(len(n_draws_list))]\n",
        "fig = plt.figure()\n",
        "ax = fig.add_axes([0,0,1,1])\n",
        "ax.bar(n_drawsstr_list, error_list)\n",
        "plt.xlabel('Number of Montecarlo draws')\n",
        "plt.ylabel('Standard Deviation of expectations')\n",
        "# plt.show\n",
        "fig.savefig(config['working_dir']+config['run_name']+'/mc_eval.jpg', bbox_inches=\"tight\", pad_inches=1)\n"
      ],
      "metadata": {
        "id": "dq6XyondH93j",
        "colab": {
          "base_uri": "https://localhost:8080/",
          "height": 615
        },
        "outputId": "6a20d39d-1c78-4f15-99d0-8ffecbcba4cf"
      },
      "execution_count": null,
      "outputs": [
        {
          "output_type": "stream",
          "name": "stdout",
          "text": [
            "{'error_1_draws': Array(0.00704697, dtype=float64), 'error_4_draws': Array(0.00326178, dtype=float64), 'error_16_draws': Array(0.00147381, dtype=float64), 'error_64_draws': Array(0.00092192, dtype=float64), 'error_256_draws': Array(0.00041204, dtype=float64)}\n",
            "[0.007046967244546932, 0.0032617806807877393, 0.0014738100183919987, 0.0009219225304782928, 0.0004120413640682382]\n"
          ]
        },
        {
          "output_type": "display_data",
          "data": {
            "text/plain": [
              "<Figure size 640x480 with 1 Axes>"
            ],
            "image/png": "[encoded data removed]"
          },
          "metadata": {}
        }
      ]
    },
    {
      "cell_type": "markdown",
      "source": [
        "# Impulse Responses"
      ],
      "metadata": {
        "id": "ZmnpWXEr-1sT"
      }
    },
    {
      "cell_type": "code",
      "source": [
        "# Impulse responses of dynare policy vs learned policy\n",
        "env = Model()\n",
        "\n",
        "ir_shocks = env.ir_shocks()\n",
        "print(\"shape of ir shocks:\", ir_shocks.shape)\n",
        "\n",
        "def ir(env, train_state, shocks):\n",
        "  def step(obs, shock):\n",
        "    policy = train_state.apply_fn(train_state.params, obs)\n",
        "    next_obs = env.step(obs, policy, shock)\n",
        "    obs_pol_pair = (obs,policy)\n",
        "    return next_obs, obs_pol_pair\n",
        "  obs_init = jnp.zeros_like(env.obs_ss)\n",
        "  final_obs, obs_pol_pairs = lax.scan(step, obs_init, shocks)\n",
        "  return final_obs, obs_pol_pairs\n",
        "\n",
        "ir_final_obs, ir_obs_pol_pairs = jax.vmap(ir, in_axes = (None,None,0))(env, final_train_state, ir_shocks)\n",
        "ir_obs, ir_policy = ir_obs_pol_pairs\n",
        "\n",
        "# PLOT\n",
        "ir_index = 0 # choose the IR exercise\n",
        "obs_index = 0 # choose the obs to plot\n",
        "obs_label = f\"Observation {obs_index}\" # create label\n",
        "policy_index = 0 # choose the policy to plot\n",
        "policy_label = f\"Policy {policy_index}\" # create label\n",
        "# plot obs\n",
        "plt.plot(list(range(40)), ir_obs[ir_index,:,obs_index], label =\"observation\")\n",
        "plt.savefig(config['working_dir']+config['run_name']+'/IRobs.jpg')\n",
        "plt.xlabel(\"Period\")\n",
        "plt.ylabel(obs_label)\n",
        "plt.show()\n",
        "#plot policy\n",
        "plt.plot(list(range(40)), ir_policy[0,:,policy_index], label =\"policy\")\n",
        "plt.savefig(config['working_dir']+config['run_name']+'/IRpolicy.jpg')\n",
        "plt.xlabel(\"Period\")\n",
        "plt.ylabel(policy_label)\n",
        "plt.show()\n"
      ],
      "metadata": {
        "id": "mmBJ9LxS-54A",
        "colab": {
          "base_uri": "https://localhost:8080/",
          "height": 902
        },
        "outputId": "63d96346-17a3-44e8-f33b-ecc65bbd6188"
      },
      "execution_count": null,
      "outputs": [
        {
          "output_type": "stream",
          "name": "stdout",
          "text": [
            "shape of ir shocks: (2, 40, 1)\n"
          ]
        },
        {
          "output_type": "display_data",
          "data": {
            "text/plain": [
              "<Figure size 640x480 with 1 Axes>"
            ],
            "image/png": "[encoded data removed]"
          },
          "metadata": {}
        },
        {
          "output_type": "display_data",
          "data": {
            "text/plain": [
              "<Figure size 640x480 with 1 Axes>"
            ],
            "image/png": "[encoded data removed]"
          },
          "metadata": {}
        }
      ]
    },
    {
      "cell_type": "markdown",
      "source": [
        "# Test Results\n",
        "\n",
        "We will first test that the environment works as its supposed to. First, we check if the error in the steady state is 0 under the loglinear policy. for that, we will firsr create a function that calculates the loss in the steady state"
      ],
      "metadata": {
        "id": "v0Vb1mt4G-Id"
      }
    },
    {
      "cell_type": "markdown",
      "source": [
        "### Test 1: steady state"
      ],
      "metadata": {
        "id": "hIKEQKv2HtXS"
      }
    },
    {
      "cell_type": "code",
      "source": [
        "# Test policies in steady state\n",
        "env = Model()\n",
        "params_test = final_train_state.params # Choose parameteres to test\n",
        "nn_policy_test = final_train_state.apply_fn\n",
        "rng_test = random.PRNGKey(1)\n",
        "\n",
        "# test steady state policies\n",
        "obs_init = env.initial_obs(rng_test)\n",
        "obs_ss = jnp.zeros_like(obs_init, dtype=jnp.float32)\n",
        "policy_ss = nn_policy_test(params_test, obs_ss) # nn_policy is the nn policy that comes from the training experiment\n",
        "print(\"Pretrain Policy in ss (should be ~ 1):\", policy_ss)\n",
        "\n",
        "# check that steady state policies takes a zero step\n",
        "shock_ss = jnp.array([0])\n",
        "obs_next_ss = env.step(obs_ss, policy_ss, shock_ss)\n",
        "print(\"Nex obs after ss policies (should be ~ 0):\", obs_next_ss)\n",
        "# print(\"Neural Net Gives 0 step in StSt?\",jnp.allclose(obs_next_ss, obs_ss, rtol=1e-02))\n",
        "print(\"Difference between next obs after applying nn_policy and stst\", obs_next_ss-obs_ss)\n",
        "\n",
        "# calculate expectation in StSt\n",
        "start = time()\n",
        "exp_ss = env.expect_realization(obs_ss, policy_ss)\n",
        "print(\"Expectation in SS:\", exp_ss)\n",
        "finish = time()\n",
        "print(f\"executing an expectation realization took {(finish-start)*1000} miliseconds\")\n",
        "\n",
        "# calculate loss in STST\n",
        "start = time()\n",
        "mean_loss, mean_accuracy, min_accuracy = env.loss(obs_ss,exp_ss, policy_ss)\n",
        "print(\"Mean Loss in SS:\", mean_loss, \"Mean accuracy in SS:\", mean_accuracy, \"Min. accuracy in SS:\", min_accuracy)\n",
        "finish = time()\n",
        "print(f\"executing the loss function {(finish-start)*1000} miliseconds\")\n"
      ],
      "metadata": {
        "id": "tMDHWyamqM8g",
        "colab": {
          "base_uri": "https://localhost:8080/"
        },
        "outputId": "59496ecb-9d14-4392-e1d2-3b362750eb18"
      },
      "execution_count": null,
      "outputs": [
        {
          "output_type": "stream",
          "name": "stdout",
          "text": [
            "Pretrain Policy in ss (should be ~ 1): [0.9985242]\n",
            "Nex obs after ss policies (should be ~ 0): [-4.4345856e-05  0.0000000e+00]\n",
            "Difference between next obs after applying nn_policy and stst [-4.4345856e-05  0.0000000e+00]\n",
            "Expectation in SS: 0.56312555\n",
            "executing an expectation realization took 41.3203239440918 miliseconds\n",
            "Mean Loss in SS: 1.4210855e-14 Mean accuracy in SS: 0.9999999 Min. accuracy in SS: 0.9999999\n",
            "executing the loss function 9.791135787963867 miliseconds\n"
          ]
        }
      ]
    },
    {
      "cell_type": "markdown",
      "source": [
        "### Test 2: step and loss function\n",
        "\n",
        "Now we test that the step function and loss function works correctly."
      ],
      "metadata": {
        "id": "duUIS9EaCIZo"
      }
    },
    {
      "cell_type": "code",
      "source": [
        "env = Model()\n",
        "rng_test = random.PRNGKey(0)\n",
        "params_test = final_train_state.params # Choose parameteres to test\n",
        "nn_policy_test = final_train_state.apply_fn\n",
        "# test envreset\n",
        "obs_init = env.initial_obs(rng_test)\n",
        "print(\"shape of initial obs:\", obs_init.shape)\n",
        "\n",
        "# test step\n",
        "shock = env.sample_shock(rng_test)\n",
        "policy = nn_policy_test(params_test, obs_init)\n",
        "obs_next = env.step(obs_init,policy,shock)\n",
        "print(\"shape of next obs\", obs_next.shape)\n",
        "\n",
        "# test expectation\n",
        "mc_shocks = env.mc_shocks(rng_test, config[\"mc_draws\"])\n",
        "mc_nextobs = jax.vmap(env.step, in_axes=(None, None,0))(obs_init, policy, mc_shocks)\n",
        "mc_nextpols = nn_policy_test(params_test,jnp.stack(mc_nextobs))\n",
        "exp = jnp.mean(jax.vmap(env.expect_realization)(mc_nextobs, mc_nextpols))\n",
        "print(\"shape of exp\", exp.shape)\n",
        "print(\"exp\", exp)\n",
        "\n",
        "#test loss\n",
        "mean_loss, mean_accuracy, min_accuracy  = env.loss(obs_init, exp, policy)\n",
        "print(\"Mean Loss in init obs:\", mean_loss, \"Mean accuracy in init obs:\", mean_accuracy, \"Min. accuracy in init obs:\", min_accuracy)\n",
        "\n"
      ],
      "metadata": {
        "id": "IRycSm2iCKKp",
        "colab": {
          "base_uri": "https://localhost:8080/"
        },
        "outputId": "9ed55136-e141-4684-d64d-3cb1be2422fc"
      },
      "execution_count": null,
      "outputs": [
        {
          "output_type": "stream",
          "name": "stdout",
          "text": [
            "shape of initial obs: (2,)\n",
            "shape of next obs (2,)\n",
            "shape of exp ()\n",
            "exp 0.53553444\n",
            "Mean Loss in init obs: 1.0706799e-08 Mean accuracy in init obs: 0.9998965 Min. accuracy in init obs: 0.9998965\n"
          ]
        }
      ]
    },
    {
      "cell_type": "markdown",
      "source": [
        "### Test 3: Simulating the environment (only states and policy, no loss)"
      ],
      "metadata": {
        "id": "3x-jPOefIMfa"
      }
    },
    {
      "cell_type": "code",
      "source": [
        "# Simulate env\n",
        "env = Model()\n",
        "params_test = final_train_state.params # Choose parameteres to test\n",
        "nn_policy_test = final_train_state.apply_fn\n",
        "rng_test = random.PRNGKey(1)\n",
        "obs_init = env.initial_obs(rng_test)\n",
        "\n",
        "def period_step_fn(obs, shock, nn_params):\n",
        "  policy = nn_policy_test(nn_params, obs)\n",
        "  obs_next = env.step(obs, policy, jnp.array([shock]))  # apply period steps for each row shock in shocks.\n",
        "  return obs_next, (obs_next, policy)\n",
        "\n",
        "n_periods = 1000000\n",
        "shocks = env.sample_shock(rng_test, n_draws=n_periods)\n",
        "period_step = jax.tree_util.Partial(period_step_fn, nn_params = params_test)\n",
        "start = time()\n",
        "obs_final, obs_policy_pair = lax.scan(period_step,obs_init,shocks)\n",
        "finish = time()\n",
        "print(f\"Simulating {n_periods} with only state evolution given policy took {(finish-start)} seconds\")\n",
        "\n",
        "obs, policy = obs_policy_pair\n",
        "print('mean for each state (should be ~ 0)')\n",
        "print(jnp.mean(obs,axis=0))\n",
        "print('std for each state (if normalized, should be ~ 1)')\n",
        "print(jnp.std(obs, axis=0))\n",
        "print('average policy', jnp.mean(policy,axis=0))"
      ],
      "metadata": {
        "id": "pPZz_th8ITA0",
        "colab": {
          "base_uri": "https://localhost:8080/"
        },
        "outputId": "142f0b04-14fa-4a0e-a044-3b29626da39b"
      },
      "execution_count": null,
      "outputs": [
        {
          "output_type": "stream",
          "name": "stdout",
          "text": [
            "Simulating 1000000 with only state evolution given policy took 0.28539276123046875 seconds\n",
            "mean for each state (should be ~ 0)\n",
            "[1.8740162e-04 8.0411519e-05]\n",
            "std for each state (if normalized, should be ~ 1)\n",
            "[0.03095767 0.02291827]\n",
            "average policy [1.0006654]\n"
          ]
        }
      ]
    },
    {
      "cell_type": "markdown",
      "source": [
        "## Analysis"
      ],
      "metadata": {
        "id": "WNY20VuEIGep"
      }
    },
    {
      "cell_type": "markdown",
      "source": [
        "We now perform three analysis. First, we analyse business cycle frequencies and amplifications."
      ],
      "metadata": {
        "id": "X5eMjoQjINtM"
      }
    },
    {
      "cell_type": "code",
      "source": [
        "\"\"\" Calculate fourier transform \"\"\"\n",
        "\n",
        "# simulate 100000 periods\n",
        "rng_test = random.PRNGKey(0)\n",
        "env = Model()\n",
        "n_periods = 1000000\n",
        "state_init = jnp.array(jnp.log(jax.random.uniform(rng_test,(2*env.n_sectors,),minval=0.9,maxval=1.1)))\n",
        "shocks = jax.random.multivariate_normal(rng_test, jnp.zeros((env.n_sectors,)), env.Sigma_A, shape=(n_periods,))\n",
        "_, state_policy_pairs = lax.scan(env.step,state_init,shocks)\n",
        "states, _ = state_policy_pairs\n",
        "print(states.shape) #check that last dimension is the time dimension\n",
        "fourier = jax.scipy.fft.dct(states)\n",
        "del states\n",
        "del shocks\n"
      ],
      "metadata": {
        "id": "rVIE1CZfIXOi",
        "colab": {
          "base_uri": "https://localhost:8080/",
          "height": 548
        },
        "outputId": "b6b4cff7-3f6b-4cdf-de6b-c2a215a0e702"
      },
      "execution_count": null,
      "outputs": [
        {
          "output_type": "error",
          "ename": "TypeError",
          "evalue": "ignored",
          "traceback": [
            "\u001b[0;31m---------------------------------------------------------------------------\u001b[0m",
            "\u001b[0;31mUnfilteredStackTrace\u001b[0m                      Traceback (most recent call last)",
            "\u001b[0;32m<ipython-input-25-604d68dcc43d>\u001b[0m in \u001b[0;36m<module>\u001b[0;34m\u001b[0m\n\u001b[1;32m      8\u001b[0m \u001b[0mshocks\u001b[0m \u001b[0;34m=\u001b[0m \u001b[0mjax\u001b[0m\u001b[0;34m.\u001b[0m\u001b[0mrandom\u001b[0m\u001b[0;34m.\u001b[0m\u001b[0mmultivariate_normal\u001b[0m\u001b[0;34m(\u001b[0m\u001b[0mrng_test\u001b[0m\u001b[0;34m,\u001b[0m \u001b[0mjnp\u001b[0m\u001b[0;34m.\u001b[0m\u001b[0mzeros\u001b[0m\u001b[0;34m(\u001b[0m\u001b[0;34m(\u001b[0m\u001b[0menv\u001b[0m\u001b[0;34m.\u001b[0m\u001b[0mn_sectors\u001b[0m\u001b[0;34m,\u001b[0m\u001b[0;34m)\u001b[0m\u001b[0;34m)\u001b[0m\u001b[0;34m,\u001b[0m \u001b[0menv\u001b[0m\u001b[0;34m.\u001b[0m\u001b[0mSigma_A\u001b[0m\u001b[0;34m,\u001b[0m \u001b[0mshape\u001b[0m\u001b[0;34m=\u001b[0m\u001b[0;34m(\u001b[0m\u001b[0mn_periods\u001b[0m\u001b[0;34m,\u001b[0m\u001b[0;34m)\u001b[0m\u001b[0;34m)\u001b[0m\u001b[0;34m\u001b[0m\u001b[0;34m\u001b[0m\u001b[0m\n\u001b[0;32m----> 9\u001b[0;31m \u001b[0m_\u001b[0m\u001b[0;34m,\u001b[0m \u001b[0mstate_policy_pairs\u001b[0m \u001b[0;34m=\u001b[0m \u001b[0mlax\u001b[0m\u001b[0;34m.\u001b[0m\u001b[0mscan\u001b[0m\u001b[0;34m(\u001b[0m\u001b[0menv\u001b[0m\u001b[0;34m.\u001b[0m\u001b[0mstep\u001b[0m\u001b[0;34m,\u001b[0m\u001b[0mstate_init\u001b[0m\u001b[0;34m,\u001b[0m\u001b[0mshocks\u001b[0m\u001b[0;34m)\u001b[0m\u001b[0;34m\u001b[0m\u001b[0;34m\u001b[0m\u001b[0m\n\u001b[0m\u001b[1;32m     10\u001b[0m \u001b[0mstates\u001b[0m\u001b[0;34m,\u001b[0m \u001b[0m_\u001b[0m \u001b[0;34m=\u001b[0m \u001b[0mstate_policy_pairs\u001b[0m\u001b[0;34m\u001b[0m\u001b[0;34m\u001b[0m\u001b[0m\n",
            "\u001b[0;32m/usr/local/lib/python3.7/dist-packages/jax/_src/traceback_util.py\u001b[0m in \u001b[0;36mreraise_with_filtered_traceback\u001b[0;34m(*args, **kwargs)\u001b[0m\n\u001b[1;32m    161\u001b[0m     \u001b[0;32mtry\u001b[0m\u001b[0;34m:\u001b[0m\u001b[0;34m\u001b[0m\u001b[0;34m\u001b[0m\u001b[0m\n\u001b[0;32m--> 162\u001b[0;31m       \u001b[0;32mreturn\u001b[0m \u001b[0mfun\u001b[0m\u001b[0;34m(\u001b[0m\u001b[0;34m*\u001b[0m\u001b[0margs\u001b[0m\u001b[0;34m,\u001b[0m \u001b[0;34m**\u001b[0m\u001b[0mkwargs\u001b[0m\u001b[0;34m)\u001b[0m\u001b[0;34m\u001b[0m\u001b[0;34m\u001b[0m\u001b[0m\n\u001b[0m\u001b[1;32m    163\u001b[0m     \u001b[0;32mexcept\u001b[0m \u001b[0mException\u001b[0m \u001b[0;32mas\u001b[0m \u001b[0me\u001b[0m\u001b[0;34m:\u001b[0m\u001b[0;34m\u001b[0m\u001b[0;34m\u001b[0m\u001b[0m\n",
            "\u001b[0;32m/usr/local/lib/python3.7/dist-packages/jax/_src/lax/control_flow/loops.py\u001b[0m in \u001b[0;36mscan\u001b[0;34m(f, init, xs, length, reverse, unroll)\u001b[0m\n\u001b[1;32m    258\u001b[0m   \u001b[0;31m# necessary, a second time with modified init values.\u001b[0m\u001b[0;34m\u001b[0m\u001b[0;34m\u001b[0m\u001b[0;34m\u001b[0m\u001b[0m\n\u001b[0;32m--> 259\u001b[0;31m   \u001b[0minit_flat\u001b[0m\u001b[0;34m,\u001b[0m \u001b[0mcarry_avals\u001b[0m\u001b[0;34m,\u001b[0m \u001b[0mcarry_avals_out\u001b[0m\u001b[0;34m,\u001b[0m \u001b[0minit_tree\u001b[0m\u001b[0;34m,\u001b[0m \u001b[0;34m*\u001b[0m\u001b[0mrest\u001b[0m \u001b[0;34m=\u001b[0m \u001b[0m_create_jaxpr\u001b[0m\u001b[0;34m(\u001b[0m\u001b[0minit\u001b[0m\u001b[0;34m)\u001b[0m\u001b[0;34m\u001b[0m\u001b[0;34m\u001b[0m\u001b[0m\n\u001b[0m\u001b[1;32m    260\u001b[0m   \u001b[0mnew_init_flat\u001b[0m\u001b[0;34m,\u001b[0m \u001b[0mchanged\u001b[0m \u001b[0;34m=\u001b[0m \u001b[0m_promote_weak_typed_inputs\u001b[0m\u001b[0;34m(\u001b[0m\u001b[0minit_flat\u001b[0m\u001b[0;34m,\u001b[0m \u001b[0mcarry_avals\u001b[0m\u001b[0;34m,\u001b[0m \u001b[0mcarry_avals_out\u001b[0m\u001b[0;34m)\u001b[0m\u001b[0;34m\u001b[0m\u001b[0;34m\u001b[0m\u001b[0m\n",
            "\u001b[0;32m/usr/local/lib/python3.7/dist-packages/jax/_src/lax/control_flow/loops.py\u001b[0m in \u001b[0;36m_create_jaxpr\u001b[0;34m(init)\u001b[0m\n\u001b[1;32m    245\u001b[0m     jaxpr, consts, out_tree = _initial_style_jaxpr(\n\u001b[0;32m--> 246\u001b[0;31m         f, in_tree, (*carry_avals, *x_avals), \"scan\")\n\u001b[0m\u001b[1;32m    247\u001b[0m     \u001b[0mout_tree_children\u001b[0m \u001b[0;34m=\u001b[0m \u001b[0mout_tree\u001b[0m\u001b[0;34m.\u001b[0m\u001b[0mchildren\u001b[0m\u001b[0;34m(\u001b[0m\u001b[0;34m)\u001b[0m\u001b[0;34m\u001b[0m\u001b[0;34m\u001b[0m\u001b[0m\n",
            "\u001b[0;32m/usr/local/lib/python3.7/dist-packages/jax/_src/lax/control_flow/common.py\u001b[0m in \u001b[0;36m_initial_style_jaxpr\u001b[0;34m(fun, in_tree, in_avals, primitive_name)\u001b[0m\n\u001b[1;32m     60\u001b[0m   jaxpr, consts, out_tree = _initial_style_open_jaxpr(\n\u001b[0;32m---> 61\u001b[0;31m       fun, in_tree, in_avals, primitive_name)\n\u001b[0m\u001b[1;32m     62\u001b[0m   \u001b[0mclosed_jaxpr\u001b[0m \u001b[0;34m=\u001b[0m \u001b[0mcore\u001b[0m\u001b[0;34m.\u001b[0m\u001b[0mClosedJaxpr\u001b[0m\u001b[0;34m(\u001b[0m\u001b[0mpe\u001b[0m\u001b[0;34m.\u001b[0m\u001b[0mconvert_constvars_jaxpr\u001b[0m\u001b[0;34m(\u001b[0m\u001b[0mjaxpr\u001b[0m\u001b[0;34m)\u001b[0m\u001b[0;34m,\u001b[0m \u001b[0;34m(\u001b[0m\u001b[0;34m)\u001b[0m\u001b[0;34m)\u001b[0m\u001b[0;34m\u001b[0m\u001b[0;34m\u001b[0m\u001b[0m\n",
            "\u001b[0;32m/usr/local/lib/python3.7/dist-packages/jax/_src/lax/control_flow/common.py\u001b[0m in \u001b[0;36m_initial_style_open_jaxpr\u001b[0;34m(fun, in_tree, in_avals, primitive_name)\u001b[0m\n\u001b[1;32m     53\u001b[0m   \u001b[0mdebug\u001b[0m \u001b[0;34m=\u001b[0m \u001b[0mpe\u001b[0m\u001b[0;34m.\u001b[0m\u001b[0mdebug_info\u001b[0m\u001b[0;34m(\u001b[0m\u001b[0mfun\u001b[0m\u001b[0;34m,\u001b[0m \u001b[0min_tree\u001b[0m\u001b[0;34m,\u001b[0m \u001b[0;32mFalse\u001b[0m\u001b[0;34m,\u001b[0m \u001b[0mprimitive_name\u001b[0m \u001b[0;32mor\u001b[0m \u001b[0;34m\"<unknown>\"\u001b[0m\u001b[0;34m)\u001b[0m\u001b[0;34m\u001b[0m\u001b[0;34m\u001b[0m\u001b[0m\n\u001b[0;32m---> 54\u001b[0;31m   \u001b[0mjaxpr\u001b[0m\u001b[0;34m,\u001b[0m \u001b[0m_\u001b[0m\u001b[0;34m,\u001b[0m \u001b[0mconsts\u001b[0m \u001b[0;34m=\u001b[0m \u001b[0mpe\u001b[0m\u001b[0;34m.\u001b[0m\u001b[0mtrace_to_jaxpr_dynamic\u001b[0m\u001b[0;34m(\u001b[0m\u001b[0mwrapped_fun\u001b[0m\u001b[0;34m,\u001b[0m \u001b[0min_avals\u001b[0m\u001b[0;34m,\u001b[0m \u001b[0mdebug\u001b[0m\u001b[0;34m)\u001b[0m\u001b[0;34m\u001b[0m\u001b[0;34m\u001b[0m\u001b[0m\n\u001b[0m\u001b[1;32m     55\u001b[0m   \u001b[0;32mreturn\u001b[0m \u001b[0mjaxpr\u001b[0m\u001b[0;34m,\u001b[0m \u001b[0mconsts\u001b[0m\u001b[0;34m,\u001b[0m \u001b[0mout_tree\u001b[0m\u001b[0;34m(\u001b[0m\u001b[0;34m)\u001b[0m\u001b[0;34m\u001b[0m\u001b[0;34m\u001b[0m\u001b[0m\n",
            "\u001b[0;32m/usr/local/lib/python3.7/dist-packages/jax/_src/profiler.py\u001b[0m in \u001b[0;36mwrapper\u001b[0;34m(*args, **kwargs)\u001b[0m\n\u001b[1;32m    313\u001b[0m     \u001b[0;32mwith\u001b[0m \u001b[0mTraceAnnotation\u001b[0m\u001b[0;34m(\u001b[0m\u001b[0mname\u001b[0m\u001b[0;34m,\u001b[0m \u001b[0;34m**\u001b[0m\u001b[0mdecorator_kwargs\u001b[0m\u001b[0;34m)\u001b[0m\u001b[0;34m:\u001b[0m\u001b[0;34m\u001b[0m\u001b[0;34m\u001b[0m\u001b[0m\n\u001b[0;32m--> 314\u001b[0;31m       \u001b[0;32mreturn\u001b[0m \u001b[0mfunc\u001b[0m\u001b[0;34m(\u001b[0m\u001b[0;34m*\u001b[0m\u001b[0margs\u001b[0m\u001b[0;34m,\u001b[0m \u001b[0;34m**\u001b[0m\u001b[0mkwargs\u001b[0m\u001b[0;34m)\u001b[0m\u001b[0;34m\u001b[0m\u001b[0;34m\u001b[0m\u001b[0m\n\u001b[0m\u001b[1;32m    315\u001b[0m     \u001b[0;32mreturn\u001b[0m \u001b[0mwrapper\u001b[0m\u001b[0;34m\u001b[0m\u001b[0;34m\u001b[0m\u001b[0m\n",
            "\u001b[0;32m/usr/local/lib/python3.7/dist-packages/jax/interpreters/partial_eval.py\u001b[0m in \u001b[0;36mtrace_to_jaxpr_dynamic\u001b[0;34m(fun, in_avals, debug_info, keep_inputs)\u001b[0m\n\u001b[1;32m   1981\u001b[0m     jaxpr, out_avals, consts = trace_to_subjaxpr_dynamic(\n\u001b[0;32m-> 1982\u001b[0;31m       fun, main, in_avals, keep_inputs=keep_inputs, debug_info=debug_info)\n\u001b[0m\u001b[1;32m   1983\u001b[0m     \u001b[0;32mdel\u001b[0m \u001b[0mmain\u001b[0m\u001b[0;34m,\u001b[0m \u001b[0mfun\u001b[0m\u001b[0;34m\u001b[0m\u001b[0;34m\u001b[0m\u001b[0m\n",
            "\u001b[0;32m/usr/local/lib/python3.7/dist-packages/jax/interpreters/partial_eval.py\u001b[0m in \u001b[0;36mtrace_to_subjaxpr_dynamic\u001b[0;34m(fun, main, in_avals, keep_inputs, debug_info)\u001b[0m\n\u001b[1;32m   1997\u001b[0m     \u001b[0min_tracers_\u001b[0m \u001b[0;34m=\u001b[0m \u001b[0;34m[\u001b[0m\u001b[0mt\u001b[0m \u001b[0;32mfor\u001b[0m \u001b[0mt\u001b[0m\u001b[0;34m,\u001b[0m \u001b[0mkeep\u001b[0m \u001b[0;32min\u001b[0m \u001b[0mzip\u001b[0m\u001b[0;34m(\u001b[0m\u001b[0min_tracers\u001b[0m\u001b[0;34m,\u001b[0m \u001b[0mkeep_inputs\u001b[0m\u001b[0;34m)\u001b[0m \u001b[0;32mif\u001b[0m \u001b[0mkeep\u001b[0m\u001b[0;34m]\u001b[0m\u001b[0;34m\u001b[0m\u001b[0;34m\u001b[0m\u001b[0m\n\u001b[0;32m-> 1998\u001b[0;31m     \u001b[0mans\u001b[0m \u001b[0;34m=\u001b[0m \u001b[0mfun\u001b[0m\u001b[0;34m.\u001b[0m\u001b[0mcall_wrapped\u001b[0m\u001b[0;34m(\u001b[0m\u001b[0;34m*\u001b[0m\u001b[0min_tracers_\u001b[0m\u001b[0;34m)\u001b[0m\u001b[0;34m\u001b[0m\u001b[0;34m\u001b[0m\u001b[0m\n\u001b[0m\u001b[1;32m   1999\u001b[0m     \u001b[0mout_tracers\u001b[0m \u001b[0;34m=\u001b[0m \u001b[0mmap\u001b[0m\u001b[0;34m(\u001b[0m\u001b[0mtrace\u001b[0m\u001b[0;34m.\u001b[0m\u001b[0mfull_raise\u001b[0m\u001b[0;34m,\u001b[0m \u001b[0mans\u001b[0m\u001b[0;34m)\u001b[0m\u001b[0;34m\u001b[0m\u001b[0;34m\u001b[0m\u001b[0m\n",
            "\u001b[0;32m/usr/local/lib/python3.7/dist-packages/jax/linear_util.py\u001b[0m in \u001b[0;36mcall_wrapped\u001b[0;34m(self, *args, **kwargs)\u001b[0m\n\u001b[1;32m    166\u001b[0m     \u001b[0;32mtry\u001b[0m\u001b[0;34m:\u001b[0m\u001b[0;34m\u001b[0m\u001b[0;34m\u001b[0m\u001b[0m\n\u001b[0;32m--> 167\u001b[0;31m       \u001b[0mans\u001b[0m \u001b[0;34m=\u001b[0m \u001b[0mself\u001b[0m\u001b[0;34m.\u001b[0m\u001b[0mf\u001b[0m\u001b[0;34m(\u001b[0m\u001b[0;34m*\u001b[0m\u001b[0margs\u001b[0m\u001b[0;34m,\u001b[0m \u001b[0;34m**\u001b[0m\u001b[0mdict\u001b[0m\u001b[0;34m(\u001b[0m\u001b[0mself\u001b[0m\u001b[0;34m.\u001b[0m\u001b[0mparams\u001b[0m\u001b[0;34m,\u001b[0m \u001b[0;34m**\u001b[0m\u001b[0mkwargs\u001b[0m\u001b[0;34m)\u001b[0m\u001b[0;34m)\u001b[0m\u001b[0;34m\u001b[0m\u001b[0;34m\u001b[0m\u001b[0m\n\u001b[0m\u001b[1;32m    168\u001b[0m     \u001b[0;32mexcept\u001b[0m\u001b[0;34m:\u001b[0m\u001b[0;34m\u001b[0m\u001b[0;34m\u001b[0m\u001b[0m\n",
            "\u001b[0;31mUnfilteredStackTrace\u001b[0m: TypeError: step() missing 1 required positional argument: 'shock'\n\nThe stack trace below excludes JAX-internal frames.\nThe preceding is the original exception that occurred, unmodified.\n\n--------------------",
            "\nThe above exception was the direct cause of the following exception:\n",
            "\u001b[0;31mTypeError\u001b[0m                                 Traceback (most recent call last)",
            "\u001b[0;32m<ipython-input-25-604d68dcc43d>\u001b[0m in \u001b[0;36m<module>\u001b[0;34m\u001b[0m\n\u001b[1;32m      7\u001b[0m \u001b[0mstate_init\u001b[0m \u001b[0;34m=\u001b[0m \u001b[0mjnp\u001b[0m\u001b[0;34m.\u001b[0m\u001b[0marray\u001b[0m\u001b[0;34m(\u001b[0m\u001b[0mjnp\u001b[0m\u001b[0;34m.\u001b[0m\u001b[0mlog\u001b[0m\u001b[0;34m(\u001b[0m\u001b[0mjax\u001b[0m\u001b[0;34m.\u001b[0m\u001b[0mrandom\u001b[0m\u001b[0;34m.\u001b[0m\u001b[0muniform\u001b[0m\u001b[0;34m(\u001b[0m\u001b[0mrng_test\u001b[0m\u001b[0;34m,\u001b[0m\u001b[0;34m(\u001b[0m\u001b[0;36m2\u001b[0m\u001b[0;34m*\u001b[0m\u001b[0menv\u001b[0m\u001b[0;34m.\u001b[0m\u001b[0mn_sectors\u001b[0m\u001b[0;34m,\u001b[0m\u001b[0;34m)\u001b[0m\u001b[0;34m,\u001b[0m\u001b[0mminval\u001b[0m\u001b[0;34m=\u001b[0m\u001b[0;36m0.9\u001b[0m\u001b[0;34m,\u001b[0m\u001b[0mmaxval\u001b[0m\u001b[0;34m=\u001b[0m\u001b[0;36m1.1\u001b[0m\u001b[0;34m)\u001b[0m\u001b[0;34m)\u001b[0m\u001b[0;34m)\u001b[0m\u001b[0;34m\u001b[0m\u001b[0;34m\u001b[0m\u001b[0m\n\u001b[1;32m      8\u001b[0m \u001b[0mshocks\u001b[0m \u001b[0;34m=\u001b[0m \u001b[0mjax\u001b[0m\u001b[0;34m.\u001b[0m\u001b[0mrandom\u001b[0m\u001b[0;34m.\u001b[0m\u001b[0mmultivariate_normal\u001b[0m\u001b[0;34m(\u001b[0m\u001b[0mrng_test\u001b[0m\u001b[0;34m,\u001b[0m \u001b[0mjnp\u001b[0m\u001b[0;34m.\u001b[0m\u001b[0mzeros\u001b[0m\u001b[0;34m(\u001b[0m\u001b[0;34m(\u001b[0m\u001b[0menv\u001b[0m\u001b[0;34m.\u001b[0m\u001b[0mn_sectors\u001b[0m\u001b[0;34m,\u001b[0m\u001b[0;34m)\u001b[0m\u001b[0;34m)\u001b[0m\u001b[0;34m,\u001b[0m \u001b[0menv\u001b[0m\u001b[0;34m.\u001b[0m\u001b[0mSigma_A\u001b[0m\u001b[0;34m,\u001b[0m \u001b[0mshape\u001b[0m\u001b[0;34m=\u001b[0m\u001b[0;34m(\u001b[0m\u001b[0mn_periods\u001b[0m\u001b[0;34m,\u001b[0m\u001b[0;34m)\u001b[0m\u001b[0;34m)\u001b[0m\u001b[0;34m\u001b[0m\u001b[0;34m\u001b[0m\u001b[0m\n\u001b[0;32m----> 9\u001b[0;31m \u001b[0m_\u001b[0m\u001b[0;34m,\u001b[0m \u001b[0mstate_policy_pairs\u001b[0m \u001b[0;34m=\u001b[0m \u001b[0mlax\u001b[0m\u001b[0;34m.\u001b[0m\u001b[0mscan\u001b[0m\u001b[0;34m(\u001b[0m\u001b[0menv\u001b[0m\u001b[0;34m.\u001b[0m\u001b[0mstep\u001b[0m\u001b[0;34m,\u001b[0m\u001b[0mstate_init\u001b[0m\u001b[0;34m,\u001b[0m\u001b[0mshocks\u001b[0m\u001b[0;34m)\u001b[0m\u001b[0;34m\u001b[0m\u001b[0;34m\u001b[0m\u001b[0m\n\u001b[0m\u001b[1;32m     10\u001b[0m \u001b[0mstates\u001b[0m\u001b[0;34m,\u001b[0m \u001b[0m_\u001b[0m \u001b[0;34m=\u001b[0m \u001b[0mstate_policy_pairs\u001b[0m\u001b[0;34m\u001b[0m\u001b[0;34m\u001b[0m\u001b[0m\n\u001b[1;32m     11\u001b[0m \u001b[0mprint\u001b[0m\u001b[0;34m(\u001b[0m\u001b[0mstates\u001b[0m\u001b[0;34m.\u001b[0m\u001b[0mshape\u001b[0m\u001b[0;34m)\u001b[0m \u001b[0;31m#check that last dimension is the time dimension\u001b[0m\u001b[0;34m\u001b[0m\u001b[0;34m\u001b[0m\u001b[0m\n",
            "\u001b[0;31mTypeError\u001b[0m: step() missing 1 required positional argument: 'shock'"
          ]
        }
      ]
    },
    {
      "cell_type": "markdown",
      "source": [
        "## Obsolete"
      ],
      "metadata": {
        "id": "AxcdZawR-2L0"
      }
    },
    {
      "cell_type": "code",
      "source": [
        "# def loss(self, rng, state, policy_params):\n",
        "\n",
        "  #   # process state\n",
        "  #   state = state*self.states_sd\n",
        "  #   K = jnp.exp(state[:self.n_sectors]+self.states_ss[:self.n_sectors])\n",
        "  #   a = state[self.n_sectors:]+self.states_ss[self.n_sectors:]\n",
        "\n",
        "  #   # calculate the policy variables\n",
        "  #   policy = self.policy_fn(policy_params,state)\n",
        "  #   I = policy[:self.n_sectors]\n",
        "  #   Q = policy[self.n_sectors:2*self.n_sectors]\n",
        "  #   P = policy[2*self.n_sectors:3*self.n_sectors]\n",
        "  #   L = policy[3*self.n_sectors:]\n",
        "\n",
        "  #   #Rest of variables\n",
        "  #   A = jnp.exp(a)\n",
        "  #   Lagg = jnp.sum(L)  # Aggregate labor\n",
        "  #   Pagg = jnp.dot(jnp.transpose(self.xi),P**(1-self.sigma_c))**(1/(1-self.sigma_c)) # Agg price\n",
        "  #   Cagg = 1/Pagg  # Agg consumption\n",
        "  #   C = self.xi * (P/Pagg)**(-self.sigma_c) * Cagg  # Sectoral Consumption\n",
        "  #   Pm = (jnp.dot(jnp.transpose(self.Gamma_M),P**(1-self.sigma_m)))**(1/(1-self.sigma_m)) #  Interm. Price Index\n",
        "  #   M = self.mu * (Pm/P)**(-self.sigma_q) * Q  # Sectoral Intermediates\n",
        "  #   Mout = P**(-self.sigma_m) * jnp.dot(self.Gamma_M,Pm**(self.sigma_m)*M) # interm sold by sector\n",
        "  #   Pk = (jnp.dot(jnp.transpose(self.Gamma_I),P**(1-self.sigma_I)))**(1/(1-self.sigma_I)) #  Capital Price Index\n",
        "  #   Iout = P**(-self.sigma_I) * jnp.dot(self.Gamma_I,Pk**(self.sigma_I)*I) # New Capital sold by sector\n",
        "  #   Y = (A * (\n",
        "  #       self.alpha**(1/self.sigma_y)*K**((self.sigma_y-1)/self.sigma_y) +\n",
        "  #       (1-self.alpha)**(1/self.sigma_y)*L**((self.sigma_y-1)/self.sigma_y)\n",
        "  #       )**(self.sigma_y/(self.sigma_y-1)))\n",
        "\n",
        "  #   # Now we calculate the expectation term through montecarlo. We know K_next\n",
        "  #   K_next = (1-self.delta)*K + I  # get next K\n",
        "\n",
        "  #   # First, we get what is inside expectations for the realization of one shock\n",
        "  #   def exp_realization(shock):\n",
        "  #     # get next state\n",
        "  #     a_next = self.rho*a + shock\n",
        "  #     state_next = jnp.concatenate([jnp.log(K_next),a_next])-self.states_ss\n",
        "\n",
        "  #     #calculate policies\n",
        "  #     policy_next = self.policy_fn(policy_params,state_next)\n",
        "  #     I_next = policy_next[:self.n_sectors]\n",
        "  #     Q_next = policy_next[self.n_sectors:2*self.n_sectors]\n",
        "  #     P_next = policy_next[2*self.n_sectors:3*self.n_sectors]\n",
        "  #     L_next = policy_next[3*self.n_sectors:]\n",
        "\n",
        "  #     # Solve for the rest of the endogenous variables\n",
        "  #     A_next = jnp.exp(a_next)\n",
        "  #     Lagg = jnp.sum(L)\n",
        "  #     Pk_next = (jnp.dot(jnp.transpose(self.Gamma_I),P_next**(1-self.sigma_I)))**(1/(1-self.sigma_I))\n",
        "  #     Y_next = (A_next * (\n",
        "  #       self.alpha**(1/self.sigma_y)*K_next**((self.sigma_y-1)/self.sigma_y) +\n",
        "  #       (1-self.alpha)**(1/self.sigma_y)*L_next**((self.sigma_y-1)/self.sigma_y)\n",
        "  #       )**(self.sigma_y/(self.sigma_y-1)))\n",
        "\n",
        "  #     # Solve for the expectation term\n",
        "  #     exp_realization = (P_next*A_next**((self.sigma_y-1)/self.sigma_y) *\n",
        "  #       ((1-self.mu)*Q_next/Y_next)**(1/self.sigma_q) *\n",
        "  #       (self.alpha*Y_next/K_next)**(1/self.sigma_y) +\n",
        "  #       (1-self.delta)*Pk_next)\n",
        "  #     return exp_realization\n",
        "\n",
        "  #   # Now we calculate the expectation through montecarlo\n",
        "  #   def monte_carlo_exp(rng, mc_draws):\n",
        "  #     shocks = jax.random.multivariate_normal(rng, jnp.zeros((self.n_sectors,)), self.Sigma_A, shape=(mc_draws,))\n",
        "  #     exp = jnp.mean(jax.vmap(exp_realization)(shocks),axis=0)\n",
        "  #     return exp\n",
        "  #   # exp = monte_carlo_exp(rng, self.mc_draws)\n",
        "  #   # rng, *mc_rngs  = random.split(rng,self.n_mcs+1)\n",
        "  #   exp = monte_carlo_exp(rng,self.mc_draws)\n",
        "\n",
        "  #   # Calculate model implied Q\n",
        "  #   Qmod = ((\n",
        "  #       (1-self.mu)**(1/self.sigma_q)*Y**((self.sigma_q-1)/self.sigma_q) +\n",
        "  #       (self.mu)**(1/self.sigma_q)*M**((self.sigma_q-1)/self.sigma_q)\n",
        "  #       )**(self.sigma_q/(self.sigma_q-1)))\n",
        "\n",
        "  #   # Calculate right hand side of error eq for L\n",
        "  #   Lmod = (P*A**((self.sigma_y-1)/self.sigma_y) *\n",
        "  #     ((1-self.mu)*Q/Y)**(1/self.sigma_q) *\n",
        "  #     ((1-self.alpha)*Y/L)**(1/self.sigma_y))\n",
        "\n",
        "  #   Q_loss = Q / Qmod - 1\n",
        "  #   Pk_loss = Pk/(self.beta*exp) - 1\n",
        "  #   Market_loss = Q / (C+Mout+Iout) - 1\n",
        "  #   L_loss = Lagg**(1/self.eps_l)/Lmod - 1\n",
        "  #   loss = (jnp.sum(jnp.array([jnp.square(Q_loss),jnp.square(Pk_loss),jnp.square(Market_loss), jnp.square(L_loss)])))/self.n_actions\n",
        "\n",
        "  #   return lax.stop_gradient(loss)\n",
        "\n",
        "  # def expectation(self, rng, state, K_next, policy_params):\n",
        "  #   K = jnp.exp(state[:self.n_sectors]+self.states_ss[:self.n_sectors])\n",
        "  #   a = state[self.n_sectors:]\n",
        "\n",
        "  #   def exp_realization(shock):\n",
        "  #     # get next state\n",
        "  #     a_next = self.rho*a + shock\n",
        "  #     state_next = jnp.concatenate([jnp.log(K_next),a_next])-self.states_ss\n",
        "\n",
        "  #     #calculate policies\n",
        "  #     policy_next = self.policy_fn(policy_params,state_next)\n",
        "  #     I_next = policy_next[:self.n_sectors]\n",
        "  #     Q_next = policy_next[self.n_sectors:2*self.n_sectors]\n",
        "  #     P_next = policy_next[2*self.n_sectors:3*self.n_sectors]\n",
        "  #     L_next = policy_next[3*self.n_sectors:]\n",
        "\n",
        "  #     # Solve for the rest of the endogenous variables\n",
        "  #     A_next = jnp.exp(a_next)\n",
        "  #     Lagg = jnp.sum(L)\n",
        "  #     Pk_next = (jnp.dot(jnp.transpose(self.Gamma_I),P_next**(1-self.sigma_I)))**(1/(1-self.sigma_I))\n",
        "  #     Y_next = (A_next * (\n",
        "  #       self.alpha**(1/self.sigma_y)*K_next**((self.sigma_y-1)/self.sigma_y) +\n",
        "  #       (1-self.alpha)**(1/self.sigma_y)*L_next**((self.sigma_y-1)/self.sigma_y)\n",
        "  #       )**(self.sigma_y/(self.sigma_y-1)))\n",
        "\n",
        "  #     # Solve for the expectation term\n",
        "  #     exp_realization = (P_next*A_next**((self.sigma_y-1)/self.sigma_y) *\n",
        "  #       ((1-self.mu)*Q_next/Y_next)**(1/self.sigma_q) *\n",
        "  #       (self.alpha*Y_next/K_next)**(1/self.sigma_y) +\n",
        "  #       (1-self.delta)*Pk_next)\n",
        "  #     return exp_realization\n",
        "\n",
        "  #   shocks = jax.random.multivariate_normal(rng, jnp.zeros((self.n_sectors,)), self.Sigma_A, shape=(self.mc_draws,))\n",
        "  #   exp = jnp.mean(jax.vmap(exp_realization)(shocks), axis=0)\n",
        "  #   return exp"
      ],
      "metadata": {
        "id": "lXkrrPTm-4UR"
      },
      "execution_count": null,
      "outputs": []
    },
    {
      "cell_type": "code",
      "source": [
        "# Environment\n",
        "# class ProdNetRbc_SS():\n",
        "#   \"\"\"A JAX implementation of an RBC model with Production Networks.\"\"\"\n",
        "\n",
        "#   def __init__(self, params = params, states_ss=states_ss, policies_ss=policies_ss, states_sd = states_sd, policy_layers=[1024,1024]):\n",
        "\n",
        "#     self.alpha = params[\"alpha\"]\n",
        "#     self.beta = params[\"beta\"]\n",
        "#     self.delta = params[\"delta\"]\n",
        "#     self.rho = params[\"rho\"]\n",
        "#     self.eps_l = params[\"eps_l\"]\n",
        "#     self.sigma_c = params[\"sigma_c\"]\n",
        "#     self.sigma_m = params[\"sigma_m\"]\n",
        "#     self.sigma_q = params[\"sigma_q\"]\n",
        "#     self.sigma_y = params[\"sigma_y\"]\n",
        "#     self.sigma_I = params[\"sigma_I\"]\n",
        "#     self.xi = jnp.array(params[\"xi\"])\n",
        "#     self.mu = jnp.array(params[\"mu\"])\n",
        "#     self.Gamma_M = jnp.array(params[\"Gamma_M\"])\n",
        "#     self.Gamma_I = jnp.array(params[\"Gamma_I\"])\n",
        "#     self.n_sectors = params[\"n_sectors\"]\n",
        "#     self.states_ss = jnp.concatenate([states_ss,jnp.zeros(shape=(self.n_sectors,))])\n",
        "#     self.policies_ss = jnp.array(policies_ss)\n",
        "#     self.n_actions = 4*self.n_sectors\n",
        "#     self.states_sd = states_sd\n",
        "#   def initial_state(self):\n",
        "#     state_init = jnp.zeros(shape=(2*self.n_sectors,))\n",
        "#     return lax.stop_gradient(state_init)\n",
        "\n",
        "#   def step(self, state):\n",
        "#     state = state*self.states_sd\n",
        "#     K = jnp.exp(state[:self.n_sectors]+self.states_ss[:self.n_sectors])\n",
        "#     a = state[self.n_sectors:]\n",
        "#     policy = jnp.exp(self.policies_ss)\n",
        "#     K_next = (1-self.delta)*K + policy[:self.n_sectors]\n",
        "#     a_next = self.rho*a\n",
        "#     state_next = (jnp.concatenate([jnp.log(K_next),a_next])-self.states_ss)/self.states_sd\n",
        "#     # return lax.stop_gradient(state_next), lax.stop_gradient(state_next)\n",
        "#     return lax.stop_gradient(state_next)\n",
        "\n",
        "\n",
        "#   def loss(self, state):\n",
        "#     state = state*self.states_sd\n",
        "#     # process state\n",
        "#     K = jnp.exp(state[:self.n_sectors]+self.states_ss[:self.n_sectors])\n",
        "\n",
        "#     # calculate the policy variables\n",
        "#     policy = jnp.exp(self.policies_ss)\n",
        "#     I = policy[:self.n_sectors]\n",
        "#     Q = policy[self.n_sectors:2*self.n_sectors]\n",
        "#     P = policy[2*self.n_sectors:3*self.n_sectors]\n",
        "#     L = policy[3*self.n_sectors:]\n",
        "\n",
        "#     #Rest of variables\n",
        "#     Lagg = jnp.sum(L)  # Aggregate labor\n",
        "#     Pagg = jnp.dot(jnp.transpose(self.xi),P**(1-self.sigma_c))**(1/(1-self.sigma_c)) # Agg price\n",
        "#     Cagg = 1/Pagg  # Agg consumption\n",
        "#     C = self.xi * (P/Pagg)**(-self.sigma_c) * Cagg  # Sectoral Consumption\n",
        "#     Pm = (jnp.dot(jnp.transpose(self.Gamma_M),P**(1-self.sigma_m)))**(1/(1-self.sigma_m)) #  Interm. Price Index\n",
        "#     M = self.mu * (Pm/P)**(-self.sigma_q) * Q  # Sectoral Intermediates\n",
        "#     Mout = P**(-self.sigma_m) * jnp.dot(self.Gamma_M,Pm**(self.sigma_m)*M) # interm sold by sector\n",
        "#     Pk = (jnp.dot(jnp.transpose(self.Gamma_I),P**(1-self.sigma_I)))**(1/(1-self.sigma_I)) #  Capital Price Index\n",
        "#     Iout = P**(-self.sigma_I) * jnp.dot(self.Gamma_I,Pk**(self.sigma_I)*I) # New Capital sold by sector\n",
        "#     Y = (\n",
        "#         (\n",
        "#         self.alpha**(1/self.sigma_y)*K**((self.sigma_y-1)/self.sigma_y) +\n",
        "#         (1-self.alpha)**(1/self.sigma_y)*L**((self.sigma_y-1)/self.sigma_y)\n",
        "#         )**(self.sigma_y/(self.sigma_y-1)))\n",
        "\n",
        "#     print(Y)\n",
        "#     # Now we calculate the expectation term through montecarlo. We know K_next\n",
        "#     K_next = (1-self.delta)*K + I  # get next K\n",
        "#     exp = (\n",
        "#         P *\n",
        "#         ((1-self.mu)*Q/Y)**(1/self.sigma_q) *\n",
        "#         (self.alpha*Y/K_next)**(1/self.sigma_y) +\n",
        "#         (1-self.delta)*Pk\n",
        "#         )\n",
        "#     # Now we get what is inside expectations for each realization of the shock\n",
        "#     # def exp_realization():\n",
        "#     #   # a_next = self.rho*a\n",
        "#     #   # state_next = jnp.concatenate([jnp.log(K_next),a_next])-self.states_ss\n",
        "\n",
        "#     #   #calculate policies\n",
        "#     #   # policy_next = policy\n",
        "#     #   # I_next = policy_next[:self.n_sectors]\n",
        "#     #   # Q_next = policy_next[self.n_sectors:2*self.n_sectors]\n",
        "#     #   # P_next = policy_next[2*self.n_sectors:3*self.n_sectors]\n",
        "#     #   # L_next = policy_next[3*self.n_sectors:]\n",
        "\n",
        "#     #   # Solve for the rest of the endogenous variables\n",
        "#     #   # A_next = jnp.exp(a_next)\n",
        "#     #   # Lagg = jnp.sum(L)\n",
        "#     #   # Pk_next = (jnp.dot(jnp.transpose(Gamma_I),P_next**(1-self.sigma_I)))**(1/(1-self.sigma_I))\n",
        "#     #   # Y_next = (A_next * (\n",
        "#     #   #   self.alpha**(1/self.sigma_y)*K_next**((self.sigma_y-1)/self.sigma_y) +\n",
        "#     #   #   (1-self.alpha)**(1/self.sigma_y)*L_next**((self.sigma_y-1)/self.sigma_y)\n",
        "#     #   #   )**(self.sigma_y/(self.sigma_y-1)))\n",
        "\n",
        "#     #   # Solve for the expectation term\n",
        "#     #   # exp_realization = (P_next*A_next**((self.sigma_y-1)/self.sigma_y) *\n",
        "#     #   #   ((1-self.mu)*Q_next/Y_next)**(1/self.sigma_q) *\n",
        "#     #   #   (self.alpha*Y_next/K_next)**(1/self.sigma_y) +\n",
        "#     #   #   (1-self.delta)*Pk_next)\n",
        "#     #   exp_realization = (P*A**((self.sigma_y-1)/self.sigma_y) *\n",
        "#     #     ((1-self.mu)*Q/Y)**(1/self.sigma_q) *\n",
        "#     #     (self.alpha*Y/K_next)**(1/self.sigma_y) +\n",
        "#     #     (1-self.delta)*Pk)\n",
        "#     #   return exp_realization\n",
        "\n",
        "#     # Now we calculate the expectation\n",
        "\n",
        "#     # Calculate model implied Q\n",
        "#     Qmod = ((\n",
        "#         (1-self.mu)**(1/self.sigma_q)*Y**((self.sigma_q-1)/self.sigma_q) +\n",
        "#         (self.mu)**(1/self.sigma_q)*M**((self.sigma_q-1)/self.sigma_q)\n",
        "#         )**(self.sigma_q/(self.sigma_q-1)))\n",
        "\n",
        "#     # Calculate right hand side of error eq for L\n",
        "#     Lmod = (P *\n",
        "#       ((1-self.mu)*Q/Y)**(1/self.sigma_q) *\n",
        "#       ((1-self.alpha)*Y/L)**(1/self.sigma_y))\n",
        "\n",
        "#     Q_loss = Q / Qmod - 1\n",
        "#     Pk_loss = Pk/(self.beta*exp) - 1\n",
        "#     Market_loss = Q / (C+Mout+Iout) - 1\n",
        "#     L_loss = Lagg**(1/self.eps_l)/Lmod - 1\n",
        "#     loss = (jnp.sum(jnp.array([jnp.square(Q_loss),jnp.square(Pk_loss),jnp.square(Market_loss), jnp.square(L_loss)])))/self.n_actions\n",
        "\n",
        "#     return lax.stop_gradient(loss)"
      ],
      "metadata": {
        "id": "jrdME6CMJ0kp"
      },
      "execution_count": null,
      "outputs": []
    },
    {
      "cell_type": "code",
      "source": [
        "def run_experiment(env, config):\n",
        "  \"\"\"Runs experiment.\"\"\"\n",
        "  cores_count = len(jax.devices())  # get available TPU cores.\n",
        "  nn_policy = NeuralNet(config[\"layers\"] + [env.n_actions])\n",
        "  optim = optax.adam(config[\"learning_rate\"])  # define optimiser.\n",
        "\n",
        "  rng, rng_e = random.split(random.PRNGKey(config[\"seed\"]), 2)  # prng keys.\n",
        "  dummy_obs = env.initial_obs(rng_e)  # dummy for net init.\n",
        "  params = params # initialise params.\n",
        "  nn_forward = nn_policy.apply\n",
        "  mean_loss = jnp.array([0.0]) # initialize loss\n",
        "  # mean_abs_loss = jnp.array([0.0]) # initialize loss\n",
        "  opt_state = optim.init(params)  # initialise optimiser stats.\n",
        "  learn = jax.jit(get_epoch_learner_fn(env, nn_forward, optim.update, config[\"batch_size\"], config[\"epoch_iters\"]))\n",
        "  # learn = jax.pmap(learn, axis_name='i')  # replicate over multiple cores.\n",
        "\n",
        "  #  broadcast = lambda x: jnp.broadcast_to(x, (cores_count, config[\"n_batches\"]) + x.shape)\n",
        "  # params = jax.tree_map(broadcast, params)  # broadcast to cores and batch.\n",
        "  # opt_state = jax.tree_map(broadcast, opt_state)  # broadcast to cores and batch\n",
        "  # mean_loss = jax.tree_map(broadcast, mean_loss)\n",
        "  # mean_abs_loss = jax.tree_map(broadcast, mean_abs_loss)\n",
        "\n",
        "  # rng, *env_rngs = jax.random.split(rng, cores_count * config[\"n_batches\"]+ 1)\n",
        "  # env_obs = jax.vmap(env.initial_obs)(jnp.stack(env_rngs))  # init envs.\n",
        "  # rng, *step_rngs = jax.random.split(rng, cores_count * config[\"n_batches\"] + 1)\n",
        "  # rng, *eval_rngs = jax.random.split(rng, cores_count * config[\"n_batches\"] + 1)\n",
        "  rng, env_rngs = jax.random.split(rng, cores_count * config[\"n_batches\"]+ 1)\n",
        "  env_obs = env.initial_obs(env_rngs)  # init envs.\n",
        "  rng, step_rngs = jax.random.split(rng, cores_count * config[\"n_batches\"] + 1)\n",
        "  rng, eval_rngs = jax.random.split(rng, cores_count * config[\"n_batches\"] + 1)\n",
        "\n",
        "  # reshape = lambda x: x.reshape((cores_count, config[\"n_batches\"]) + x.shape[1:])\n",
        "  # step_rngs = reshape(jnp.stack(step_rngs))  # add dimension to pmap over.\n",
        "  # eval_rngs = reshape(jnp.stack(eval_rngs))  # add dimension to pmap over.\n",
        "  # env_obs = reshape(env_obs)  # add dimension to pmap over.\n",
        "\n",
        "  mean_losses = []\n",
        "  mean_accuracy = []\n",
        "  num_steps = cores_count * config[\"epoch_iters\"] * config[\"batch_size\"] * config[\"n_batches\"]\n",
        "\n",
        "  with TimeIt(tag='COMPILATION'):\n",
        "    learn(params, opt_state, step_rngs, env_obs, mean_loss)  # compiles\n",
        "\n",
        "  #First run, we calculate periods per second\n",
        "  with TimeIt(tag='EXECUTION', steps=num_steps):\n",
        "    params, opt_state, step_rngs, env_obs, mean_loss = learn(\n",
        "        params, opt_state, step_rngs, env_obs, mean_loss)\n",
        "\n",
        "  #Rest of the runs\n",
        "  for i in range(2,config[\"n_epochs\"]+1):\n",
        "    rng, step_rngs = jax.random.split(rng, cores_count * config[\"n_batches\"] + 1)\n",
        "    # step_rngs = reshape(jnp.stack(step_rngs))\n",
        "    params, opt_state, step_rngs, env_obs, mean_loss = learn(\n",
        "        params, opt_state, step_rngs, env_obs, mean_loss)\n",
        "\n",
        "    mean_losses.append(jnp.mean(mean_loss))\n",
        "    # mean_accuracy.append((1- jnp.mean(mean_abs_loss))*100)\n",
        "\n",
        "    print('Iteration:', i*config[\"epoch_iters\"],\n",
        "          \", Mean_loss:\", jnp.mean(mean_loss),\n",
        "          \", Learning rate:\", config[\"learning_rate\"](i*config[\"epoch_iters\"]),\n",
        "          # \", Mean accuracy (%):\", (1- jnp.mean(mean_abs_loss))*100\n",
        "          )\n",
        "\n",
        "    if i%config[\"reset_env_nepochs\"]==0:\n",
        "      env_obs = jnp.zeros_like(env_obs)\n",
        "      print(\"ENV RESET\")\n",
        "\n",
        "  # Print best result\n",
        "  # print(\"Maximum accuracy attained in training:\", max(mean_accuracy))\n",
        "\n",
        "  #Checkpoint\n",
        "  checkpoints.save_checkpoint(ckpt_dir=config['working_dir']+config['run_name'], target=params, step=config[\"n_epochs\"]*config[\"epoch_iters\"])\n",
        "\n",
        "  # Plots\n",
        "  plt.plot([i for i in range(len(mean_losses[100:]))], mean_losses[100:])\n",
        "  plt.xlabel('Steps')\n",
        "  plt.ylabel('Mean Losses')\n",
        "  plt.savefig(config['working_dir']+config['run_name']+'/mean_losses.jpg')\n",
        "  plt.close()\n",
        "\n",
        "\n",
        "  return params, optim, nn_policy, mean_losses, mean_accuracy"
      ],
      "metadata": {
        "id": "gOC1kNvM92Bk"
      },
      "execution_count": null,
      "outputs": []
    },
    {
      "cell_type": "code",
      "source": [
        "def get_epoch_learner_fn(\n",
        "    env, nn_forward, opt_update, batch_size, epoch_iters):\n",
        "  \"\"\"It runs and epoch with learing. This is what the compiler reads and parallelize (the minimal unit of computation).\"\"\"\n",
        "\n",
        "  def period_loss_fn(nn_params, loss_rng, env_obs):\n",
        "\n",
        "    # get rngs\n",
        "    loss_rng, mc_rng = random.split(loss_rng,2)\n",
        "\n",
        "    # Step the environemnt\n",
        "    period_shock = jax.random.multivariate_normal(loss_rng, jnp.zeros((env.n_sectors,)), env.Sigma_A/100)\n",
        "    policy = nn_forward(nn_params, env_obs)\n",
        "    obs_final = env.step(env_obs, policy, period_shock)  # apply period steps for each row shock in shocks.\n",
        "\n",
        "    # calculate exp\n",
        "    mc_shocks = jax.random.multivariate_normal(mc_rng, jnp.zeros((env.n_sectors,)), env.Sigma_A, shape=(200000,))\n",
        "    mc_nextobs = jax.vmap(env.step, in_axes=(None, None, 0))(env_obs, policy, mc_shocks)\n",
        "    del mc_shocks\n",
        "    mc_nextpols = nn_forward(nn_params,jnp.stack(mc_nextobs))\n",
        "    exp = jnp.mean(jax.vmap(env.exp_realization)(mc_nextobs, mc_nextpols))\n",
        "\n",
        "    loss = env.loss(env_obs, exp, policy)\n",
        "\n",
        "    return loss, (obs_final, jnp.array([loss]))\n",
        "\n",
        "  def update_fn(nn_params, opt_state, rng, env_obs, mean_loss):\n",
        "    \"\"\"Compute a gradient update from a single trajectory.\"\"\"\n",
        "    rng, loss_rng = random.split(rng,2)\n",
        "    grads, aux_info  = jax.grad(  # compute gradient on a single trajectory.\n",
        "        period_loss_fn, has_aux=True)(nn_params, loss_rng, env_obs)\n",
        "    new_env_obs, mean_loss = aux_info\n",
        "    # grads = lax.pmean(grads, axis_name='j')  # reduce mean (average grads) across cores.\n",
        "    # grads = lax.pmean(grads, axis_name='i')  # reduce mean (average grads) across batch.\n",
        "    updates, new_opt_state = opt_update(grads, opt_state)  # transform grads.\n",
        "    new_params = optax.apply_updates(nn_params, updates)  # update parameters.\n",
        "    return new_params, new_opt_state, rng, new_env_obs, mean_loss\n",
        "\n",
        "  # def learner_fn(params, opt_state, rngs, env_obs, mean_loss):\n",
        "  #   \"\"\"Vectorise and repeat the update.\"\"\"\n",
        "  #   batched_update_fn = jax.vmap(update_fn, axis_name='j')  # vectorize across batch.\n",
        "  #   def iterate_fn(_, val):  # repeat many times to avoid going back to Python.\n",
        "  #     params, opt_state, rngs, env_obs, mean_loss = val\n",
        "  #     return batched_update_fn(params, opt_state, rngs, env_obs, mean_loss)\n",
        "  #   return lax.fori_loop(0, epoch_iters, iterate_fn, (\n",
        "  #       params, opt_state, rngs, env_obs, mean_loss))\n",
        "\n",
        "  return update_fn"
      ],
      "metadata": {
        "id": "E5O7oVye_I7v"
      },
      "execution_count": null,
      "outputs": []
    },
    {
      "cell_type": "code",
      "source": [
        "def get_epoch_update_fn(env, config):\n",
        "  \"\"\"It runs and epoch with learning. This is what the compiler reads and parallelize.\"\"\"\n",
        "\n",
        "  def sample_epis_obs(train_state, epis_rng):\n",
        "    \"sample obs of an episode\"\n",
        "    env_obs = env.initial_obs(epis_rng)\n",
        "    epis_rng, *period_rngs = random.split(epis_rng, config[\"periods_per_epis\"]+1)\n",
        "    def period_step(env_obs, period_rng):\n",
        "      policy = train_state.apply_fn(train_state.params, env_obs)                 # calculate policy\n",
        "      period_shock = env.sample_shock(period_rng)         # Sample next obs\n",
        "      obs_next = env.step(env_obs, policy, period_shock)  # apply period steps.\n",
        "      return obs_next, obs_next # we pass it two times because of the syntax of the lax.scan loop\n",
        "    _, epis_obs = lax.scan(period_step, env_obs, jnp.stack(period_rngs)) # we get the obs_batch\n",
        "    return epis_obs\n",
        "\n",
        "  def epis_loss_fn(params, nn_policy, epis_rng, obs_batch):\n",
        "    \"\"\"Loss function of an episode, which has periods_per_epis time periods.\"\"\"\n",
        "    epis_rng, *period_mc_rngs = random.split(epis_rng, config[\"periods_per_epis\"]+1)\n",
        "    policies_batch = nn_policy(params, obs_batch) # get the policies for the entire obs batch.\n",
        "\n",
        "    def period_loss(obs, policy, period_mc_rng):\n",
        "      \"\"\"Loss function for an individual period.\"\"\"\n",
        "      mc_shocks = env.mc_shocks(period_mc_rng, config[\"mc_draws\"])\n",
        "      mc_nextobs = jax.vmap(env.step, in_axes = (None,None,0))(obs, policy, mc_shocks)\n",
        "      mc_nextpols = nn_policy(params, mc_nextobs)\n",
        "      expect = jnp.mean(jax.vmap(env.expect_realization)(mc_nextobs, mc_nextpols))\n",
        "      mean_loss, mean_accuracy, min_accuracy = env.loss(obs, expect, policy) # calculate loss\n",
        "      return mean_loss, mean_accuracy, min_accuracy\n",
        "\n",
        "    # parallelize callculation of period_loss for the entire batch\n",
        "    mean_losses, mean_accuracies, min_accuracies = jax.vmap(period_loss)(obs_batch, policies_batch, jnp.stack(period_mc_rngs))\n",
        "    mean_loss = jnp.mean(mean_losses)                   # average accross periods\n",
        "    mean_accuracy = jnp.mean(mean_accuracies)           # average accross periods\n",
        "    min_accuracy = jnp.min(min_accuracies)              # min accross periods and across eqs within period\n",
        "    metrics = jnp.array([mean_loss, mean_accuracy, min_accuracy]) # pass as auxiliary info\n",
        "    return mean_loss, metrics\n",
        "\n",
        "  def epis_update_fn(train_state, epis_rng):\n",
        "    \"\"\"Compute a gradient update from a single episode.\"\"\"\n",
        "    epis_obs = sample_epis_obs(train_state, epis_rng)\n",
        "    grads, epis_metrics  = jax.grad(  # compute gradient on a single trajectory.\n",
        "        epis_loss_fn, has_aux=True)(train_state.params, train_state.apply_fn, epis_rng, epis_obs)\n",
        "    train_state = train_state.apply_gradients(grads=grads)\n",
        "    return train_state, epis_metrics\n",
        "\n",
        "  # def batch_update_fn(train_state, batch_rng):\n",
        "  #   \"\"\"Compute a gradient update from a single episode.\"\"\"\n",
        "  #   batch_rng, *epis_rng = random.split(batch_rng, config[\"epis_per_step\"]+1)\n",
        "  #   batch_obs = jax.vmap(sample_epis_obs, in_axes = (None,0))(train_state, jnp.stack(epis_rng))\n",
        "  #   grads, epis_metrics  = jax.grad(  # compute gradient on a single trajectory.\n",
        "  #       epis_loss_fn, has_aux=True)(train_state.params, train_state.apply_fn, epis_rng, batch_obs)\n",
        "  #   train_state = train_state.apply_gradients(grads=grads)\n",
        "  #   return train_state, epis_metrics\n",
        "\n",
        "  def epoch_update_fn(train_state, epoch_rng):\n",
        "    \"\"\"Vectorise and repeat the update to complete an epoch, made aout of steps_per_epoch episodes.\"\"\"\n",
        "    epoch_rng, *epis_rngs = random.split(epoch_rng, config[\"steps_per_epoch\"]+1)\n",
        "    train_state, epoch_metrics = lax.scan(epis_update_fn, train_state, jnp.stack(epis_rngs))\n",
        "    return train_state, epoch_rng, epoch_metrics\n",
        "\n",
        "  return epoch_update_fn"
      ],
      "metadata": {
        "id": "2qH550PbOd3K"
      },
      "execution_count": null,
      "outputs": []
    },
    {
      "cell_type": "markdown",
      "metadata": {
        "id": "-FGm6vTqXqzz"
      },
      "source": [
        "Create Training function\n",
        "No we define a function specifying an entire epoch of learning. This is the minimal unti lfo computation that we wil compile and pass to all the devices (devices are sunchronized to average gradients)."
      ]
    },
    {
      "cell_type": "code",
      "source": [
        "def get_epoch_update_fn(env, config):\n",
        "  \"\"\"It runs and epoch with learning. This is what the compiler reads and parallelize.\"\"\"\n",
        "\n",
        "  def sample_epis_obs(train_state, epis_rng):\n",
        "    \"sample obs of an episode\"\n",
        "    env_obs = env.initial_obs(epis_rng)\n",
        "    epis_rng, *period_rngs = random.split(epis_rng, config[\"periods_per_epis\"]+1)\n",
        "    def period_step(env_obs, period_rng):\n",
        "      policy = train_state.apply_fn(train_state.params, env_obs)                 # calculate policy\n",
        "      period_shock = config[\"simul_vol_scale\"]*env.sample_shock(period_rng)         # Sample next obs\n",
        "      obs_next = env.step(env_obs, policy, period_shock)  # apply period steps.\n",
        "      return obs_next, obs_next # we pass it two times because of the syntax of the lax.scan loop\n",
        "    _, epis_obs = lax.scan(period_step, env_obs, jnp.stack(period_rngs)) # we get the obs_batch\n",
        "    return epis_obs\n",
        "\n",
        "  def epis_loss_fn(params, nn_policy, epis_rng, obs_batch):\n",
        "    \"\"\"Loss function of an episode, which has periods_per_epis time periods.\"\"\"\n",
        "    epis_rng, *period_mc_rngs = random.split(epis_rng, config[\"periods_per_epis\"]+1)\n",
        "    policies_batch = nn_policy(params, obs_batch) # get the policies for the entire obs batch.\n",
        "\n",
        "    def period_loss(obs, policy, period_mc_rng):\n",
        "      \"\"\"Loss function for an individual period.\"\"\"\n",
        "      mc_shocks = env.mc_shocks(period_mc_rng, config[\"mc_draws\"])\n",
        "      mc_nextobs = jax.vmap(env.step, in_axes = (None,None,0))(obs, policy, mc_shocks)\n",
        "      mc_nextpols = nn_policy(params, mc_nextobs)\n",
        "      expect = jnp.mean(jax.vmap(env.expect_realization)(mc_nextobs, mc_nextpols))\n",
        "      mean_loss, mean_accuracy, min_accuracy = env.loss(obs, expect, policy) # calculate loss\n",
        "      return mean_loss, mean_accuracy, min_accuracy\n",
        "\n",
        "    # parallelize callculation of period_loss for the entire batch\n",
        "    mean_losses, mean_accuracies, min_accuracies = jax.vmap(period_loss)(obs_batch, policies_batch, jnp.stack(period_mc_rngs))\n",
        "    mean_loss = jnp.mean(mean_losses)                   # average accross periods\n",
        "    mean_accuracy = jnp.mean(mean_accuracies)           # average accross periods\n",
        "    min_accuracy = jnp.min(min_accuracies)              # min accross periods and across eqs within period\n",
        "    metrics = jnp.array([mean_loss, mean_accuracy, min_accuracy]) # pass as auxiliary info\n",
        "    return mean_loss, metrics\n",
        "\n",
        "  def step_loss_fn(params, nn_policy, epis_rng, step_obs):\n",
        "    mean_losses, step_metrics = jax.vmap(epis_loss_fn,in_axes = (None,None,0,0))(\n",
        "        params, nn_policy, jnp.stack(epis_rng), step_obs)\n",
        "    mean_loss = jnp.mean(mean_losses)\n",
        "    step_metrics = jnp.mean(step_metrics,axis=0)\n",
        "    return mean_loss, step_metrics\n",
        "\n",
        "  def step_update_fn(train_state, step_rng):\n",
        "    \"\"\"Compute a gradient update from a single episode.\"\"\"\n",
        "    step_rng, *epis_rng = random.split(step_rng, config[\"epis_per_step\"]+1)\n",
        "    step_obs = jax.vmap(sample_epis_obs, in_axes = (None,0))(train_state, jnp.stack(epis_rng))\n",
        "    grads, step_metrics  = jax.grad(step_loss_fn, has_aux=True)(\n",
        "        train_state.params, train_state.apply_fn, epis_rng, step_obs)\n",
        "    train_state = train_state.apply_gradients(grads=grads)\n",
        "    return train_state, step_metrics\n",
        "\n",
        "  def epoch_update_fn(train_state, epoch_rng):\n",
        "    \"\"\"Vectorise and repeat the update to complete an epoch, made aout of steps_per_epoch episodes.\"\"\"\n",
        "    epoch_rng, *step_rngs = random.split(epoch_rng, config[\"steps_per_epoch\"]+1)\n",
        "    train_state, epoch_metrics = lax.scan(step_update_fn, train_state, jnp.stack(step_rngs))\n",
        "    return train_state, epoch_rng, epoch_metrics\n",
        "\n",
        "  return epoch_update_fn"
      ],
      "metadata": {
        "id": "D4dBSMYfc327"
      },
      "execution_count": null,
      "outputs": []
    }
  ],
  "metadata": {
    "colab": {
      "provenance": [],
      "collapsed_sections": [
        "Fz-RH8Wt23Rz",
        "cygQcsHYIiDN",
        "1pceB-eSEbcG",
        "JYEia3OD-Lij",
        "wEG-xLNZQJLY",
        "hIKEQKv2HtXS",
        "duUIS9EaCIZo",
        "AxcdZawR-2L0"
      ],
      "toc_visible": true,
      "gpuClass": "premium",
      "gpuType": "T4",
      "mount_file_id": "1QW4LOfJ21C_dgXh3C3UXHawi1YgzYTjE",
      "authorship_tag": "ABX9TyNVOai1xAMfDe2dAgo9kSsb",
      "include_colab_link": true
    },
    "kernelspec": {
      "display_name": "Python 3",
      "name": "python3"
    },
    "language_info": {
      "name": "python"
    },
    "accelerator": "GPU"
  },
  "nbformat": 4,
  "nbformat_minor": 0
}