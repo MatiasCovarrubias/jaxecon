{
  "cells": [
    {
      "cell_type": "markdown",
      "metadata": {
        "id": "view-in-github",
        "colab_type": "text"
      },
      "source": [
        "<a href=\"https://colab.research.google.com/github/MatiasCovarrubias/jaxecon/blob/main/jaxDEQN.ipynb\" target=\"_parent\"><img src=\"https://colab.research.google.com/assets/colab-badge.svg\" alt=\"Open In Colab\"/></a>"
      ]
    },
    {
      "cell_type": "markdown",
      "metadata": {
        "id": "zmNe6o_4tTEy"
      },
      "source": [
        "# DEQN Solver in Jax.\n",
        "\n",
        "This notebook trains a neural net to output the optimal policy of a nonlinear Rbc model. This a single code implementation. For a more robust and modular implemenation, go to https://github.com/MatiasCovarrubias/jaxecon/tree/main/DEQN\n",
        "\n"
      ]
    },
    {
      "cell_type": "code",
      "execution_count": 1,
      "metadata": {
        "colab": {
          "base_uri": "https://localhost:8080/"
        },
        "id": "Ue0dX6Q14A1Q",
        "outputId": "3508b0a5-e5e4-4426-8993-ae5dbc669cc6"
      },
      "outputs": [
        {
          "output_type": "stream",
          "name": "stdout",
          "text": [
            "/bin/bash: line 1: nvidia-smi: command not found\n",
            "[CpuDevice(id=0)]\n",
            "Mounted at /content/drive\n"
          ]
        }
      ],
      "source": [
        "GPU = True # set True if using GPU (only to see GPU)\n",
        "if GPU:\n",
        "  !nvidia-smi\n",
        "\n",
        "# Imports\n",
        "import matplotlib.pyplot as plt, jax, flax, optax, os, json\n",
        "from jax import numpy as jnp, lax, random, config as jax_config\n",
        "jax_config.update(\"jax_debug_nans\", True)\n",
        "import flax.linen as nn\n",
        "from flax.training.train_state import TrainState  # Useful dataclass to keep train state\n",
        "from flax.training import checkpoints\n",
        "from flax.core import freeze, unfreeze\n",
        "import optax\n",
        "from time import time\n",
        "from typing import Sequence\n",
        "\n",
        "\n",
        "print(jax.devices())\n",
        "\n",
        "# Mount Google Drive to store results (a pop up will appear, follow instructions)\n",
        "from google.colab import drive\n",
        "drive.mount('/content/drive')\n"
      ]
    },
    {
      "cell_type": "markdown",
      "metadata": {
        "id": "rIQLSPJLvaPE"
      },
      "source": [
        "## 0. Create Neural Net Policy\n",
        "\n",
        "First, we use Flax to create the Neural Net, Notice that we activate the last layer using Softplus to guarantee that we get possitive outputs.\n",
        "\n",
        "See https://flax.readthedocs.io/en/latest/getting_started.html"
      ]
    },
    {
      "cell_type": "code",
      "execution_count": 2,
      "metadata": {
        "id": "NVGY1ZCnvtXh"
      },
      "outputs": [],
      "source": [
        "class NeuralNet(nn.Module):\n",
        "  features: Sequence[int]\n",
        "\n",
        "  @nn.compact\n",
        "  def __call__(self, x):\n",
        "    for feat in self.features[:-1]:\n",
        "      x = nn.relu(nn.Dense(feat)(x))\n",
        "    x = nn.softplus(nn.Dense(self.features[-1])(x))\n",
        "    return x"
      ]
    },
    {
      "cell_type": "markdown",
      "metadata": {
        "id": "7LXEca1NwAiC"
      },
      "source": [
        "## 1. Create Economic Model\n",
        "\n",
        "We will represent our model as a class with four main methods (or functions): initial_obs to get first observation; step to advance a period, expectation to get the expectation term given a state, policy, and shock; and a loss funciton that gets as the loss given a state, policy and expectation term."
      ]
    },
    {
      "cell_type": "code",
      "source": [
        "class Model():\n",
        "  \"\"\"A JAX implementation of an RBC model.\"\"\"\n",
        "\n",
        "  def __init__(self):\n",
        "    # set parameters\n",
        "    self.beta = 0.985\n",
        "    self.alpha = 0.3\n",
        "    self.delta = 0.03\n",
        "    self.rho = .9\n",
        "    self.shock_sd = 0.01\n",
        "\n",
        "    # set steady state and standard deviations for normalization\n",
        "    self.k_ss = jnp.log((self.alpha/(1/self.beta-1+self.delta))**(1/(1-self.alpha)))\n",
        "    self.a_ss = 0\n",
        "    self.obs_ss = jnp.array([self.k_ss,self.a_ss])\n",
        "    self.obs_sd = jnp.array([1,1])    # use 1 if you don't have an estimate\n",
        "    self.policy_ss = jnp.log(self.delta*jnp.exp(self.k_ss))\n",
        "\n",
        "    # number of policies\n",
        "    self.n_actions = 1\n",
        "\n",
        "  def initial_obs(self, rng):\n",
        "    \"\"\" Get initial obs given first shock \"\"\"\n",
        "    rng_k, rng_a = random.split(rng,2)\n",
        "    K = random.uniform(\n",
        "        rng_k, minval=0.9*jnp.exp(self.k_ss), maxval=1.1*jnp.exp(self.k_ss)\n",
        "        )                       # get uniform draw around the steady state\n",
        "    A = random.uniform(\n",
        "        rng_a, minval=0.9*jnp.exp(self.a_ss), maxval=1.1*jnp.exp(self.a_ss)\n",
        "        )                       # get uniform draw around the steady state\n",
        "\n",
        "    obs_init_notnorm = jnp.array([jnp.log(K),jnp.log(A)])\n",
        "    obs_init = (obs_init_notnorm-self.obs_ss)/self.obs_sd # normalize\n",
        "    return obs_init\n",
        "\n",
        "  def step(self, obs, policy, shock):\n",
        "    \"\"\" A period step of the model, given current obs, the shock and policy \"\"\"\n",
        "\n",
        "    obs_notnorm = obs*self.obs_sd + self.obs_ss                 # denormalize\n",
        "    K = jnp.exp(obs_notnorm[0])                                 # Kt in levels\n",
        "    a = obs_notnorm[1]                                          # a_{t}\n",
        "    a_tplus1 = self.rho * a + self.shock_sd*shock[0]            # recover a_{t+1}\n",
        "    policy_notnorm = policy*jnp.exp(self.policy_ss)             # multiply by stst pols in level\n",
        "    K_tplus1 = (1-self.delta)*K + policy_notnorm[0]             #get K_{t+1}\n",
        "    obs_next_notnorm = jnp.array([jnp.log(K_tplus1),a_tplus1])  #concatenate observation\n",
        "    obs_next = (obs_next_notnorm-self.obs_ss)/self.obs_sd       # normalize\n",
        "\n",
        "    return obs_next\n",
        "\n",
        "\n",
        "  def expect_realization(self, obs_next, policy_next):\n",
        "    \"\"\" A realization (given a shock) of the expectation terms in system of equation \"\"\"\n",
        "\n",
        "    policy_notnorm = policy_next*jnp.exp(self.policy_ss) # multiply by stst pols in levels\n",
        "    I = policy_notnorm[0]                                # define investment\n",
        "\n",
        "    # Process observation\n",
        "    obs_notnorm = obs_next*self.obs_sd + self.obs_ss     # denormalize obs\n",
        "    K = jnp.exp(obs_notnorm[0])                          # K_{t+1} in levels\n",
        "    a = obs_notnorm[1]                                   # a_{t}\n",
        "\n",
        "    # Rest of variables\n",
        "    A = jnp.exp(a)\n",
        "    Y = A * K**self.alpha\n",
        "    C = Y-I\n",
        "\n",
        "    # Calculate the FOC for Pk\n",
        "    expect_realization = (1/C) * (1+ A * self.alpha * K**(self.alpha-1)-self.delta)\n",
        "\n",
        "    return jax.lax.stop_gradient(expect_realization)\n",
        "\n",
        "  def loss(self, obs, expect, policy):\n",
        "    \"\"\" Calculate loss associated with observing obs, having policy_params, and expectation exp \"\"\"\n",
        "\n",
        "    policy_notnorm = policy*jnp.exp(self.policy_ss)\n",
        "    I = policy_notnorm[0]\n",
        "\n",
        "    # Process observation\n",
        "    obs_notnorm = obs*self.obs_sd + self.obs_ss        # denormalize\n",
        "    K = jnp.exp(obs_notnorm[0])                        # put in levels\n",
        "    a = obs_notnorm[1]\n",
        "\n",
        "    # Rest of variables\n",
        "    A = jnp.exp(a)\n",
        "    Y = A * K**self.alpha\n",
        "    C = Y-I\n",
        "\n",
        "    # Calculate the FOC for Pk\n",
        "    FOC_loss = (1/C)/(self.beta*expect) - 1\n",
        "    mean_loss = jnp.mean(jnp.array([FOC_loss**2])) # here there is just one, but more gemore generally.\n",
        "    mean_accuracy = jnp.mean(jnp.array([1-jnp.abs(FOC_loss)]))\n",
        "    min_accuracy = jnp.min(jnp.array([1-jnp.abs(FOC_loss)]))\n",
        "    return mean_loss, mean_accuracy, min_accuracy\n",
        "\n",
        "  def sample_shock(self, rng, n_draws=1):\n",
        "    \"\"\" sample one realization of the shock.\n",
        "    Uncomment second line for continuous shocks instead of grid \"\"\"\n",
        "    # return random.choice(rng, jnp.array([-1.2816,-0.6745,0,0.6745, 1.2816]))\n",
        "    return random.normal(rng, shape=(n_draws,))\n",
        "\n",
        "  def mc_shocks(self, rng=random.PRNGKey(0), mc_draws=8):\n",
        "    \"\"\" sample omc_draws realizations of the shock (for monte-carlo)\n",
        "    Uncomment second line for continuous shocks instead of grid \"\"\"\n",
        "    # return  jnp.array([-1.2816,-0.6745,0,0.6745, 1.2816])\n",
        "    return random.normal(rng, shape=(mc_draws,1))\n",
        "\n",
        "  def ir_shocks(self):\n",
        "    \"\"\" (Optional) Define a set of shocks sequences that are of interest\"\"\"\n",
        "    # ir_shock_1 = jnp.array([-1]+[0 for i in range(40)])\n",
        "    # ir_shock_2 = jnp.array([1]+[0 for i in range(40)])\n",
        "    ir_shock_1 = jnp.zeros(shape=(40,1)).at[0,:].set(-1)\n",
        "    ir_shock_2 = jnp.zeros(shape=(40,1)).at[0,:].set(1)\n",
        "\n",
        "    return jnp.array([ir_shock_1, ir_shock_2])"
      ],
      "metadata": {
        "id": "9ueaQPW4GbcR"
      },
      "execution_count": 3,
      "outputs": []
    },
    {
      "cell_type": "markdown",
      "source": [
        "### Test the environment\n",
        "We are going to make sure that the functions in our model are correct"
      ],
      "metadata": {
        "id": "Fz-RH8Wt23Rz"
      }
    },
    {
      "cell_type": "code",
      "source": [
        "env = Model()\n",
        "rng_test = random.PRNGKey(2)\n",
        "\n",
        "# test steady state policies with random params\n",
        "obs_ss = jnp.zeros_like(env.obs_ss)\n",
        "nn_test = NeuralNet([2,2] + [env.n_actions])\n",
        "nn_policy_test = nn_test.apply\n",
        "params_test = nn_test.init(rng_test, obs_ss) # we initialize random params\n",
        "policy_ss = nn_policy_test(params_test,obs_ss)\n",
        "print(\"policy in steady state\", policy_ss)\n",
        "\n",
        "# intialize env\n",
        "obs_init = env.initial_obs(rng_test)\n",
        "print(\"initial obs\", obs_init)\n",
        "\n",
        "# apply a step\n",
        "policy_firststep = nn_policy_test(params_test,obs_init)\n",
        "print(\"policy in first step\", policy_firststep)\n",
        "shock_firststep = env.sample_shock(rng_test)\n",
        "next_obs_firststep = env.step(obs_init, policy_firststep, shock_firststep)\n",
        "print(\"next obs first step\", next_obs_firststep)\n",
        "\n",
        "# calculate loss in first step.\n",
        "\n",
        "#First, we calculate expectations\n",
        "mc_shocks = env.mc_shocks(rng_test)\n",
        "mc_nextobs = jax.vmap(env.step, in_axes = (None,None,0))(obs_init, policy_firststep, mc_shocks) # next obs given policy and for each shock in mc_shocks\n",
        "\n",
        "mc_nextpols = nn_policy_test(params_test, mc_nextobs)\n",
        "expect_firststep = jnp.mean(jax.vmap(env.expect_realization)(mc_nextobs, mc_nextpols))\n",
        "\n",
        "# Second, we calculate loss given expectations and policy\n",
        "mean_loss, mean_accuracy, min_accuracy = env.loss(obs_init, expect_firststep, policy_firststep)\n",
        "print(\"test epoch: \\n\",\n",
        "      \", Mean_loss:\", mean_loss,\n",
        "      \", Mean_accuracy:\", mean_accuracy,\n",
        "      \", Min_accuracy:\", min_accuracy)\n",
        "\n",
        "# calculate loss with policy = 1\n",
        "policy_ones = jnp.ones_like(policy_firststep)\n",
        "mc_nextobs = jax.vmap(env.step, in_axes = (None,None,0))(obs_ss, policy_ones, jnp.zeros_like(mc_shocks)) # next obs given policy and for each shock in mc_shocks\n",
        "print(\"next obs for montecarlo with policies =1 (should be an array with multiple obs =0)\", mc_nextobs)\n",
        "mc_nextpols = jnp.ones_like(mc_nextpols)\n",
        "expect = jnp.mean(jax.vmap(env.expect_realization)(mc_nextobs, mc_nextpols))\n",
        "print(\"expectation\", expect)\n",
        "mean_loss, mean_accuracy, min_accuracy = env.loss(obs_ss, expect, policy_ones)\n",
        "print(\"test that StSt. policies give 0 loss in StSt. obs: \\n\",\n",
        "      \", Mean_loss:\", mean_loss,\n",
        "      \", Mean_accuracy:\", mean_accuracy,\n",
        "      \", Min_accuracy:\", min_accuracy)\n"
      ],
      "metadata": {
        "colab": {
          "base_uri": "https://localhost:8080/"
        },
        "id": "-g60VDRJ-Zx_",
        "outputId": "f9493aae-6d6b-439f-d8f5-dcde07732403"
      },
      "execution_count": null,
      "outputs": [
        {
          "output_type": "stream",
          "name": "stdout",
          "text": [
            "policy in steady state [0.6931472]\n",
            "initial obs [ 0.03087664 -0.01336387]\n",
            "policy in first step [0.6912521]\n",
            "next obs first step [ 0.02093434 -0.01394364]\n",
            "test epoch: \n",
            " , Mean_loss: 4.9927676e-05 , Mean_accuracy: 0.99293405 , Min_accuracy: 0.99293405\n",
            "next obs for montecarlo with policies =1 (should be an array with multiple obs =0) [[0. 0.]\n",
            " [0. 0.]\n",
            " [0. 0.]\n",
            " [0. 0.]\n",
            " [0. 0.]\n",
            " [0. 0.]\n",
            " [0. 0.]\n",
            " [0. 0.]]\n",
            "expectation 0.563332\n",
            "test that StSt. policies give 0 loss in StSt. obs: \n",
            " , Mean_loss: 1.4210855e-14 , Mean_accuracy: 0.9999999 , Min_accuracy: 0.9999999\n"
          ]
        }
      ]
    },
    {
      "cell_type": "markdown",
      "metadata": {
        "id": "-FGm6vTqXqzz"
      },
      "source": [
        "## 2. Create Training function\n",
        "No we define a function specifying an entire epoch of learning. This is the minimal unti lfo computation that we wil compile and pass to all the devices (devices are sinchronized to average gradients)."
      ]
    },
    {
      "cell_type": "code",
      "source": [
        "def get_epoch_update_fn(env, config):\n",
        "  \"\"\"It runs and epoch with learning. This is what the compiler reads and parallelize.\"\"\"\n",
        "\n",
        "  def sample_epis_obs(train_state, epis_rng):\n",
        "    \"sample obs of an episode\"\n",
        "    env_obs = env.initial_obs(epis_rng)\n",
        "    epis_rng, *period_rngs = random.split(epis_rng, config[\"periods_per_epis\"]+1)\n",
        "    def period_step(env_obs, period_rng):\n",
        "      policy = train_state.apply_fn(train_state.params, env_obs)                 # calculate policy\n",
        "      period_shock = config[\"simul_vol_scale\"]*env.sample_shock(period_rng)         # Sample next obs\n",
        "      obs_next = env.step(env_obs, policy, period_shock)  # apply period steps.\n",
        "      return obs_next, obs_next # we pass it two times because of the syntax of the lax.scan loop\n",
        "    _, epis_obs = lax.scan(period_step, env_obs, jnp.stack(period_rngs)) # we get the obs_batch\n",
        "    return epis_obs\n",
        "\n",
        "  def epis_loss_fn(params, nn_policy, epis_rng, obs_batch):\n",
        "    \"\"\"Loss function of an episode, which has periods_per_epis time periods.\"\"\"\n",
        "    epis_rng, *period_mc_rngs = random.split(epis_rng, config[\"periods_per_epis\"]+1)\n",
        "    policies_batch = nn_policy(params, obs_batch) # get the policies for the entire obs batch.\n",
        "\n",
        "    def period_loss(obs, policy, period_mc_rng):\n",
        "      \"\"\"Loss function for an individual period.\"\"\"\n",
        "      mc_shocks = env.mc_shocks(period_mc_rng, config[\"mc_draws\"])\n",
        "      mc_nextobs = jax.vmap(env.step, in_axes = (None,None,0))(obs, policy, mc_shocks)\n",
        "      mc_nextpols = nn_policy(params, mc_nextobs)\n",
        "      expect = jnp.mean(jax.vmap(env.expect_realization)(mc_nextobs, mc_nextpols))\n",
        "      mean_loss, mean_accuracy, min_accuracy = env.loss(obs, expect, policy) # calculate loss\n",
        "      return mean_loss, mean_accuracy, min_accuracy\n",
        "\n",
        "    # parallelize calculation of period_loss for the entire batch\n",
        "    mean_losses, mean_accuracies, min_accuracies = jax.vmap(period_loss)(obs_batch, policies_batch, jnp.stack(period_mc_rngs))\n",
        "    mean_loss = jnp.mean(mean_losses)                   # average accross periods\n",
        "    mean_accuracy = jnp.mean(mean_accuracies)           # average accross periods\n",
        "    min_accuracy = jnp.min(min_accuracies)              # min accross periods and across eqs within period\n",
        "    metrics = jnp.array([mean_loss, mean_accuracy, min_accuracy]) # pass as auxiliary info\n",
        "    return mean_loss, metrics\n",
        "\n",
        "  def step_loss_fn(params, nn_policy, epis_rng, step_obs):\n",
        "    mean_losses, step_metrics = jax.vmap(epis_loss_fn,in_axes = (None,None,0,0))(\n",
        "        params, nn_policy, jnp.stack(epis_rng), step_obs)\n",
        "    mean_loss = jnp.mean(mean_losses)\n",
        "    step_metrics = jnp.mean(step_metrics,axis=0)\n",
        "    return mean_loss, step_metrics\n",
        "\n",
        "  def step_update_fn(train_state, step_rng):\n",
        "    \"\"\"Compute a gradient update from a single episode.\"\"\"\n",
        "    step_rng, *epis_rng = random.split(step_rng, config[\"epis_per_step\"]+1)\n",
        "    step_obs = jax.vmap(sample_epis_obs, in_axes = (None,0))(train_state, jnp.stack(epis_rng))\n",
        "    grads, step_metrics  = jax.grad(step_loss_fn, has_aux=True)(\n",
        "        train_state.params, train_state.apply_fn, epis_rng, step_obs)\n",
        "    train_state = train_state.apply_gradients(grads=grads)\n",
        "    return train_state, step_metrics\n",
        "\n",
        "  def epoch_update_fn(train_state, epoch_rng):\n",
        "    \"\"\"Vectorise and repeat the update to complete an epoch, made out of steps_per_epoch episodes.\"\"\"\n",
        "    epoch_rng, *step_rngs = random.split(epoch_rng, config[\"steps_per_epoch\"]+1)\n",
        "    train_state, epoch_metrics = lax.scan(step_update_fn, train_state, jnp.stack(step_rngs))\n",
        "    return train_state, epoch_rng, epoch_metrics\n",
        "\n",
        "  return epoch_update_fn"
      ],
      "metadata": {
        "id": "D4dBSMYfc327"
      },
      "execution_count": 4,
      "outputs": []
    },
    {
      "cell_type": "markdown",
      "source": [
        "### Test the update function\n",
        "\n",
        "We can run one epoch and see the results. Play with the parameters of the epoch to evaluate how good is the starting point. You can also add prints inside the update function to check internal values. An important check is to print the grads inside the epis_update_fn and make sure they are not zero for an entire layer. This is especially relevant when using pre-trained models."
      ],
      "metadata": {
        "id": "JYEia3OD-Lij"
      }
    },
    {
      "cell_type": "code",
      "source": [
        "# CREATE MODEL AND GET UPDATE FUNCTION\n",
        "config_test = {\n",
        "    \"periods_per_epis\": 16,      # periods per episode\n",
        "    \"epis_per_step\": 4,          # epoch per steps\n",
        "    \"steps_per_epoch\": 100,      # steps per epoch\n",
        "    \"n_epochs\": 1,               # number of epochs\n",
        "    \"mc_draws\": 32,              # only applies if shock is continuous\n",
        "    \"simul_vol_scale\": 1.5,      # scale of volatility while simul\n",
        "}\n",
        "\n",
        "env_test = Model()\n",
        "epoch_update_test = get_epoch_update_fn(env_test, config_test)\n",
        "\n",
        "#CREATE TRAIN_STATE AND RNG\n",
        "nn_test = NeuralNet([2,2] + [env_test.n_actions])\n",
        "rng_test = random.PRNGKey(1)\n",
        "train_state_test = TrainState.create(apply_fn=nn_test.apply, params=nn_test.init(rng_test, env_test.initial_obs(rng_test)), tx=optax.adam(0.05))\n",
        "\n",
        "# RUN UPDATE FUNCTION\n",
        "new_train_state, new_rng_test, metrics_test = epoch_update_test(train_state_test, rng_test)\n",
        "print(\"test epoch: \\n\",\n",
        "      \"Mean_loss:\", metrics_test[:,0], \"\\n\",\n",
        "      \"Mean_accuracy:\", metrics_test[:,1], \"\\n\",\n",
        "      \"Min_accuracy:\", metrics_test[:,2],)\n"
      ],
      "metadata": {
        "colab": {
          "base_uri": "https://localhost:8080/"
        },
        "id": "hicUBLteIjCP",
        "outputId": "c0e7b8fe-cb5f-42f0-9d65-2dc6a0c9d106"
      },
      "execution_count": null,
      "outputs": [
        {
          "output_type": "stream",
          "name": "stdout",
          "text": [
            "test epoch: \n",
            " Mean_loss: [1.52172186e-04 5.46795054e-05 4.95281092e-05 2.28700483e-05\n",
            " 8.22657166e-05 4.06773761e-05 8.45190953e-05 7.63606804e-05\n",
            " 5.12300103e-05 9.08388029e-05 4.62097087e-05 7.78444883e-05\n",
            " 5.92431279e-05 6.88237706e-05 3.91675785e-05 2.86410577e-05\n",
            " 4.69407460e-05 5.63513131e-05 4.90620405e-05 6.30773793e-05\n",
            " 3.76253192e-05 7.70917759e-05 1.01072284e-04 1.59696265e-05\n",
            " 3.01137516e-05 7.12421897e-05 3.05538560e-05 6.02270666e-05\n",
            " 3.61642560e-05 3.09724346e-05 7.25238060e-05 2.46877571e-05\n",
            " 3.00298798e-05 7.98231704e-05 5.15359352e-05 6.74681069e-05\n",
            " 4.56958696e-05 1.17251395e-04 4.67855316e-05 5.00945171e-05\n",
            " 9.08610818e-05 6.98063450e-05 7.55568472e-05 6.64680992e-05\n",
            " 3.54782351e-05 7.56452937e-05 5.39993271e-05 4.20127981e-05\n",
            " 5.87231189e-05 5.25197684e-05 5.09004894e-05 7.36846778e-05\n",
            " 2.77534837e-05 3.82455946e-05 5.42830312e-05 3.96968244e-05\n",
            " 3.95177849e-05 4.50413863e-05 2.60469424e-05 9.60033358e-05\n",
            " 3.85839739e-05 6.02689543e-05 3.76908793e-05 7.68312748e-05\n",
            " 2.88342781e-05 5.30512043e-05 5.44618597e-05 2.99060212e-05\n",
            " 8.49080898e-05 1.15476054e-04 9.73524147e-05 5.21199217e-05\n",
            " 6.92465546e-05 7.70396873e-05 3.89671513e-05 6.36624609e-05\n",
            " 6.74125185e-05 3.86348584e-05 3.44387809e-05 5.17163644e-05\n",
            " 6.61470112e-05 6.07110051e-05 5.81201748e-05 3.44697110e-05\n",
            " 4.55921727e-05 5.77115570e-05 5.05715507e-05 6.66026026e-05\n",
            " 5.51690973e-05 2.61145542e-05 5.42118214e-05 1.11084391e-05\n",
            " 6.67834247e-05 5.52498459e-05 2.79175201e-05 4.34247922e-05\n",
            " 6.83847175e-05 4.57618080e-05 2.99652856e-05 3.17446611e-05] \n",
            " Mean_accuracy: [0.9885808  0.9938255  0.9940159  0.99654126 0.9924158  0.9953159\n",
            " 0.9919468  0.99285585 0.99461806 0.99174076 0.9942662  0.9923769\n",
            " 0.99329174 0.9932177  0.994601   0.9958938  0.99398255 0.99425316\n",
            " 0.9941423  0.9934789  0.99491394 0.99258417 0.9916456  0.99692464\n",
            " 0.99533534 0.9927022  0.9955164  0.99374926 0.99530464 0.9954586\n",
            " 0.9924051  0.99607325 0.9956203  0.99193096 0.99399215 0.9930622\n",
            " 0.9943784  0.9906039  0.9944945  0.99434006 0.9925736  0.99289453\n",
            " 0.9927993  0.9931458  0.9954261  0.99281645 0.9939278  0.9944414\n",
            " 0.9932991  0.9939391  0.99432313 0.99242306 0.9958217  0.9945843\n",
            " 0.9939793  0.9947748  0.9947162  0.99463254 0.99587816 0.9914067\n",
            " 0.9948404  0.9934015  0.9950936  0.99271905 0.9955969  0.99420106\n",
            " 0.9939484  0.99568653 0.99256945 0.9908384  0.9920225  0.99432564\n",
            " 0.9929964  0.9924867  0.99470466 0.99322677 0.993059   0.99495804\n",
            " 0.9950484  0.9938402  0.9930862  0.99341524 0.99357235 0.9950409\n",
            " 0.9944822  0.9935355  0.99412113 0.9933317  0.9934231  0.99580175\n",
            " 0.99397326 0.9975456  0.99308383 0.99378806 0.99625766 0.99457824\n",
            " 0.9929782  0.99439394 0.9959452  0.99537253] \n",
            " Min_accuracy: [0.9813795  0.98806185 0.9876678  0.9897309  0.98507714 0.989718\n",
            " 0.9850726  0.9856241  0.9865434  0.98326397 0.98830235 0.98515683\n",
            " 0.98807406 0.9867921  0.98838264 0.9902886  0.98862433 0.9865378\n",
            " 0.9881338  0.9865432  0.9892689  0.98724866 0.9858507  0.9907149\n",
            " 0.9905921  0.98626006 0.98997116 0.9852164  0.9880854  0.9900409\n",
            " 0.98691    0.99113864 0.9881049  0.9856895  0.9872706  0.98495686\n",
            " 0.9883774  0.9839605  0.98835754 0.9858098  0.98577    0.98555946\n",
            " 0.98614895 0.9866235  0.9886542  0.9864375  0.9886612  0.988394\n",
            " 0.98772645 0.9883337  0.9869361  0.9847875  0.98923844 0.9891835\n",
            " 0.98902303 0.9875932  0.98792785 0.98788714 0.9906575  0.9850162\n",
            " 0.9885221  0.9863993  0.9878048  0.9855528  0.99010366 0.986639\n",
            " 0.9866371  0.9903644  0.98482466 0.9833726  0.98353744 0.98684764\n",
            " 0.98561937 0.98592186 0.9893248  0.98830205 0.9858755  0.9882492\n",
            " 0.9885347  0.98830354 0.98695534 0.9867717  0.98775387 0.98919064\n",
            " 0.98741335 0.98718876 0.9868198  0.98684216 0.9869136  0.99049664\n",
            " 0.9871941  0.99264956 0.98581177 0.98750347 0.989567   0.9883493\n",
            " 0.9873575  0.9880023  0.9891718  0.989785  ]\n"
          ]
        }
      ]
    },
    {
      "cell_type": "markdown",
      "metadata": {
        "id": "PlXarixBjTC2"
      },
      "source": [
        "## 4. Configure experiment"
      ]
    },
    {
      "cell_type": "code",
      "execution_count": 5,
      "metadata": {
        "id": "3zWgbr0HjQua",
        "colab": {
          "base_uri": "https://localhost:8080/",
          "height": 1000
        },
        "outputId": "a76a7931-1b4f-4ac7-959f-01612a272179"
      },
      "outputs": [
        {
          "output_type": "stream",
          "name": "stdout",
          "text": [
            "Number of parameters:\n",
            "\n",
            "\u001b[3m                           NeuralNet Summary                            \u001b[0m\n",
            "┏━━━━━━━━━┳━━━━━━━━━━━┳━━━━━━━━━━━━┳━━━━━━━━━━━━┳━━━━━━━━━━━━━━━━━━━━━━┓\n",
            "┃\u001b[1m \u001b[0m\u001b[1mpath   \u001b[0m\u001b[1m \u001b[0m┃\u001b[1m \u001b[0m\u001b[1mmodule   \u001b[0m\u001b[1m \u001b[0m┃\u001b[1m \u001b[0m\u001b[1minputs    \u001b[0m\u001b[1m \u001b[0m┃\u001b[1m \u001b[0m\u001b[1moutputs   \u001b[0m\u001b[1m \u001b[0m┃\u001b[1m \u001b[0m\u001b[1mparams              \u001b[0m\u001b[1m \u001b[0m┃\n",
            "┡━━━━━━━━━╇━━━━━━━━━━━╇━━━━━━━━━━━━╇━━━━━━━━━━━━╇━━━━━━━━━━━━━━━━━━━━━━┩\n",
            "│         │ NeuralNet │ \u001b[2mfloat32\u001b[0m[2] │ \u001b[2mfloat32\u001b[0m[1] │                      │\n",
            "├─────────┼───────────┼────────────┼────────────┼──────────────────────┤\n",
            "│ Dense_0 │ Dense     │ \u001b[2mfloat32\u001b[0m[2] │ \u001b[2mfloat32\u001b[0m[2] │ bias: \u001b[2mfloat32\u001b[0m[2]     │\n",
            "│         │           │            │            │ kernel: \u001b[2mfloat32\u001b[0m[2,2] │\n",
            "│         │           │            │            │                      │\n",
            "│         │           │            │            │ \u001b[1m6 \u001b[0m\u001b[1;2m(24 B)\u001b[0m             │\n",
            "├─────────┼───────────┼────────────┼────────────┼──────────────────────┤\n",
            "│ Dense_1 │ Dense     │ \u001b[2mfloat32\u001b[0m[2] │ \u001b[2mfloat32\u001b[0m[2] │ bias: \u001b[2mfloat32\u001b[0m[2]     │\n",
            "│         │           │            │            │ kernel: \u001b[2mfloat32\u001b[0m[2,2] │\n",
            "│         │           │            │            │                      │\n",
            "│         │           │            │            │ \u001b[1m6 \u001b[0m\u001b[1;2m(24 B)\u001b[0m             │\n",
            "├─────────┼───────────┼────────────┼────────────┼──────────────────────┤\n",
            "│ Dense_2 │ Dense     │ \u001b[2mfloat32\u001b[0m[2] │ \u001b[2mfloat32\u001b[0m[1] │ bias: \u001b[2mfloat32\u001b[0m[1]     │\n",
            "│         │           │            │            │ kernel: \u001b[2mfloat32\u001b[0m[2,1] │\n",
            "│         │           │            │            │                      │\n",
            "│         │           │            │            │ \u001b[1m3 \u001b[0m\u001b[1;2m(12 B)\u001b[0m             │\n",
            "├─────────┼───────────┼────────────┼────────────┼──────────────────────┤\n",
            "│\u001b[1m \u001b[0m\u001b[1m       \u001b[0m\u001b[1m \u001b[0m│\u001b[1m \u001b[0m\u001b[1m         \u001b[0m\u001b[1m \u001b[0m│\u001b[1m \u001b[0m\u001b[1m          \u001b[0m\u001b[1m \u001b[0m│\u001b[1m \u001b[0m\u001b[1m     Total\u001b[0m\u001b[1m \u001b[0m│\u001b[1m \u001b[0m\u001b[1m15 \u001b[0m\u001b[1;2m(60 B)\u001b[0m\u001b[1m           \u001b[0m\u001b[1m \u001b[0m│\n",
            "└─────────┴───────────┴────────────┴────────────┴──────────────────────┘\n",
            "\u001b[1m                                                                        \u001b[0m\n",
            "\u001b[1m                      Total Parameters: 15 \u001b[0m\u001b[1;2m(60 B)\u001b[0m\u001b[1m                       \u001b[0m\n",
            "\n",
            "\n",
            "Number of steps (NN updates): \n",
            " 1000 episodes \n",
            "\n",
            "Learning rate schedule:\n"
          ]
        },
        {
          "output_type": "execute_result",
          "data": {
            "text/plain": [
              "Text(0, 0.5, 'Learning Rate')"
            ]
          },
          "metadata": {},
          "execution_count": 5
        },
        {
          "output_type": "display_data",
          "data": {
            "text/plain": [
              "<Figure size 640x480 with 1 Axes>"
            ],
            "image/png": "[encoded data removed]"
          },
          "metadata": {}
        }
      ],
      "source": [
        "'''Config dictionary'''\n",
        "\n",
        "# CREATE LEARNING RATE SCHEDULE (https://github.com/google-deepmind/optax/blob/master/optax/_src/schedule.py)\n",
        "lr_schedule = optax.join_schedules(\n",
        "      schedules= [optax.constant_schedule(0.05),\n",
        "                  optax.constant_schedule(0.005),\n",
        "                  optax.constant_schedule(0.0005)],\n",
        "      boundaries=[500,750] # the number of episodes at which to switch\n",
        "\n",
        "      )\n",
        "\n",
        "# CREATE CONFIG DICT\n",
        "config = {\n",
        "    \"periods_per_epis\": 128,      # periods per episode\n",
        "    \"epis_per_step\": 4,           # epoch per steps\n",
        "    \"steps_per_epoch\": 100,       # steps per epoch\n",
        "    \"n_epochs\": 10,               # number of epochs\n",
        "    \"mc_draws\": 32,               # only applies if shock is continuous\n",
        "    \"simul_vol_scale\": 1.5,       # scale of volatility while simul\n",
        "    \"layers\": [2,2],              # layers of the NN\n",
        "    \"learning_rate\": lr_schedule, # learning rate schedule\n",
        "    \"seed\": 48,                   # random seed, set to whatever int.\n",
        "    \"run_name\": \"rbc_Dec30_ly2x2mc32ppe128eps4\",\n",
        "    \"date\": \"December_30\",\n",
        "    \"working_dir\": \"/content/drive/MyDrive/Jaxecon/Rbc/Training/\" # replace with your folder\n",
        "}\n",
        "\n",
        "# PRINT AND PLOT KEY CONFIGS\n",
        "print(\"Number of parameters:\")\n",
        "print(NeuralNet(config[\"layers\"] + [Model().n_actions]).tabulate(\n",
        "    random.PRNGKey(0),\n",
        "    Model().initial_obs(random.PRNGKey(0))\n",
        "    ))\n",
        "\n",
        "print(\"Number of steps (NN updates): \\n\", config[\"steps_per_epoch\"]*config[\"n_epochs\"], \"episodes \\n\")\n",
        "\n",
        "print(\"Learning rate schedule:\")\n",
        "plt.plot(\n",
        "    [i*config[\"steps_per_epoch\"] for i in range(config[\"n_epochs\"])],\n",
        "    [config[\"learning_rate\"](i*config[\"steps_per_epoch\"]) for i in range(config[\"n_epochs\"])]\n",
        "    )\n",
        "plt.xlabel('Episodes (NN updates)')\n",
        "plt.ylabel('Learning Rate')"
      ]
    },
    {
      "cell_type": "markdown",
      "metadata": {
        "id": "CEAiCNRxC1AJ"
      },
      "source": [
        "## 5. Create and Run experiment\n",
        "Now we the entire experiment workflow as a function to call later."
      ]
    },
    {
      "cell_type": "code",
      "source": [
        "def run_experiment(env, config):\n",
        "  \"\"\"Runs experiment.\"\"\"\n",
        "\n",
        "  n_cores = len(jax.devices())  # get available TPU cores.\n",
        "\n",
        "  # CREATE NN, RNGS, TRAIN_STATE AND EPOQUE UPDATE\n",
        "  nn = NeuralNet(config[\"layers\"] + [env.n_actions])\n",
        "  rng, rng_pol, rng_env, rng_epoch = random.split(random.PRNGKey(config[\"seed\"]), num=4)  # random number generator\n",
        "  train_state = TrainState.create(apply_fn=nn.apply, params=nn.init(rng_pol, env.initial_obs(rng_env)), tx=optax.adam(config[\"learning_rate\"]))\n",
        "  epoch_update = jax.jit(get_epoch_update_fn(env, config))\n",
        "\n",
        "  # COMPILE CODE\n",
        "  time_start = time()\n",
        "  epoch_update(train_state, rng_epoch)  # compiles\n",
        "  time_compilation = time() - time_start\n",
        "  print(\"Time Elapsed for Compilation:\", time_compilation, \"seconds\")\n",
        "\n",
        "  # RUN AN EPOCH TO GET TIME STATS\n",
        "  time_start = time()\n",
        "  epoch_update(train_state, rng_epoch) # run one epoque\n",
        "  time_epoch = time() - time_start\n",
        "  print(\"Time Elapsed for epoch:\", time_epoch, \"seconds\")\n",
        "  print(\"Steps per second:\",\n",
        "        n_cores*config[\"steps_per_epoch\"]*config[\"epis_per_step\"]*config[\"periods_per_epis\"]/time_epoch, \"st/s\")\n",
        "\n",
        "  # CREATE LISTS TO STORE METRICS\n",
        "  mean_losses, mean_accuracy, min_accuracy = [], [], []\n",
        "\n",
        "  # RUN ALL THE EPOCHS\n",
        "  time_start = time()\n",
        "  for i in range(1,config[\"n_epochs\"]+1):\n",
        "    train_state, rng_epoch, epoch_metrics = epoch_update(train_state, rng_epoch)\n",
        "\n",
        "    mean_losses.append(float(jnp.mean(epoch_metrics[:,0])))\n",
        "    mean_accuracy.append(float(jnp.mean(epoch_metrics[:,1])))\n",
        "    min_accuracy.append(float(jnp.min(epoch_metrics[:,2])))\n",
        "\n",
        "    print('Iteration:', i*config[\"steps_per_epoch\"],\n",
        "          \", Mean_loss:\", jnp.mean(epoch_metrics[:,0]),\n",
        "          \", Mean_accuracy:\", jnp.mean(epoch_metrics[:,1]),\n",
        "          \", Min_accuracy:\", jnp.min(epoch_metrics[:,2]),\n",
        "          \", Learning rate:\", config[\"learning_rate\"](i*config[\"steps_per_epoch\"]),\n",
        "          \"\\n\"\n",
        "          )\n",
        "\n",
        "  # STORE RESULTS\n",
        "  print(\"Minimum loss attained in training:\", min(mean_losses))\n",
        "  print(\"Maximum mean accuracy attained in training:\", max(mean_accuracy))\n",
        "  print(\"Maximum min accuracy attained in training:\", max(min_accuracy))\n",
        "\n",
        "  time_fullexp = (time() - time_start)/60\n",
        "  print(\"Time Elapsed for Full Experiment:\", time_fullexp, \"minutes\")\n",
        "\n",
        "  results = {\n",
        "      \"min_loss\":  min(mean_losses),\n",
        "      \"max_mean_acc\": max(mean_accuracy),\n",
        "      \"max_min_acc\": max(min_accuracy),\n",
        "      \"Time for Full Experiment (m)\": time_fullexp,\n",
        "      \"Time for epoch (s)\": time_epoch,\n",
        "      \"Time for Compilation (s)\": time_compilation,\n",
        "      \"Steps per second\": n_cores * config[\"steps_per_epoch\"] * config[\"periods_per_epis\"]/time_epoch,\n",
        "      \"n_cores\": n_cores,\n",
        "      \"periods_per_epis\": config[\"periods_per_epis\"],\n",
        "      \"epis_per_step\": config[\"epis_per_step\"],\n",
        "      \"steps_per_epoch\": config[\"steps_per_epoch\"],\n",
        "      \"n_epochs\": config[\"n_epochs\"],\n",
        "      \"mc_draws\": config[\"mc_draws\"],\n",
        "      \"layers\": config[\"layers\"],\n",
        "      \"date\": config[\"date\"],\n",
        "      \"seed\": config[\"seed\"],\n",
        "      \"Losses_list\": mean_losses,\n",
        "      \"mean_accuracy_list\": mean_accuracy,\n",
        "      \"min_accuracy_list\": min_accuracy,\n",
        "  }\n",
        "\n",
        "  if not os.path.exists(config['working_dir']+config['run_name']):\n",
        "    os.mkdir(config['working_dir']+config['run_name'])\n",
        "  with open(config['working_dir']+config['run_name']+\"/results.json\", \"w\") as write_file:\n",
        "    json.dump(results, write_file)\n",
        "\n",
        "  # store checkpoint\n",
        "  checkpoints.save_checkpoint(ckpt_dir=config['working_dir']+config['run_name'], target=train_state, step=config[\"n_epochs\"]*config[\"steps_per_epoch\"])\n",
        "\n",
        "  # PLOT LEARNING\n",
        "\n",
        "  # Mean Losses\n",
        "  plt.plot([(i)*config[\"steps_per_epoch\"] for i in range(len(mean_losses))], mean_losses)\n",
        "  plt.xlabel('Episodes (NN updates)')\n",
        "  plt.ylabel('Mean Losses')\n",
        "  plt.savefig(config['working_dir']+config['run_name']+'/mean_losses.jpg')\n",
        "  plt.close()\n",
        "\n",
        "  # Mean Accuracy\n",
        "  plt.plot([(i)*config[\"steps_per_epoch\"] for i in range(len(mean_accuracy))], mean_accuracy)\n",
        "  plt.xlabel('Episodes (NN updates)')\n",
        "  plt.ylabel('Mean Accuracy (%)')\n",
        "  plt.savefig(config['working_dir']+config['run_name']+'/mean_accuracy.jpg')\n",
        "  plt.close()\n",
        "\n",
        "  # Min Accuracy\n",
        "  plt.plot([(i)*config[\"steps_per_epoch\"] for i in range(len(min_accuracy))], min_accuracy)\n",
        "  plt.xlabel('Episodes (NN updates)')\n",
        "  plt.ylabel('Minimum Accuracy (%)')\n",
        "  plt.savefig(config['working_dir']+config['run_name']+'/min_accuracy.jpg')\n",
        "  plt.close()\n",
        "\n",
        "  # Learning rate schedule\n",
        "  plt.plot([i*config[\"steps_per_epoch\"] for i in range(len(mean_losses))], [config[\"learning_rate\"](i*config[\"steps_per_epoch\"]) for i in range(len(mean_losses))])\n",
        "  plt.xlabel('Episodes (NN updates)')\n",
        "  plt.ylabel('Learning Rate')\n",
        "  plt.savefig(config['working_dir']+config['run_name']+'/learning_rate.jpg')\n",
        "  plt.close()\n",
        "\n",
        "  return train_state"
      ],
      "metadata": {
        "id": "tw69_Ic-dcVr"
      },
      "execution_count": 6,
      "outputs": []
    },
    {
      "cell_type": "markdown",
      "source": [
        "Fimally, we run the experiment and get the trained parameter plus useful info."
      ],
      "metadata": {
        "id": "WdkzmdmHk_Il"
      }
    },
    {
      "cell_type": "code",
      "execution_count": 7,
      "metadata": {
        "id": "awmY1xXgDOcU",
        "colab": {
          "base_uri": "https://localhost:8080/"
        },
        "outputId": "bf473626-1840-4137-d7e6-4876e1c3108d"
      },
      "outputs": [
        {
          "output_type": "stream",
          "name": "stdout",
          "text": [
            "Time Elapsed for Compilation: 6.218074560165405 seconds\n",
            "Time Elapsed for epoch: 0.18366432189941406 seconds\n",
            "Steps per second: 278769.4391077233 st/s\n",
            "Iteration: 100 , Mean_loss: 1.2683235e-05 , Mean_accuracy: 0.9979832 , Min_accuracy: 0.97128725 , Learning rate: 0.05 \n",
            "\n",
            "Iteration: 200 , Mean_loss: 5.292878e-07 , Mean_accuracy: 0.99957484 , Min_accuracy: 0.99041706 , Learning rate: 0.05 \n",
            "\n",
            "Iteration: 300 , Mean_loss: 3.8755985e-07 , Mean_accuracy: 0.9995843 , Min_accuracy: 0.99149275 , Learning rate: 0.05 \n",
            "\n",
            "Iteration: 400 , Mean_loss: 3.2663579e-07 , Mean_accuracy: 0.9995895 , Min_accuracy: 0.9949913 , Learning rate: 0.05 \n",
            "\n",
            "Iteration: 500 , Mean_loss: 3.5850175e-07 , Mean_accuracy: 0.9995828 , Min_accuracy: 0.99207985 , Learning rate: 0.005 \n",
            "\n",
            "Iteration: 600 , Mean_loss: 3.236997e-07 , Mean_accuracy: 0.99959135 , Min_accuracy: 0.994445 , Learning rate: 0.005 \n",
            "\n",
            "Iteration: 700 , Mean_loss: 3.3725394e-07 , Mean_accuracy: 0.999588 , Min_accuracy: 0.9939214 , Learning rate: 0.005 \n",
            "\n",
            "Iteration: 800 , Mean_loss: 2.811962e-07 , Mean_accuracy: 0.9995981 , Min_accuracy: 0.9947823 , Learning rate: 0.0005 \n",
            "\n",
            "Iteration: 900 , Mean_loss: 3.056946e-07 , Mean_accuracy: 0.9995908 , Min_accuracy: 0.9942421 , Learning rate: 0.0005 \n",
            "\n",
            "Iteration: 1000 , Mean_loss: 2.8740175e-07 , Mean_accuracy: 0.99959636 , Min_accuracy: 0.99500954 , Learning rate: 0.0005 \n",
            "\n",
            "Minimum loss attained in training: 2.811962076521013e-07\n",
            "Maximum mean accuracy attained in training: 0.9995980858802795\n",
            "Maximum min accuracy attained in training: 0.9950095415115356\n",
            "Time Elapsed for Full Experiment: 0.024363478024800617 minutes\n"
          ]
        }
      ],
      "source": [
        "final_train_state = run_experiment(Model(), config)\n",
        "\n",
        "# DISCONNECT SESSION (uncomment next 2 lines if you do large run)\n",
        "# from google.colab import runtime\n",
        "# runtime.unassign()"
      ]
    },
    {
      "cell_type": "markdown",
      "source": [
        "## 6. Simulate"
      ],
      "metadata": {
        "id": "uCl6x_gesykv"
      }
    },
    {
      "cell_type": "code",
      "source": [
        "# CONFIG SIMUL FUNCTION\n",
        "config_simul = {\n",
        "    \"periods\": 10000,              # periods per episode\n",
        "    \"mc_draws\": 256,               # only applies if shock is continuous\n",
        "}\n",
        "\n",
        "# CREATE SIMUL FUNCTION\n",
        "def get_simul_fn(env, config):\n",
        "\n",
        "  def sample_simul_obs(train_state, epis_rng):\n",
        "    \"sample obs of an episode\"\n",
        "    env_obs = jnp.zeros_like(env.obs_ss)\n",
        "    epis_rng, *period_rngs = random.split(epis_rng, config[\"periods\"]+1)\n",
        "    def period_step(env_obs, period_rng):\n",
        "      policy = train_state.apply_fn(train_state.params, env_obs)                 # calculate policy\n",
        "      period_shock = env.sample_shock(period_rng)         # Sample next obs\n",
        "      obs_next = env.step(env_obs, policy, period_shock)  # apply period steps.\n",
        "      return obs_next, obs_next # we pass it two times because of the syntax of the lax.scan loop\n",
        "    _, epis_obs = lax.scan(period_step, env_obs, jnp.stack(period_rngs)) # we get the obs_batch\n",
        "    return epis_obs\n",
        "\n",
        "  def simul_loss(params, nn_policy, epis_rng, obs_batch):\n",
        "    \"\"\"Loss function of an episode, which has periods_per_epis time periods.\"\"\"\n",
        "    epis_rng, *period_mc_rngs = random.split(epis_rng, config[\"periods\"]+1)\n",
        "    policies_batch = nn_policy(params, obs_batch) # get the policies for the entire obs batch.\n",
        "\n",
        "    def period_loss(obs, policy, period_mc_rng):\n",
        "      \"\"\"Loss function for an individual period.\"\"\"\n",
        "      mc_shocks = env.mc_shocks(period_mc_rng, config[\"mc_draws\"])\n",
        "      mc_nextobs = jax.vmap(env.step, in_axes = (None,None,0))(obs, policy, mc_shocks)\n",
        "      mc_nextpols = nn_policy(params, mc_nextobs)\n",
        "      expect = jnp.mean(jax.vmap(env.expect_realization)(mc_nextobs, mc_nextpols))\n",
        "      mean_loss, mean_accuracy, min_accuracy = env.loss(obs, expect, policy) # calculate loss\n",
        "      return mean_loss, mean_accuracy, min_accuracy\n",
        "\n",
        "    # parallelize callculation of period_loss for the entire batch\n",
        "    mean_losses, mean_accuracies, min_accuracies = jax.vmap(period_loss)(obs_batch, policies_batch, jnp.stack(period_mc_rngs))\n",
        "    return mean_losses, mean_accuracies, min_accuracies\n",
        "\n",
        "  def simul_fn(train_state, epis_rng):\n",
        "    \"\"\"Get obs for simul and then calculate loss function\"\"\"\n",
        "    simul_obs = sample_simul_obs(train_state, epis_rng)\n",
        "    _, simul_accuracies, _  = simul_loss(train_state.params, train_state.apply_fn, epis_rng, simul_obs)\n",
        "    return simul_obs, simul_accuracies\n",
        "\n",
        "  return simul_fn\n",
        "\n",
        "# RUN SIMUL\n",
        "rng_simul = random.PRNGKey(1)\n",
        "env_simul = Model()\n",
        "simul_fn = jax.jit(get_simul_fn(env_simul, config_simul))\n",
        "simul_obs, simul_accuracies = simul_fn(final_train_state, rng_simul)\n",
        "\n",
        "# GET STATISTICS\n",
        "obs_quantiles = jnp.quantile(simul_obs, jnp.array([0.1,0.25,0.5,0.75,0.9]), axis=0)\n",
        "acc_quantiles = jnp.quantile(simul_accuracies, jnp.array([0.1,0.25,0.5,0.75,0.9]))\n",
        "print('Observations Quantiles (10%,25%,50%,75%,90%)', obs_quantiles)\n",
        "print('Minimum Accuracy', jnp.min(simul_accuracies))\n",
        "print('Accuracies Quantiles (10%,25%,50%,75%,90%)', acc_quantiles)\n",
        "\n",
        "# HISTOGRAM OF ACCURACIES\n",
        "counts, bins = jnp.histogram(simul_accuracies)\n",
        "freqs = counts/config_simul[\"periods\"]\n",
        "fig = plt.figure()\n",
        "ax = fig.add_axes([0,0,1,1])\n",
        "ax.hist(bins[:-1], bins, weights=freqs)\n",
        "plt.xlabel('Accuracy')\n",
        "plt.ylabel('Frequency')\n",
        "# plt.show\n",
        "fig.savefig(config['working_dir']+config['run_name']+'/acurracy_hists.jpg', bbox_inches=\"tight\", pad_inches=1)\n"
      ],
      "metadata": {
        "id": "zdt21KpZs8B7",
        "colab": {
          "base_uri": "https://localhost:8080/",
          "height": 681
        },
        "outputId": "6dda056f-7a13-4ff1-f04e-cb3f8b105348"
      },
      "execution_count": 8,
      "outputs": [
        {
          "output_type": "stream",
          "name": "stdout",
          "text": [
            "Observations Quantiles (10%,25%,50%,75%,90%) [[-0.04018307 -0.02931404]\n",
            " [-0.02144587 -0.01500161]\n",
            " [-0.00150549  0.00028353]\n",
            " [ 0.01804399  0.0155461 ]\n",
            " [ 0.0353108   0.02872955]]\n",
            "Minimum Accuracy 0.99835885\n",
            "Accuracies Quantiles (10%,25%,50%,75%,90%) [0.9996592  0.9997582  0.9998561  0.99993134 0.99997276]\n"
          ]
        },
        {
          "output_type": "display_data",
          "data": {
            "text/plain": [
              "<Figure size 640x480 with 1 Axes>"
            ],
            "image/png": "[encoded data removed]"
          },
          "metadata": {}
        }
      ]
    },
    {
      "cell_type": "markdown",
      "source": [
        "## 7. Evaluate Accuracy of MC Estimation"
      ],
      "metadata": {
        "id": "aJDp4kuLHqyO"
      }
    },
    {
      "cell_type": "code",
      "source": [
        "# evaluate montecarlo estimation of expectation\n",
        "env = Model()\n",
        "rng_mc = random.PRNGKey(0)\n",
        "params_test = final_train_state.params # Choose parameteres to test\n",
        "nn_policy_test = final_train_state.apply_fn\n",
        "\n",
        "def get_expectation_fn(nn_policy, params, env):\n",
        "  def expectation(n_draws, rng,  obs):\n",
        "    policy = nn_policy(params, obs)\n",
        "    mc_obs = env.mc_shocks(rng, mc_draws=n_draws)\n",
        "    mc_nextobs = jax.vmap(env.step, in_axes=(None, None,0))(obs, policy, mc_obs)\n",
        "    mc_nextpols = nn_policy(params,jnp.stack(mc_nextobs))\n",
        "    exp = jnp.mean(jax.vmap(env.expect_realization)(mc_nextobs, mc_nextpols))\n",
        "    return exp\n",
        "  return expectation\n",
        "\n",
        "rng_mc, *mc_rngs = jax.random.split(rng_mc, 100 + 1)\n",
        "\n",
        "# obs_list = list(obs_quantiles)\n",
        "obs_list = [env.initial_obs(rng_mc)]\n",
        "n_draws_list = [1,4,16,64,256]\n",
        "# n_draws_list = [500, 1000]\n",
        "rng_list =list(mc_rngs)\n",
        "\n",
        "mc_explist = {n_draws_list[i]: [] for i in range(len(n_draws_list))}\n",
        "mc_error = {f\"error_{n_draws_list[i]}_draws\": [] for i in range(len(n_draws_list))}\n",
        "for i in range(len(n_draws_list)):\n",
        "  for j in range(len(rng_list)):\n",
        "    for k in range(len(obs_list)):\n",
        "      # exp_jitted = jax.jit(get_expectation_fn(nn_forward, params, env)).lower(n_draws_list[i], rng_list[j], obs_list[k]).compile\n",
        "      mc_explist[n_draws_list[i]].append(get_expectation_fn(nn_policy_test, params_test, env)(n_draws_list[i], rng_list[j],  obs_list[k]))\n",
        "      # mc_eval[(i,j,k)] = exp_jitted(n_draws_list[i], rng_list[j],  obs_list[k])\n",
        "  mc_error[f\"error_{n_draws_list[i]}_draws\"] = jnp.std(jnp.array(mc_explist[n_draws_list[i]]))\n",
        "print(mc_error)\n",
        "\n",
        "error_list = [float(mc_error[f\"error_{n_draws_list[i]}_draws\"]) for i in range(len(n_draws_list))]\n",
        "print(error_list)\n",
        "n_drawsstr_list = [str(n_draws_list[i]) for i in range(len(n_draws_list))]\n",
        "fig = plt.figure()\n",
        "ax = fig.add_axes([0,0,1,1])\n",
        "ax.bar(n_drawsstr_list, error_list)\n",
        "plt.xlabel('Number of Montecarlo draws')\n",
        "plt.ylabel('Standard Deviation of expectations')\n",
        "# plt.show\n",
        "fig.savefig(config['working_dir']+config['run_name']+'/mc_eval.jpg', bbox_inches=\"tight\", pad_inches=1)\n"
      ],
      "metadata": {
        "id": "dq6XyondH93j",
        "colab": {
          "base_uri": "https://localhost:8080/",
          "height": 614
        },
        "outputId": "278c1dd1-dad3-4dc4-c016-645a40d8c2cc"
      },
      "execution_count": 9,
      "outputs": [
        {
          "output_type": "stream",
          "name": "stdout",
          "text": [
            "{'error_1_draws': Array(0.00123086, dtype=float32), 'error_4_draws': Array(0.00052709, dtype=float32), 'error_16_draws': Array(0.00033456, dtype=float32), 'error_64_draws': Array(0.00014887, dtype=float32), 'error_256_draws': Array(7.780886e-05, dtype=float32)}\n",
            "[0.0012308551231399179, 0.0005270869005471468, 0.0003345642180647701, 0.00014886827557347715, 7.78088578954339e-05]\n"
          ]
        },
        {
          "output_type": "display_data",
          "data": {
            "text/plain": [
              "<Figure size 640x480 with 1 Axes>"
            ],
            "image/png": "[encoded data removed]"
          },
          "metadata": {}
        }
      ]
    },
    {
      "cell_type": "markdown",
      "source": [
        "## 8. Impulse Responses"
      ],
      "metadata": {
        "id": "ZmnpWXEr-1sT"
      }
    },
    {
      "cell_type": "code",
      "source": [
        "# Impulse responses of dynare policy vs learned policy\n",
        "env = Model()\n",
        "\n",
        "ir_shocks = env.ir_shocks()\n",
        "print(\"shape of ir shocks:\", ir_shocks.shape)\n",
        "\n",
        "def ir(env, train_state, shocks):\n",
        "  def step(obs, shock):\n",
        "    policy = train_state.apply_fn(train_state.params, obs)\n",
        "    next_obs = env.step(obs, policy, shock)\n",
        "    obs_pol_pair = (obs,policy)\n",
        "    return next_obs, obs_pol_pair\n",
        "  obs_init = jnp.zeros_like(env.obs_ss)\n",
        "  final_obs, obs_pol_pairs = lax.scan(step, obs_init, shocks)\n",
        "  return final_obs, obs_pol_pairs\n",
        "\n",
        "ir_final_obs, ir_obs_pol_pairs = jax.vmap(ir, in_axes = (None,None,0))(env, final_train_state, ir_shocks)\n",
        "ir_obs, ir_policy = ir_obs_pol_pairs\n",
        "\n",
        "# PLOT\n",
        "ir_index = 0 # choose the IR exercise\n",
        "obs_index = 0 # choose the obs to plot\n",
        "obs_label = f\"Observation {obs_index}\" # create label\n",
        "policy_index = 0 # choose the policy to plot\n",
        "policy_label = f\"Policy {policy_index}\" # create label\n",
        "# plot obs\n",
        "plt.plot(list(range(40)), ir_obs[ir_index,:,obs_index], label =\"observation\")\n",
        "plt.savefig(config['working_dir']+config['run_name']+'/IRobs.jpg')\n",
        "plt.xlabel(\"Period\")\n",
        "plt.ylabel(obs_label)\n",
        "plt.show()\n",
        "#plot policy\n",
        "plt.plot(list(range(40)), ir_policy[0,:,policy_index], label =\"policy\")\n",
        "plt.savefig(config['working_dir']+config['run_name']+'/IRpolicy.jpg')\n",
        "plt.xlabel(\"Period\")\n",
        "plt.ylabel(policy_label)\n",
        "plt.show()\n"
      ],
      "metadata": {
        "id": "mmBJ9LxS-54A",
        "colab": {
          "base_uri": "https://localhost:8080/",
          "height": 898
        },
        "outputId": "88cb6992-3250-4139-f11c-410e3fc85015"
      },
      "execution_count": 10,
      "outputs": [
        {
          "output_type": "stream",
          "name": "stdout",
          "text": [
            "shape of ir shocks: (2, 40, 1)\n"
          ]
        },
        {
          "output_type": "display_data",
          "data": {
            "text/plain": [
              "<Figure size 640x480 with 1 Axes>"
            ],
            "image/png": "[encoded data removed]"
          },
          "metadata": {}
        },
        {
          "output_type": "display_data",
          "data": {
            "text/plain": [
              "<Figure size 640x480 with 1 Axes>"
            ],
            "image/png": "[encoded data removed]"
          },
          "metadata": {}
        }
      ]
    }
  ],
  "metadata": {
    "colab": {
      "provenance": [],
      "collapsed_sections": [
        "Fz-RH8Wt23Rz",
        "JYEia3OD-Lij"
      ],
      "toc_visible": true,
      "gpuClass": "premium",
      "include_colab_link": true
    },
    "gpuClass": "premium",
    "kernelspec": {
      "display_name": "Python 3",
      "name": "python3"
    },
    "language_info": {
      "name": "python"
    }
  },
  "nbformat": 4,
  "nbformat_minor": 0
}